{
  "nbformat": 4,
  "nbformat_minor": 0,
  "metadata": {
    "accelerator": "GPU",
    "colab": {
      "name": "vector.ai task",
      "provenance": []
    },
    "kernelspec": {
      "display_name": "Python 3",
      "name": "python3"
    },
    "language_info": {
      "name": "python"
    },
    "widgets": {
      "application/vnd.jupyter.widget-state+json": {
        "964849696f6c45bb86908e1134c72c12": {
          "model_module": "@jupyter-widgets/controls",
          "model_name": "HBoxModel",
          "model_module_version": "1.5.0",
          "state": {
            "_view_name": "HBoxView",
            "_dom_classes": [],
            "_model_name": "HBoxModel",
            "_view_module": "@jupyter-widgets/controls",
            "_model_module_version": "1.5.0",
            "_view_count": null,
            "_view_module_version": "1.5.0",
            "box_style": "",
            "layout": "IPY_MODEL_d00e2ce0fb24431bb2364eb3b95d96b7",
            "_model_module": "@jupyter-widgets/controls",
            "children": [
              "IPY_MODEL_303ebd18205249268f8ee0f230d431b1",
              "IPY_MODEL_ca214b2cee874250af2cd5a10892c26a",
              "IPY_MODEL_e234b4b18682413a8ce8bc5a756a2a36"
            ]
          }
        },
        "d00e2ce0fb24431bb2364eb3b95d96b7": {
          "model_module": "@jupyter-widgets/base",
          "model_name": "LayoutModel",
          "model_module_version": "1.2.0",
          "state": {
            "_view_name": "LayoutView",
            "grid_template_rows": null,
            "right": null,
            "justify_content": null,
            "_view_module": "@jupyter-widgets/base",
            "overflow": null,
            "_model_module_version": "1.2.0",
            "_view_count": null,
            "flex_flow": null,
            "width": null,
            "min_width": null,
            "border": null,
            "align_items": null,
            "bottom": null,
            "_model_module": "@jupyter-widgets/base",
            "top": null,
            "grid_column": null,
            "overflow_y": null,
            "overflow_x": null,
            "grid_auto_flow": null,
            "grid_area": null,
            "grid_template_columns": null,
            "flex": null,
            "_model_name": "LayoutModel",
            "justify_items": null,
            "grid_row": null,
            "max_height": null,
            "align_content": null,
            "visibility": null,
            "align_self": null,
            "height": null,
            "min_height": null,
            "padding": null,
            "grid_auto_rows": null,
            "grid_gap": null,
            "max_width": null,
            "order": null,
            "_view_module_version": "1.2.0",
            "grid_template_areas": null,
            "object_position": null,
            "object_fit": null,
            "grid_auto_columns": null,
            "margin": null,
            "display": null,
            "left": null
          }
        },
        "303ebd18205249268f8ee0f230d431b1": {
          "model_module": "@jupyter-widgets/controls",
          "model_name": "HTMLModel",
          "model_module_version": "1.5.0",
          "state": {
            "_view_name": "HTMLView",
            "style": "IPY_MODEL_0969496ee4d24f1684d2288107371a0f",
            "_dom_classes": [],
            "description": "",
            "_model_name": "HTMLModel",
            "placeholder": "​",
            "_view_module": "@jupyter-widgets/controls",
            "_model_module_version": "1.5.0",
            "value": "Dl Completed...: ",
            "_view_count": null,
            "_view_module_version": "1.5.0",
            "description_tooltip": null,
            "_model_module": "@jupyter-widgets/controls",
            "layout": "IPY_MODEL_a9155dbfc48443c5b6a4ada34f1ec9c7"
          }
        },
        "ca214b2cee874250af2cd5a10892c26a": {
          "model_module": "@jupyter-widgets/controls",
          "model_name": "FloatProgressModel",
          "model_module_version": "1.5.0",
          "state": {
            "_view_name": "ProgressView",
            "style": "IPY_MODEL_af0368fb182a47448539f558a9dc50b3",
            "_dom_classes": [],
            "description": "",
            "_model_name": "FloatProgressModel",
            "bar_style": "success",
            "max": 1,
            "_view_module": "@jupyter-widgets/controls",
            "_model_module_version": "1.5.0",
            "value": 0,
            "_view_count": null,
            "_view_module_version": "1.5.0",
            "orientation": "horizontal",
            "min": 0,
            "description_tooltip": null,
            "_model_module": "@jupyter-widgets/controls",
            "layout": "IPY_MODEL_f497e4ae4850406da5903e3e73a00b11"
          }
        },
        "e234b4b18682413a8ce8bc5a756a2a36": {
          "model_module": "@jupyter-widgets/controls",
          "model_name": "HTMLModel",
          "model_module_version": "1.5.0",
          "state": {
            "_view_name": "HTMLView",
            "style": "IPY_MODEL_703783cea9ec40c28d7444924235ff7f",
            "_dom_classes": [],
            "description": "",
            "_model_name": "HTMLModel",
            "placeholder": "​",
            "_view_module": "@jupyter-widgets/controls",
            "_model_module_version": "1.5.0",
            "value": " 0/0 [00:00&lt;?, ? url/s]",
            "_view_count": null,
            "_view_module_version": "1.5.0",
            "description_tooltip": null,
            "_model_module": "@jupyter-widgets/controls",
            "layout": "IPY_MODEL_15da5c58f9c7490183e7ac3b9b2b1d8f"
          }
        },
        "0969496ee4d24f1684d2288107371a0f": {
          "model_module": "@jupyter-widgets/controls",
          "model_name": "DescriptionStyleModel",
          "model_module_version": "1.5.0",
          "state": {
            "_view_name": "StyleView",
            "_model_name": "DescriptionStyleModel",
            "description_width": "",
            "_view_module": "@jupyter-widgets/base",
            "_model_module_version": "1.5.0",
            "_view_count": null,
            "_view_module_version": "1.2.0",
            "_model_module": "@jupyter-widgets/controls"
          }
        },
        "a9155dbfc48443c5b6a4ada34f1ec9c7": {
          "model_module": "@jupyter-widgets/base",
          "model_name": "LayoutModel",
          "model_module_version": "1.2.0",
          "state": {
            "_view_name": "LayoutView",
            "grid_template_rows": null,
            "right": null,
            "justify_content": null,
            "_view_module": "@jupyter-widgets/base",
            "overflow": null,
            "_model_module_version": "1.2.0",
            "_view_count": null,
            "flex_flow": null,
            "width": null,
            "min_width": null,
            "border": null,
            "align_items": null,
            "bottom": null,
            "_model_module": "@jupyter-widgets/base",
            "top": null,
            "grid_column": null,
            "overflow_y": null,
            "overflow_x": null,
            "grid_auto_flow": null,
            "grid_area": null,
            "grid_template_columns": null,
            "flex": null,
            "_model_name": "LayoutModel",
            "justify_items": null,
            "grid_row": null,
            "max_height": null,
            "align_content": null,
            "visibility": null,
            "align_self": null,
            "height": null,
            "min_height": null,
            "padding": null,
            "grid_auto_rows": null,
            "grid_gap": null,
            "max_width": null,
            "order": null,
            "_view_module_version": "1.2.0",
            "grid_template_areas": null,
            "object_position": null,
            "object_fit": null,
            "grid_auto_columns": null,
            "margin": null,
            "display": null,
            "left": null
          }
        },
        "af0368fb182a47448539f558a9dc50b3": {
          "model_module": "@jupyter-widgets/controls",
          "model_name": "ProgressStyleModel",
          "model_module_version": "1.5.0",
          "state": {
            "_view_name": "StyleView",
            "_model_name": "ProgressStyleModel",
            "description_width": "",
            "_view_module": "@jupyter-widgets/base",
            "_model_module_version": "1.5.0",
            "_view_count": null,
            "_view_module_version": "1.2.0",
            "bar_color": null,
            "_model_module": "@jupyter-widgets/controls"
          }
        },
        "f497e4ae4850406da5903e3e73a00b11": {
          "model_module": "@jupyter-widgets/base",
          "model_name": "LayoutModel",
          "model_module_version": "1.2.0",
          "state": {
            "_view_name": "LayoutView",
            "grid_template_rows": null,
            "right": null,
            "justify_content": null,
            "_view_module": "@jupyter-widgets/base",
            "overflow": null,
            "_model_module_version": "1.2.0",
            "_view_count": null,
            "flex_flow": null,
            "width": "20px",
            "min_width": null,
            "border": null,
            "align_items": null,
            "bottom": null,
            "_model_module": "@jupyter-widgets/base",
            "top": null,
            "grid_column": null,
            "overflow_y": null,
            "overflow_x": null,
            "grid_auto_flow": null,
            "grid_area": null,
            "grid_template_columns": null,
            "flex": null,
            "_model_name": "LayoutModel",
            "justify_items": null,
            "grid_row": null,
            "max_height": null,
            "align_content": null,
            "visibility": null,
            "align_self": null,
            "height": null,
            "min_height": null,
            "padding": null,
            "grid_auto_rows": null,
            "grid_gap": null,
            "max_width": null,
            "order": null,
            "_view_module_version": "1.2.0",
            "grid_template_areas": null,
            "object_position": null,
            "object_fit": null,
            "grid_auto_columns": null,
            "margin": null,
            "display": null,
            "left": null
          }
        },
        "703783cea9ec40c28d7444924235ff7f": {
          "model_module": "@jupyter-widgets/controls",
          "model_name": "DescriptionStyleModel",
          "model_module_version": "1.5.0",
          "state": {
            "_view_name": "StyleView",
            "_model_name": "DescriptionStyleModel",
            "description_width": "",
            "_view_module": "@jupyter-widgets/base",
            "_model_module_version": "1.5.0",
            "_view_count": null,
            "_view_module_version": "1.2.0",
            "_model_module": "@jupyter-widgets/controls"
          }
        },
        "15da5c58f9c7490183e7ac3b9b2b1d8f": {
          "model_module": "@jupyter-widgets/base",
          "model_name": "LayoutModel",
          "model_module_version": "1.2.0",
          "state": {
            "_view_name": "LayoutView",
            "grid_template_rows": null,
            "right": null,
            "justify_content": null,
            "_view_module": "@jupyter-widgets/base",
            "overflow": null,
            "_model_module_version": "1.2.0",
            "_view_count": null,
            "flex_flow": null,
            "width": null,
            "min_width": null,
            "border": null,
            "align_items": null,
            "bottom": null,
            "_model_module": "@jupyter-widgets/base",
            "top": null,
            "grid_column": null,
            "overflow_y": null,
            "overflow_x": null,
            "grid_auto_flow": null,
            "grid_area": null,
            "grid_template_columns": null,
            "flex": null,
            "_model_name": "LayoutModel",
            "justify_items": null,
            "grid_row": null,
            "max_height": null,
            "align_content": null,
            "visibility": null,
            "align_self": null,
            "height": null,
            "min_height": null,
            "padding": null,
            "grid_auto_rows": null,
            "grid_gap": null,
            "max_width": null,
            "order": null,
            "_view_module_version": "1.2.0",
            "grid_template_areas": null,
            "object_position": null,
            "object_fit": null,
            "grid_auto_columns": null,
            "margin": null,
            "display": null,
            "left": null
          }
        },
        "63b3bd8b753a43cf991ef522de8b946c": {
          "model_module": "@jupyter-widgets/controls",
          "model_name": "HBoxModel",
          "model_module_version": "1.5.0",
          "state": {
            "_view_name": "HBoxView",
            "_dom_classes": [],
            "_model_name": "HBoxModel",
            "_view_module": "@jupyter-widgets/controls",
            "_model_module_version": "1.5.0",
            "_view_count": null,
            "_view_module_version": "1.5.0",
            "box_style": "",
            "layout": "IPY_MODEL_e5113989c28845c2a354b2bfe3258ea5",
            "_model_module": "@jupyter-widgets/controls",
            "children": [
              "IPY_MODEL_86999a44e7954e3da2aadb6937c04ac0",
              "IPY_MODEL_0597b2dc3b2548aba23a88306222594c",
              "IPY_MODEL_70ca5daaebe7434e9299cc905e3cb057"
            ]
          }
        },
        "e5113989c28845c2a354b2bfe3258ea5": {
          "model_module": "@jupyter-widgets/base",
          "model_name": "LayoutModel",
          "model_module_version": "1.2.0",
          "state": {
            "_view_name": "LayoutView",
            "grid_template_rows": null,
            "right": null,
            "justify_content": null,
            "_view_module": "@jupyter-widgets/base",
            "overflow": null,
            "_model_module_version": "1.2.0",
            "_view_count": null,
            "flex_flow": null,
            "width": null,
            "min_width": null,
            "border": null,
            "align_items": null,
            "bottom": null,
            "_model_module": "@jupyter-widgets/base",
            "top": null,
            "grid_column": null,
            "overflow_y": null,
            "overflow_x": null,
            "grid_auto_flow": null,
            "grid_area": null,
            "grid_template_columns": null,
            "flex": null,
            "_model_name": "LayoutModel",
            "justify_items": null,
            "grid_row": null,
            "max_height": null,
            "align_content": null,
            "visibility": null,
            "align_self": null,
            "height": null,
            "min_height": null,
            "padding": null,
            "grid_auto_rows": null,
            "grid_gap": null,
            "max_width": null,
            "order": null,
            "_view_module_version": "1.2.0",
            "grid_template_areas": null,
            "object_position": null,
            "object_fit": null,
            "grid_auto_columns": null,
            "margin": null,
            "display": null,
            "left": null
          }
        },
        "86999a44e7954e3da2aadb6937c04ac0": {
          "model_module": "@jupyter-widgets/controls",
          "model_name": "HTMLModel",
          "model_module_version": "1.5.0",
          "state": {
            "_view_name": "HTMLView",
            "style": "IPY_MODEL_2dd118cbb3c848e6ab0e04a27d5fc5fb",
            "_dom_classes": [],
            "description": "",
            "_model_name": "HTMLModel",
            "placeholder": "​",
            "_view_module": "@jupyter-widgets/controls",
            "_model_module_version": "1.5.0",
            "value": "Dl Size...: ",
            "_view_count": null,
            "_view_module_version": "1.5.0",
            "description_tooltip": null,
            "_model_module": "@jupyter-widgets/controls",
            "layout": "IPY_MODEL_f9216ef56ddc4eb1a3f99d9e6d839afa"
          }
        },
        "0597b2dc3b2548aba23a88306222594c": {
          "model_module": "@jupyter-widgets/controls",
          "model_name": "FloatProgressModel",
          "model_module_version": "1.5.0",
          "state": {
            "_view_name": "ProgressView",
            "style": "IPY_MODEL_f5f9fce0d4f74a09b5a947a842cfa4f6",
            "_dom_classes": [],
            "description": "",
            "_model_name": "FloatProgressModel",
            "bar_style": "success",
            "max": 1,
            "_view_module": "@jupyter-widgets/controls",
            "_model_module_version": "1.5.0",
            "value": 0,
            "_view_count": null,
            "_view_module_version": "1.5.0",
            "orientation": "horizontal",
            "min": 0,
            "description_tooltip": null,
            "_model_module": "@jupyter-widgets/controls",
            "layout": "IPY_MODEL_c97808683dcf49219b1e67a0a054aad9"
          }
        },
        "70ca5daaebe7434e9299cc905e3cb057": {
          "model_module": "@jupyter-widgets/controls",
          "model_name": "HTMLModel",
          "model_module_version": "1.5.0",
          "state": {
            "_view_name": "HTMLView",
            "style": "IPY_MODEL_408f3318c1364fb9b43f5a6e155d4bf0",
            "_dom_classes": [],
            "description": "",
            "_model_name": "HTMLModel",
            "placeholder": "​",
            "_view_module": "@jupyter-widgets/controls",
            "_model_module_version": "1.5.0",
            "value": " 0/0 [00:00&lt;?, ? MiB/s]",
            "_view_count": null,
            "_view_module_version": "1.5.0",
            "description_tooltip": null,
            "_model_module": "@jupyter-widgets/controls",
            "layout": "IPY_MODEL_6ec35b9340c14b5bbd688fbc3350ded1"
          }
        },
        "2dd118cbb3c848e6ab0e04a27d5fc5fb": {
          "model_module": "@jupyter-widgets/controls",
          "model_name": "DescriptionStyleModel",
          "model_module_version": "1.5.0",
          "state": {
            "_view_name": "StyleView",
            "_model_name": "DescriptionStyleModel",
            "description_width": "",
            "_view_module": "@jupyter-widgets/base",
            "_model_module_version": "1.5.0",
            "_view_count": null,
            "_view_module_version": "1.2.0",
            "_model_module": "@jupyter-widgets/controls"
          }
        },
        "f9216ef56ddc4eb1a3f99d9e6d839afa": {
          "model_module": "@jupyter-widgets/base",
          "model_name": "LayoutModel",
          "model_module_version": "1.2.0",
          "state": {
            "_view_name": "LayoutView",
            "grid_template_rows": null,
            "right": null,
            "justify_content": null,
            "_view_module": "@jupyter-widgets/base",
            "overflow": null,
            "_model_module_version": "1.2.0",
            "_view_count": null,
            "flex_flow": null,
            "width": null,
            "min_width": null,
            "border": null,
            "align_items": null,
            "bottom": null,
            "_model_module": "@jupyter-widgets/base",
            "top": null,
            "grid_column": null,
            "overflow_y": null,
            "overflow_x": null,
            "grid_auto_flow": null,
            "grid_area": null,
            "grid_template_columns": null,
            "flex": null,
            "_model_name": "LayoutModel",
            "justify_items": null,
            "grid_row": null,
            "max_height": null,
            "align_content": null,
            "visibility": null,
            "align_self": null,
            "height": null,
            "min_height": null,
            "padding": null,
            "grid_auto_rows": null,
            "grid_gap": null,
            "max_width": null,
            "order": null,
            "_view_module_version": "1.2.0",
            "grid_template_areas": null,
            "object_position": null,
            "object_fit": null,
            "grid_auto_columns": null,
            "margin": null,
            "display": null,
            "left": null
          }
        },
        "f5f9fce0d4f74a09b5a947a842cfa4f6": {
          "model_module": "@jupyter-widgets/controls",
          "model_name": "ProgressStyleModel",
          "model_module_version": "1.5.0",
          "state": {
            "_view_name": "StyleView",
            "_model_name": "ProgressStyleModel",
            "description_width": "",
            "_view_module": "@jupyter-widgets/base",
            "_model_module_version": "1.5.0",
            "_view_count": null,
            "_view_module_version": "1.2.0",
            "bar_color": null,
            "_model_module": "@jupyter-widgets/controls"
          }
        },
        "c97808683dcf49219b1e67a0a054aad9": {
          "model_module": "@jupyter-widgets/base",
          "model_name": "LayoutModel",
          "model_module_version": "1.2.0",
          "state": {
            "_view_name": "LayoutView",
            "grid_template_rows": null,
            "right": null,
            "justify_content": null,
            "_view_module": "@jupyter-widgets/base",
            "overflow": null,
            "_model_module_version": "1.2.0",
            "_view_count": null,
            "flex_flow": null,
            "width": "20px",
            "min_width": null,
            "border": null,
            "align_items": null,
            "bottom": null,
            "_model_module": "@jupyter-widgets/base",
            "top": null,
            "grid_column": null,
            "overflow_y": null,
            "overflow_x": null,
            "grid_auto_flow": null,
            "grid_area": null,
            "grid_template_columns": null,
            "flex": null,
            "_model_name": "LayoutModel",
            "justify_items": null,
            "grid_row": null,
            "max_height": null,
            "align_content": null,
            "visibility": null,
            "align_self": null,
            "height": null,
            "min_height": null,
            "padding": null,
            "grid_auto_rows": null,
            "grid_gap": null,
            "max_width": null,
            "order": null,
            "_view_module_version": "1.2.0",
            "grid_template_areas": null,
            "object_position": null,
            "object_fit": null,
            "grid_auto_columns": null,
            "margin": null,
            "display": null,
            "left": null
          }
        },
        "408f3318c1364fb9b43f5a6e155d4bf0": {
          "model_module": "@jupyter-widgets/controls",
          "model_name": "DescriptionStyleModel",
          "model_module_version": "1.5.0",
          "state": {
            "_view_name": "StyleView",
            "_model_name": "DescriptionStyleModel",
            "description_width": "",
            "_view_module": "@jupyter-widgets/base",
            "_model_module_version": "1.5.0",
            "_view_count": null,
            "_view_module_version": "1.2.0",
            "_model_module": "@jupyter-widgets/controls"
          }
        },
        "6ec35b9340c14b5bbd688fbc3350ded1": {
          "model_module": "@jupyter-widgets/base",
          "model_name": "LayoutModel",
          "model_module_version": "1.2.0",
          "state": {
            "_view_name": "LayoutView",
            "grid_template_rows": null,
            "right": null,
            "justify_content": null,
            "_view_module": "@jupyter-widgets/base",
            "overflow": null,
            "_model_module_version": "1.2.0",
            "_view_count": null,
            "flex_flow": null,
            "width": null,
            "min_width": null,
            "border": null,
            "align_items": null,
            "bottom": null,
            "_model_module": "@jupyter-widgets/base",
            "top": null,
            "grid_column": null,
            "overflow_y": null,
            "overflow_x": null,
            "grid_auto_flow": null,
            "grid_area": null,
            "grid_template_columns": null,
            "flex": null,
            "_model_name": "LayoutModel",
            "justify_items": null,
            "grid_row": null,
            "max_height": null,
            "align_content": null,
            "visibility": null,
            "align_self": null,
            "height": null,
            "min_height": null,
            "padding": null,
            "grid_auto_rows": null,
            "grid_gap": null,
            "max_width": null,
            "order": null,
            "_view_module_version": "1.2.0",
            "grid_template_areas": null,
            "object_position": null,
            "object_fit": null,
            "grid_auto_columns": null,
            "margin": null,
            "display": null,
            "left": null
          }
        },
        "73ce340873214482b694bbf6e88b0c35": {
          "model_module": "@jupyter-widgets/controls",
          "model_name": "HBoxModel",
          "model_module_version": "1.5.0",
          "state": {
            "_view_name": "HBoxView",
            "_dom_classes": [],
            "_model_name": "HBoxModel",
            "_view_module": "@jupyter-widgets/controls",
            "_model_module_version": "1.5.0",
            "_view_count": null,
            "_view_module_version": "1.5.0",
            "box_style": "",
            "layout": "IPY_MODEL_b5d6a35285a045768becc45e8677e74c",
            "_model_module": "@jupyter-widgets/controls",
            "children": [
              "IPY_MODEL_2c31ca82a48044a1b0255b6cc28abd3d",
              "IPY_MODEL_1ddc87f956f047cca84dc3baf7674c13",
              "IPY_MODEL_146a71950e8e459095234632cc50ec21"
            ]
          }
        },
        "b5d6a35285a045768becc45e8677e74c": {
          "model_module": "@jupyter-widgets/base",
          "model_name": "LayoutModel",
          "model_module_version": "1.2.0",
          "state": {
            "_view_name": "LayoutView",
            "grid_template_rows": null,
            "right": null,
            "justify_content": null,
            "_view_module": "@jupyter-widgets/base",
            "overflow": null,
            "_model_module_version": "1.2.0",
            "_view_count": null,
            "flex_flow": null,
            "width": null,
            "min_width": null,
            "border": null,
            "align_items": null,
            "bottom": null,
            "_model_module": "@jupyter-widgets/base",
            "top": null,
            "grid_column": null,
            "overflow_y": null,
            "overflow_x": null,
            "grid_auto_flow": null,
            "grid_area": null,
            "grid_template_columns": null,
            "flex": null,
            "_model_name": "LayoutModel",
            "justify_items": null,
            "grid_row": null,
            "max_height": null,
            "align_content": null,
            "visibility": null,
            "align_self": null,
            "height": null,
            "min_height": null,
            "padding": null,
            "grid_auto_rows": null,
            "grid_gap": null,
            "max_width": null,
            "order": null,
            "_view_module_version": "1.2.0",
            "grid_template_areas": null,
            "object_position": null,
            "object_fit": null,
            "grid_auto_columns": null,
            "margin": null,
            "display": null,
            "left": null
          }
        },
        "2c31ca82a48044a1b0255b6cc28abd3d": {
          "model_module": "@jupyter-widgets/controls",
          "model_name": "HTMLModel",
          "model_module_version": "1.5.0",
          "state": {
            "_view_name": "HTMLView",
            "style": "IPY_MODEL_1cee10fa58f5436296bce6344e6b2797",
            "_dom_classes": [],
            "description": "",
            "_model_name": "HTMLModel",
            "placeholder": "​",
            "_view_module": "@jupyter-widgets/controls",
            "_model_module_version": "1.5.0",
            "value": "Dl Completed...: ",
            "_view_count": null,
            "_view_module_version": "1.5.0",
            "description_tooltip": null,
            "_model_module": "@jupyter-widgets/controls",
            "layout": "IPY_MODEL_54fdab162ed24e8fb44f3b6274c6392d"
          }
        },
        "1ddc87f956f047cca84dc3baf7674c13": {
          "model_module": "@jupyter-widgets/controls",
          "model_name": "FloatProgressModel",
          "model_module_version": "1.5.0",
          "state": {
            "_view_name": "ProgressView",
            "style": "IPY_MODEL_63d6733f1cf441c090419e1018d52078",
            "_dom_classes": [],
            "description": "",
            "_model_name": "FloatProgressModel",
            "bar_style": "success",
            "max": 1,
            "_view_module": "@jupyter-widgets/controls",
            "_model_module_version": "1.5.0",
            "value": 0,
            "_view_count": null,
            "_view_module_version": "1.5.0",
            "orientation": "horizontal",
            "min": 0,
            "description_tooltip": null,
            "_model_module": "@jupyter-widgets/controls",
            "layout": "IPY_MODEL_228202431b124d24b92edd1d9d2f01f1"
          }
        },
        "146a71950e8e459095234632cc50ec21": {
          "model_module": "@jupyter-widgets/controls",
          "model_name": "HTMLModel",
          "model_module_version": "1.5.0",
          "state": {
            "_view_name": "HTMLView",
            "style": "IPY_MODEL_dc6e33c8522049249f5fe08ca60e602f",
            "_dom_classes": [],
            "description": "",
            "_model_name": "HTMLModel",
            "placeholder": "​",
            "_view_module": "@jupyter-widgets/controls",
            "_model_module_version": "1.5.0",
            "value": " 0/0 [00:00&lt;?, ? url/s]",
            "_view_count": null,
            "_view_module_version": "1.5.0",
            "description_tooltip": null,
            "_model_module": "@jupyter-widgets/controls",
            "layout": "IPY_MODEL_46c9dd4146cf46d787ac8aedcff17955"
          }
        },
        "1cee10fa58f5436296bce6344e6b2797": {
          "model_module": "@jupyter-widgets/controls",
          "model_name": "DescriptionStyleModel",
          "model_module_version": "1.5.0",
          "state": {
            "_view_name": "StyleView",
            "_model_name": "DescriptionStyleModel",
            "description_width": "",
            "_view_module": "@jupyter-widgets/base",
            "_model_module_version": "1.5.0",
            "_view_count": null,
            "_view_module_version": "1.2.0",
            "_model_module": "@jupyter-widgets/controls"
          }
        },
        "54fdab162ed24e8fb44f3b6274c6392d": {
          "model_module": "@jupyter-widgets/base",
          "model_name": "LayoutModel",
          "model_module_version": "1.2.0",
          "state": {
            "_view_name": "LayoutView",
            "grid_template_rows": null,
            "right": null,
            "justify_content": null,
            "_view_module": "@jupyter-widgets/base",
            "overflow": null,
            "_model_module_version": "1.2.0",
            "_view_count": null,
            "flex_flow": null,
            "width": null,
            "min_width": null,
            "border": null,
            "align_items": null,
            "bottom": null,
            "_model_module": "@jupyter-widgets/base",
            "top": null,
            "grid_column": null,
            "overflow_y": null,
            "overflow_x": null,
            "grid_auto_flow": null,
            "grid_area": null,
            "grid_template_columns": null,
            "flex": null,
            "_model_name": "LayoutModel",
            "justify_items": null,
            "grid_row": null,
            "max_height": null,
            "align_content": null,
            "visibility": null,
            "align_self": null,
            "height": null,
            "min_height": null,
            "padding": null,
            "grid_auto_rows": null,
            "grid_gap": null,
            "max_width": null,
            "order": null,
            "_view_module_version": "1.2.0",
            "grid_template_areas": null,
            "object_position": null,
            "object_fit": null,
            "grid_auto_columns": null,
            "margin": null,
            "display": null,
            "left": null
          }
        },
        "63d6733f1cf441c090419e1018d52078": {
          "model_module": "@jupyter-widgets/controls",
          "model_name": "ProgressStyleModel",
          "model_module_version": "1.5.0",
          "state": {
            "_view_name": "StyleView",
            "_model_name": "ProgressStyleModel",
            "description_width": "",
            "_view_module": "@jupyter-widgets/base",
            "_model_module_version": "1.5.0",
            "_view_count": null,
            "_view_module_version": "1.2.0",
            "bar_color": null,
            "_model_module": "@jupyter-widgets/controls"
          }
        },
        "228202431b124d24b92edd1d9d2f01f1": {
          "model_module": "@jupyter-widgets/base",
          "model_name": "LayoutModel",
          "model_module_version": "1.2.0",
          "state": {
            "_view_name": "LayoutView",
            "grid_template_rows": null,
            "right": null,
            "justify_content": null,
            "_view_module": "@jupyter-widgets/base",
            "overflow": null,
            "_model_module_version": "1.2.0",
            "_view_count": null,
            "flex_flow": null,
            "width": "20px",
            "min_width": null,
            "border": null,
            "align_items": null,
            "bottom": null,
            "_model_module": "@jupyter-widgets/base",
            "top": null,
            "grid_column": null,
            "overflow_y": null,
            "overflow_x": null,
            "grid_auto_flow": null,
            "grid_area": null,
            "grid_template_columns": null,
            "flex": null,
            "_model_name": "LayoutModel",
            "justify_items": null,
            "grid_row": null,
            "max_height": null,
            "align_content": null,
            "visibility": null,
            "align_self": null,
            "height": null,
            "min_height": null,
            "padding": null,
            "grid_auto_rows": null,
            "grid_gap": null,
            "max_width": null,
            "order": null,
            "_view_module_version": "1.2.0",
            "grid_template_areas": null,
            "object_position": null,
            "object_fit": null,
            "grid_auto_columns": null,
            "margin": null,
            "display": null,
            "left": null
          }
        },
        "dc6e33c8522049249f5fe08ca60e602f": {
          "model_module": "@jupyter-widgets/controls",
          "model_name": "DescriptionStyleModel",
          "model_module_version": "1.5.0",
          "state": {
            "_view_name": "StyleView",
            "_model_name": "DescriptionStyleModel",
            "description_width": "",
            "_view_module": "@jupyter-widgets/base",
            "_model_module_version": "1.5.0",
            "_view_count": null,
            "_view_module_version": "1.2.0",
            "_model_module": "@jupyter-widgets/controls"
          }
        },
        "46c9dd4146cf46d787ac8aedcff17955": {
          "model_module": "@jupyter-widgets/base",
          "model_name": "LayoutModel",
          "model_module_version": "1.2.0",
          "state": {
            "_view_name": "LayoutView",
            "grid_template_rows": null,
            "right": null,
            "justify_content": null,
            "_view_module": "@jupyter-widgets/base",
            "overflow": null,
            "_model_module_version": "1.2.0",
            "_view_count": null,
            "flex_flow": null,
            "width": null,
            "min_width": null,
            "border": null,
            "align_items": null,
            "bottom": null,
            "_model_module": "@jupyter-widgets/base",
            "top": null,
            "grid_column": null,
            "overflow_y": null,
            "overflow_x": null,
            "grid_auto_flow": null,
            "grid_area": null,
            "grid_template_columns": null,
            "flex": null,
            "_model_name": "LayoutModel",
            "justify_items": null,
            "grid_row": null,
            "max_height": null,
            "align_content": null,
            "visibility": null,
            "align_self": null,
            "height": null,
            "min_height": null,
            "padding": null,
            "grid_auto_rows": null,
            "grid_gap": null,
            "max_width": null,
            "order": null,
            "_view_module_version": "1.2.0",
            "grid_template_areas": null,
            "object_position": null,
            "object_fit": null,
            "grid_auto_columns": null,
            "margin": null,
            "display": null,
            "left": null
          }
        },
        "afbd020da99941cd998ccb3912d9c5e8": {
          "model_module": "@jupyter-widgets/controls",
          "model_name": "HBoxModel",
          "model_module_version": "1.5.0",
          "state": {
            "_view_name": "HBoxView",
            "_dom_classes": [],
            "_model_name": "HBoxModel",
            "_view_module": "@jupyter-widgets/controls",
            "_model_module_version": "1.5.0",
            "_view_count": null,
            "_view_module_version": "1.5.0",
            "box_style": "",
            "layout": "IPY_MODEL_e7eab07b15c34206839dbbc8b064a3f6",
            "_model_module": "@jupyter-widgets/controls",
            "children": [
              "IPY_MODEL_1b6912970ba84602a991303a563b6178",
              "IPY_MODEL_0898b1fa3127430f8a3da9d664831a81",
              "IPY_MODEL_d0faed4f01d44a6ca209d07b1eccdef4"
            ]
          }
        },
        "e7eab07b15c34206839dbbc8b064a3f6": {
          "model_module": "@jupyter-widgets/base",
          "model_name": "LayoutModel",
          "model_module_version": "1.2.0",
          "state": {
            "_view_name": "LayoutView",
            "grid_template_rows": null,
            "right": null,
            "justify_content": null,
            "_view_module": "@jupyter-widgets/base",
            "overflow": null,
            "_model_module_version": "1.2.0",
            "_view_count": null,
            "flex_flow": null,
            "width": null,
            "min_width": null,
            "border": null,
            "align_items": null,
            "bottom": null,
            "_model_module": "@jupyter-widgets/base",
            "top": null,
            "grid_column": null,
            "overflow_y": null,
            "overflow_x": null,
            "grid_auto_flow": null,
            "grid_area": null,
            "grid_template_columns": null,
            "flex": null,
            "_model_name": "LayoutModel",
            "justify_items": null,
            "grid_row": null,
            "max_height": null,
            "align_content": null,
            "visibility": null,
            "align_self": null,
            "height": null,
            "min_height": null,
            "padding": null,
            "grid_auto_rows": null,
            "grid_gap": null,
            "max_width": null,
            "order": null,
            "_view_module_version": "1.2.0",
            "grid_template_areas": null,
            "object_position": null,
            "object_fit": null,
            "grid_auto_columns": null,
            "margin": null,
            "display": null,
            "left": null
          }
        },
        "1b6912970ba84602a991303a563b6178": {
          "model_module": "@jupyter-widgets/controls",
          "model_name": "HTMLModel",
          "model_module_version": "1.5.0",
          "state": {
            "_view_name": "HTMLView",
            "style": "IPY_MODEL_fe51a455af884a42a569ed3bf4f4f31e",
            "_dom_classes": [],
            "description": "",
            "_model_name": "HTMLModel",
            "placeholder": "​",
            "_view_module": "@jupyter-widgets/controls",
            "_model_module_version": "1.5.0",
            "value": "Dl Size...: ",
            "_view_count": null,
            "_view_module_version": "1.5.0",
            "description_tooltip": null,
            "_model_module": "@jupyter-widgets/controls",
            "layout": "IPY_MODEL_c4e027c2a1fc4142b15b82aa7e2ae706"
          }
        },
        "0898b1fa3127430f8a3da9d664831a81": {
          "model_module": "@jupyter-widgets/controls",
          "model_name": "FloatProgressModel",
          "model_module_version": "1.5.0",
          "state": {
            "_view_name": "ProgressView",
            "style": "IPY_MODEL_d3b7fe8140014657b43efec422317394",
            "_dom_classes": [],
            "description": "",
            "_model_name": "FloatProgressModel",
            "bar_style": "success",
            "max": 1,
            "_view_module": "@jupyter-widgets/controls",
            "_model_module_version": "1.5.0",
            "value": 0,
            "_view_count": null,
            "_view_module_version": "1.5.0",
            "orientation": "horizontal",
            "min": 0,
            "description_tooltip": null,
            "_model_module": "@jupyter-widgets/controls",
            "layout": "IPY_MODEL_b230d5f81b6d42738eb76d213f50a2b0"
          }
        },
        "d0faed4f01d44a6ca209d07b1eccdef4": {
          "model_module": "@jupyter-widgets/controls",
          "model_name": "HTMLModel",
          "model_module_version": "1.5.0",
          "state": {
            "_view_name": "HTMLView",
            "style": "IPY_MODEL_291e1f2fce1247d79a5fb2df67cd336e",
            "_dom_classes": [],
            "description": "",
            "_model_name": "HTMLModel",
            "placeholder": "​",
            "_view_module": "@jupyter-widgets/controls",
            "_model_module_version": "1.5.0",
            "value": " 0/0 [00:00&lt;?, ? MiB/s]",
            "_view_count": null,
            "_view_module_version": "1.5.0",
            "description_tooltip": null,
            "_model_module": "@jupyter-widgets/controls",
            "layout": "IPY_MODEL_6aefe323bca544e2a0a908bea1a503d7"
          }
        },
        "fe51a455af884a42a569ed3bf4f4f31e": {
          "model_module": "@jupyter-widgets/controls",
          "model_name": "DescriptionStyleModel",
          "model_module_version": "1.5.0",
          "state": {
            "_view_name": "StyleView",
            "_model_name": "DescriptionStyleModel",
            "description_width": "",
            "_view_module": "@jupyter-widgets/base",
            "_model_module_version": "1.5.0",
            "_view_count": null,
            "_view_module_version": "1.2.0",
            "_model_module": "@jupyter-widgets/controls"
          }
        },
        "c4e027c2a1fc4142b15b82aa7e2ae706": {
          "model_module": "@jupyter-widgets/base",
          "model_name": "LayoutModel",
          "model_module_version": "1.2.0",
          "state": {
            "_view_name": "LayoutView",
            "grid_template_rows": null,
            "right": null,
            "justify_content": null,
            "_view_module": "@jupyter-widgets/base",
            "overflow": null,
            "_model_module_version": "1.2.0",
            "_view_count": null,
            "flex_flow": null,
            "width": null,
            "min_width": null,
            "border": null,
            "align_items": null,
            "bottom": null,
            "_model_module": "@jupyter-widgets/base",
            "top": null,
            "grid_column": null,
            "overflow_y": null,
            "overflow_x": null,
            "grid_auto_flow": null,
            "grid_area": null,
            "grid_template_columns": null,
            "flex": null,
            "_model_name": "LayoutModel",
            "justify_items": null,
            "grid_row": null,
            "max_height": null,
            "align_content": null,
            "visibility": null,
            "align_self": null,
            "height": null,
            "min_height": null,
            "padding": null,
            "grid_auto_rows": null,
            "grid_gap": null,
            "max_width": null,
            "order": null,
            "_view_module_version": "1.2.0",
            "grid_template_areas": null,
            "object_position": null,
            "object_fit": null,
            "grid_auto_columns": null,
            "margin": null,
            "display": null,
            "left": null
          }
        },
        "d3b7fe8140014657b43efec422317394": {
          "model_module": "@jupyter-widgets/controls",
          "model_name": "ProgressStyleModel",
          "model_module_version": "1.5.0",
          "state": {
            "_view_name": "StyleView",
            "_model_name": "ProgressStyleModel",
            "description_width": "",
            "_view_module": "@jupyter-widgets/base",
            "_model_module_version": "1.5.0",
            "_view_count": null,
            "_view_module_version": "1.2.0",
            "bar_color": null,
            "_model_module": "@jupyter-widgets/controls"
          }
        },
        "b230d5f81b6d42738eb76d213f50a2b0": {
          "model_module": "@jupyter-widgets/base",
          "model_name": "LayoutModel",
          "model_module_version": "1.2.0",
          "state": {
            "_view_name": "LayoutView",
            "grid_template_rows": null,
            "right": null,
            "justify_content": null,
            "_view_module": "@jupyter-widgets/base",
            "overflow": null,
            "_model_module_version": "1.2.0",
            "_view_count": null,
            "flex_flow": null,
            "width": "20px",
            "min_width": null,
            "border": null,
            "align_items": null,
            "bottom": null,
            "_model_module": "@jupyter-widgets/base",
            "top": null,
            "grid_column": null,
            "overflow_y": null,
            "overflow_x": null,
            "grid_auto_flow": null,
            "grid_area": null,
            "grid_template_columns": null,
            "flex": null,
            "_model_name": "LayoutModel",
            "justify_items": null,
            "grid_row": null,
            "max_height": null,
            "align_content": null,
            "visibility": null,
            "align_self": null,
            "height": null,
            "min_height": null,
            "padding": null,
            "grid_auto_rows": null,
            "grid_gap": null,
            "max_width": null,
            "order": null,
            "_view_module_version": "1.2.0",
            "grid_template_areas": null,
            "object_position": null,
            "object_fit": null,
            "grid_auto_columns": null,
            "margin": null,
            "display": null,
            "left": null
          }
        },
        "291e1f2fce1247d79a5fb2df67cd336e": {
          "model_module": "@jupyter-widgets/controls",
          "model_name": "DescriptionStyleModel",
          "model_module_version": "1.5.0",
          "state": {
            "_view_name": "StyleView",
            "_model_name": "DescriptionStyleModel",
            "description_width": "",
            "_view_module": "@jupyter-widgets/base",
            "_model_module_version": "1.5.0",
            "_view_count": null,
            "_view_module_version": "1.2.0",
            "_model_module": "@jupyter-widgets/controls"
          }
        },
        "6aefe323bca544e2a0a908bea1a503d7": {
          "model_module": "@jupyter-widgets/base",
          "model_name": "LayoutModel",
          "model_module_version": "1.2.0",
          "state": {
            "_view_name": "LayoutView",
            "grid_template_rows": null,
            "right": null,
            "justify_content": null,
            "_view_module": "@jupyter-widgets/base",
            "overflow": null,
            "_model_module_version": "1.2.0",
            "_view_count": null,
            "flex_flow": null,
            "width": null,
            "min_width": null,
            "border": null,
            "align_items": null,
            "bottom": null,
            "_model_module": "@jupyter-widgets/base",
            "top": null,
            "grid_column": null,
            "overflow_y": null,
            "overflow_x": null,
            "grid_auto_flow": null,
            "grid_area": null,
            "grid_template_columns": null,
            "flex": null,
            "_model_name": "LayoutModel",
            "justify_items": null,
            "grid_row": null,
            "max_height": null,
            "align_content": null,
            "visibility": null,
            "align_self": null,
            "height": null,
            "min_height": null,
            "padding": null,
            "grid_auto_rows": null,
            "grid_gap": null,
            "max_width": null,
            "order": null,
            "_view_module_version": "1.2.0",
            "grid_template_areas": null,
            "object_position": null,
            "object_fit": null,
            "grid_auto_columns": null,
            "margin": null,
            "display": null,
            "left": null
          }
        },
        "4b85dfd8abe54b1ca90971f47fa3c29f": {
          "model_module": "@jupyter-widgets/controls",
          "model_name": "HBoxModel",
          "model_module_version": "1.5.0",
          "state": {
            "_view_name": "HBoxView",
            "_dom_classes": [],
            "_model_name": "HBoxModel",
            "_view_module": "@jupyter-widgets/controls",
            "_model_module_version": "1.5.0",
            "_view_count": null,
            "_view_module_version": "1.5.0",
            "box_style": "",
            "layout": "IPY_MODEL_21d6e68c6895458d97b5a09d8ddf5ad9",
            "_model_module": "@jupyter-widgets/controls",
            "children": [
              "IPY_MODEL_4bf0b80f6f7d4480b118016c550a8cb1",
              "IPY_MODEL_1c08df1272bf48669670882f1e899d6b",
              "IPY_MODEL_5484cc963f74466ebc43eeb38317229a"
            ]
          }
        },
        "21d6e68c6895458d97b5a09d8ddf5ad9": {
          "model_module": "@jupyter-widgets/base",
          "model_name": "LayoutModel",
          "model_module_version": "1.2.0",
          "state": {
            "_view_name": "LayoutView",
            "grid_template_rows": null,
            "right": null,
            "justify_content": null,
            "_view_module": "@jupyter-widgets/base",
            "overflow": null,
            "_model_module_version": "1.2.0",
            "_view_count": null,
            "flex_flow": null,
            "width": null,
            "min_width": null,
            "border": null,
            "align_items": null,
            "bottom": null,
            "_model_module": "@jupyter-widgets/base",
            "top": null,
            "grid_column": null,
            "overflow_y": null,
            "overflow_x": null,
            "grid_auto_flow": null,
            "grid_area": null,
            "grid_template_columns": null,
            "flex": null,
            "_model_name": "LayoutModel",
            "justify_items": null,
            "grid_row": null,
            "max_height": null,
            "align_content": null,
            "visibility": null,
            "align_self": null,
            "height": null,
            "min_height": null,
            "padding": null,
            "grid_auto_rows": null,
            "grid_gap": null,
            "max_width": null,
            "order": null,
            "_view_module_version": "1.2.0",
            "grid_template_areas": null,
            "object_position": null,
            "object_fit": null,
            "grid_auto_columns": null,
            "margin": null,
            "display": null,
            "left": null
          }
        },
        "4bf0b80f6f7d4480b118016c550a8cb1": {
          "model_module": "@jupyter-widgets/controls",
          "model_name": "HTMLModel",
          "model_module_version": "1.5.0",
          "state": {
            "_view_name": "HTMLView",
            "style": "IPY_MODEL_691b1aa5b60f4fb5a89535e94a51005d",
            "_dom_classes": [],
            "description": "",
            "_model_name": "HTMLModel",
            "placeholder": "​",
            "_view_module": "@jupyter-widgets/controls",
            "_model_module_version": "1.5.0",
            "value": "Dl Completed...: ",
            "_view_count": null,
            "_view_module_version": "1.5.0",
            "description_tooltip": null,
            "_model_module": "@jupyter-widgets/controls",
            "layout": "IPY_MODEL_10e31a8cbab5498a9070165c866cd0df"
          }
        },
        "1c08df1272bf48669670882f1e899d6b": {
          "model_module": "@jupyter-widgets/controls",
          "model_name": "FloatProgressModel",
          "model_module_version": "1.5.0",
          "state": {
            "_view_name": "ProgressView",
            "style": "IPY_MODEL_eff146485bb7433dab6028169fbd32ff",
            "_dom_classes": [],
            "description": "",
            "_model_name": "FloatProgressModel",
            "bar_style": "success",
            "max": 1,
            "_view_module": "@jupyter-widgets/controls",
            "_model_module_version": "1.5.0",
            "value": 0,
            "_view_count": null,
            "_view_module_version": "1.5.0",
            "orientation": "horizontal",
            "min": 0,
            "description_tooltip": null,
            "_model_module": "@jupyter-widgets/controls",
            "layout": "IPY_MODEL_38215b9d0f67421489ce9000282d1bea"
          }
        },
        "5484cc963f74466ebc43eeb38317229a": {
          "model_module": "@jupyter-widgets/controls",
          "model_name": "HTMLModel",
          "model_module_version": "1.5.0",
          "state": {
            "_view_name": "HTMLView",
            "style": "IPY_MODEL_987a809eba5a48918aa37b8070c5b2d8",
            "_dom_classes": [],
            "description": "",
            "_model_name": "HTMLModel",
            "placeholder": "​",
            "_view_module": "@jupyter-widgets/controls",
            "_model_module_version": "1.5.0",
            "value": " 0/0 [00:00&lt;?, ? url/s]",
            "_view_count": null,
            "_view_module_version": "1.5.0",
            "description_tooltip": null,
            "_model_module": "@jupyter-widgets/controls",
            "layout": "IPY_MODEL_8a24527bace9442387a33722fd3196bc"
          }
        },
        "691b1aa5b60f4fb5a89535e94a51005d": {
          "model_module": "@jupyter-widgets/controls",
          "model_name": "DescriptionStyleModel",
          "model_module_version": "1.5.0",
          "state": {
            "_view_name": "StyleView",
            "_model_name": "DescriptionStyleModel",
            "description_width": "",
            "_view_module": "@jupyter-widgets/base",
            "_model_module_version": "1.5.0",
            "_view_count": null,
            "_view_module_version": "1.2.0",
            "_model_module": "@jupyter-widgets/controls"
          }
        },
        "10e31a8cbab5498a9070165c866cd0df": {
          "model_module": "@jupyter-widgets/base",
          "model_name": "LayoutModel",
          "model_module_version": "1.2.0",
          "state": {
            "_view_name": "LayoutView",
            "grid_template_rows": null,
            "right": null,
            "justify_content": null,
            "_view_module": "@jupyter-widgets/base",
            "overflow": null,
            "_model_module_version": "1.2.0",
            "_view_count": null,
            "flex_flow": null,
            "width": null,
            "min_width": null,
            "border": null,
            "align_items": null,
            "bottom": null,
            "_model_module": "@jupyter-widgets/base",
            "top": null,
            "grid_column": null,
            "overflow_y": null,
            "overflow_x": null,
            "grid_auto_flow": null,
            "grid_area": null,
            "grid_template_columns": null,
            "flex": null,
            "_model_name": "LayoutModel",
            "justify_items": null,
            "grid_row": null,
            "max_height": null,
            "align_content": null,
            "visibility": null,
            "align_self": null,
            "height": null,
            "min_height": null,
            "padding": null,
            "grid_auto_rows": null,
            "grid_gap": null,
            "max_width": null,
            "order": null,
            "_view_module_version": "1.2.0",
            "grid_template_areas": null,
            "object_position": null,
            "object_fit": null,
            "grid_auto_columns": null,
            "margin": null,
            "display": null,
            "left": null
          }
        },
        "eff146485bb7433dab6028169fbd32ff": {
          "model_module": "@jupyter-widgets/controls",
          "model_name": "ProgressStyleModel",
          "model_module_version": "1.5.0",
          "state": {
            "_view_name": "StyleView",
            "_model_name": "ProgressStyleModel",
            "description_width": "",
            "_view_module": "@jupyter-widgets/base",
            "_model_module_version": "1.5.0",
            "_view_count": null,
            "_view_module_version": "1.2.0",
            "bar_color": null,
            "_model_module": "@jupyter-widgets/controls"
          }
        },
        "38215b9d0f67421489ce9000282d1bea": {
          "model_module": "@jupyter-widgets/base",
          "model_name": "LayoutModel",
          "model_module_version": "1.2.0",
          "state": {
            "_view_name": "LayoutView",
            "grid_template_rows": null,
            "right": null,
            "justify_content": null,
            "_view_module": "@jupyter-widgets/base",
            "overflow": null,
            "_model_module_version": "1.2.0",
            "_view_count": null,
            "flex_flow": null,
            "width": "20px",
            "min_width": null,
            "border": null,
            "align_items": null,
            "bottom": null,
            "_model_module": "@jupyter-widgets/base",
            "top": null,
            "grid_column": null,
            "overflow_y": null,
            "overflow_x": null,
            "grid_auto_flow": null,
            "grid_area": null,
            "grid_template_columns": null,
            "flex": null,
            "_model_name": "LayoutModel",
            "justify_items": null,
            "grid_row": null,
            "max_height": null,
            "align_content": null,
            "visibility": null,
            "align_self": null,
            "height": null,
            "min_height": null,
            "padding": null,
            "grid_auto_rows": null,
            "grid_gap": null,
            "max_width": null,
            "order": null,
            "_view_module_version": "1.2.0",
            "grid_template_areas": null,
            "object_position": null,
            "object_fit": null,
            "grid_auto_columns": null,
            "margin": null,
            "display": null,
            "left": null
          }
        },
        "987a809eba5a48918aa37b8070c5b2d8": {
          "model_module": "@jupyter-widgets/controls",
          "model_name": "DescriptionStyleModel",
          "model_module_version": "1.5.0",
          "state": {
            "_view_name": "StyleView",
            "_model_name": "DescriptionStyleModel",
            "description_width": "",
            "_view_module": "@jupyter-widgets/base",
            "_model_module_version": "1.5.0",
            "_view_count": null,
            "_view_module_version": "1.2.0",
            "_model_module": "@jupyter-widgets/controls"
          }
        },
        "8a24527bace9442387a33722fd3196bc": {
          "model_module": "@jupyter-widgets/base",
          "model_name": "LayoutModel",
          "model_module_version": "1.2.0",
          "state": {
            "_view_name": "LayoutView",
            "grid_template_rows": null,
            "right": null,
            "justify_content": null,
            "_view_module": "@jupyter-widgets/base",
            "overflow": null,
            "_model_module_version": "1.2.0",
            "_view_count": null,
            "flex_flow": null,
            "width": null,
            "min_width": null,
            "border": null,
            "align_items": null,
            "bottom": null,
            "_model_module": "@jupyter-widgets/base",
            "top": null,
            "grid_column": null,
            "overflow_y": null,
            "overflow_x": null,
            "grid_auto_flow": null,
            "grid_area": null,
            "grid_template_columns": null,
            "flex": null,
            "_model_name": "LayoutModel",
            "justify_items": null,
            "grid_row": null,
            "max_height": null,
            "align_content": null,
            "visibility": null,
            "align_self": null,
            "height": null,
            "min_height": null,
            "padding": null,
            "grid_auto_rows": null,
            "grid_gap": null,
            "max_width": null,
            "order": null,
            "_view_module_version": "1.2.0",
            "grid_template_areas": null,
            "object_position": null,
            "object_fit": null,
            "grid_auto_columns": null,
            "margin": null,
            "display": null,
            "left": null
          }
        },
        "d2e9156595ac4cec977d23c0a38a69bb": {
          "model_module": "@jupyter-widgets/controls",
          "model_name": "HBoxModel",
          "model_module_version": "1.5.0",
          "state": {
            "_view_name": "HBoxView",
            "_dom_classes": [],
            "_model_name": "HBoxModel",
            "_view_module": "@jupyter-widgets/controls",
            "_model_module_version": "1.5.0",
            "_view_count": null,
            "_view_module_version": "1.5.0",
            "box_style": "",
            "layout": "IPY_MODEL_7693ab2292f0422f95586ff21a2f5cc1",
            "_model_module": "@jupyter-widgets/controls",
            "children": [
              "IPY_MODEL_99995a8090df43a5a3e72543edc2cf04",
              "IPY_MODEL_a36fd280595440f09a131bbd2deb9a9e",
              "IPY_MODEL_11a8c1bb2cfc4f7590ba4b6175ebdfd0"
            ]
          }
        },
        "7693ab2292f0422f95586ff21a2f5cc1": {
          "model_module": "@jupyter-widgets/base",
          "model_name": "LayoutModel",
          "model_module_version": "1.2.0",
          "state": {
            "_view_name": "LayoutView",
            "grid_template_rows": null,
            "right": null,
            "justify_content": null,
            "_view_module": "@jupyter-widgets/base",
            "overflow": null,
            "_model_module_version": "1.2.0",
            "_view_count": null,
            "flex_flow": null,
            "width": null,
            "min_width": null,
            "border": null,
            "align_items": null,
            "bottom": null,
            "_model_module": "@jupyter-widgets/base",
            "top": null,
            "grid_column": null,
            "overflow_y": null,
            "overflow_x": null,
            "grid_auto_flow": null,
            "grid_area": null,
            "grid_template_columns": null,
            "flex": null,
            "_model_name": "LayoutModel",
            "justify_items": null,
            "grid_row": null,
            "max_height": null,
            "align_content": null,
            "visibility": null,
            "align_self": null,
            "height": null,
            "min_height": null,
            "padding": null,
            "grid_auto_rows": null,
            "grid_gap": null,
            "max_width": null,
            "order": null,
            "_view_module_version": "1.2.0",
            "grid_template_areas": null,
            "object_position": null,
            "object_fit": null,
            "grid_auto_columns": null,
            "margin": null,
            "display": null,
            "left": null
          }
        },
        "99995a8090df43a5a3e72543edc2cf04": {
          "model_module": "@jupyter-widgets/controls",
          "model_name": "HTMLModel",
          "model_module_version": "1.5.0",
          "state": {
            "_view_name": "HTMLView",
            "style": "IPY_MODEL_e7bd0784c56f42e6976688c1b4d75561",
            "_dom_classes": [],
            "description": "",
            "_model_name": "HTMLModel",
            "placeholder": "​",
            "_view_module": "@jupyter-widgets/controls",
            "_model_module_version": "1.5.0",
            "value": "Dl Size...: ",
            "_view_count": null,
            "_view_module_version": "1.5.0",
            "description_tooltip": null,
            "_model_module": "@jupyter-widgets/controls",
            "layout": "IPY_MODEL_5e22eadf31aa4f6c9afd67d5cd0cb4b5"
          }
        },
        "a36fd280595440f09a131bbd2deb9a9e": {
          "model_module": "@jupyter-widgets/controls",
          "model_name": "FloatProgressModel",
          "model_module_version": "1.5.0",
          "state": {
            "_view_name": "ProgressView",
            "style": "IPY_MODEL_9019b40ec9e341ea9b045aada3ba7735",
            "_dom_classes": [],
            "description": "",
            "_model_name": "FloatProgressModel",
            "bar_style": "success",
            "max": 1,
            "_view_module": "@jupyter-widgets/controls",
            "_model_module_version": "1.5.0",
            "value": 0,
            "_view_count": null,
            "_view_module_version": "1.5.0",
            "orientation": "horizontal",
            "min": 0,
            "description_tooltip": null,
            "_model_module": "@jupyter-widgets/controls",
            "layout": "IPY_MODEL_aa24ded4626d4143a32554f6297a1170"
          }
        },
        "11a8c1bb2cfc4f7590ba4b6175ebdfd0": {
          "model_module": "@jupyter-widgets/controls",
          "model_name": "HTMLModel",
          "model_module_version": "1.5.0",
          "state": {
            "_view_name": "HTMLView",
            "style": "IPY_MODEL_aba2243074b94ec08a8a53549e8f73db",
            "_dom_classes": [],
            "description": "",
            "_model_name": "HTMLModel",
            "placeholder": "​",
            "_view_module": "@jupyter-widgets/controls",
            "_model_module_version": "1.5.0",
            "value": " 0/0 [00:00&lt;?, ? MiB/s]",
            "_view_count": null,
            "_view_module_version": "1.5.0",
            "description_tooltip": null,
            "_model_module": "@jupyter-widgets/controls",
            "layout": "IPY_MODEL_3c8cefccecfb4c41a90292461b80fed0"
          }
        },
        "e7bd0784c56f42e6976688c1b4d75561": {
          "model_module": "@jupyter-widgets/controls",
          "model_name": "DescriptionStyleModel",
          "model_module_version": "1.5.0",
          "state": {
            "_view_name": "StyleView",
            "_model_name": "DescriptionStyleModel",
            "description_width": "",
            "_view_module": "@jupyter-widgets/base",
            "_model_module_version": "1.5.0",
            "_view_count": null,
            "_view_module_version": "1.2.0",
            "_model_module": "@jupyter-widgets/controls"
          }
        },
        "5e22eadf31aa4f6c9afd67d5cd0cb4b5": {
          "model_module": "@jupyter-widgets/base",
          "model_name": "LayoutModel",
          "model_module_version": "1.2.0",
          "state": {
            "_view_name": "LayoutView",
            "grid_template_rows": null,
            "right": null,
            "justify_content": null,
            "_view_module": "@jupyter-widgets/base",
            "overflow": null,
            "_model_module_version": "1.2.0",
            "_view_count": null,
            "flex_flow": null,
            "width": null,
            "min_width": null,
            "border": null,
            "align_items": null,
            "bottom": null,
            "_model_module": "@jupyter-widgets/base",
            "top": null,
            "grid_column": null,
            "overflow_y": null,
            "overflow_x": null,
            "grid_auto_flow": null,
            "grid_area": null,
            "grid_template_columns": null,
            "flex": null,
            "_model_name": "LayoutModel",
            "justify_items": null,
            "grid_row": null,
            "max_height": null,
            "align_content": null,
            "visibility": null,
            "align_self": null,
            "height": null,
            "min_height": null,
            "padding": null,
            "grid_auto_rows": null,
            "grid_gap": null,
            "max_width": null,
            "order": null,
            "_view_module_version": "1.2.0",
            "grid_template_areas": null,
            "object_position": null,
            "object_fit": null,
            "grid_auto_columns": null,
            "margin": null,
            "display": null,
            "left": null
          }
        },
        "9019b40ec9e341ea9b045aada3ba7735": {
          "model_module": "@jupyter-widgets/controls",
          "model_name": "ProgressStyleModel",
          "model_module_version": "1.5.0",
          "state": {
            "_view_name": "StyleView",
            "_model_name": "ProgressStyleModel",
            "description_width": "",
            "_view_module": "@jupyter-widgets/base",
            "_model_module_version": "1.5.0",
            "_view_count": null,
            "_view_module_version": "1.2.0",
            "bar_color": null,
            "_model_module": "@jupyter-widgets/controls"
          }
        },
        "aa24ded4626d4143a32554f6297a1170": {
          "model_module": "@jupyter-widgets/base",
          "model_name": "LayoutModel",
          "model_module_version": "1.2.0",
          "state": {
            "_view_name": "LayoutView",
            "grid_template_rows": null,
            "right": null,
            "justify_content": null,
            "_view_module": "@jupyter-widgets/base",
            "overflow": null,
            "_model_module_version": "1.2.0",
            "_view_count": null,
            "flex_flow": null,
            "width": "20px",
            "min_width": null,
            "border": null,
            "align_items": null,
            "bottom": null,
            "_model_module": "@jupyter-widgets/base",
            "top": null,
            "grid_column": null,
            "overflow_y": null,
            "overflow_x": null,
            "grid_auto_flow": null,
            "grid_area": null,
            "grid_template_columns": null,
            "flex": null,
            "_model_name": "LayoutModel",
            "justify_items": null,
            "grid_row": null,
            "max_height": null,
            "align_content": null,
            "visibility": null,
            "align_self": null,
            "height": null,
            "min_height": null,
            "padding": null,
            "grid_auto_rows": null,
            "grid_gap": null,
            "max_width": null,
            "order": null,
            "_view_module_version": "1.2.0",
            "grid_template_areas": null,
            "object_position": null,
            "object_fit": null,
            "grid_auto_columns": null,
            "margin": null,
            "display": null,
            "left": null
          }
        },
        "aba2243074b94ec08a8a53549e8f73db": {
          "model_module": "@jupyter-widgets/controls",
          "model_name": "DescriptionStyleModel",
          "model_module_version": "1.5.0",
          "state": {
            "_view_name": "StyleView",
            "_model_name": "DescriptionStyleModel",
            "description_width": "",
            "_view_module": "@jupyter-widgets/base",
            "_model_module_version": "1.5.0",
            "_view_count": null,
            "_view_module_version": "1.2.0",
            "_model_module": "@jupyter-widgets/controls"
          }
        },
        "3c8cefccecfb4c41a90292461b80fed0": {
          "model_module": "@jupyter-widgets/base",
          "model_name": "LayoutModel",
          "model_module_version": "1.2.0",
          "state": {
            "_view_name": "LayoutView",
            "grid_template_rows": null,
            "right": null,
            "justify_content": null,
            "_view_module": "@jupyter-widgets/base",
            "overflow": null,
            "_model_module_version": "1.2.0",
            "_view_count": null,
            "flex_flow": null,
            "width": null,
            "min_width": null,
            "border": null,
            "align_items": null,
            "bottom": null,
            "_model_module": "@jupyter-widgets/base",
            "top": null,
            "grid_column": null,
            "overflow_y": null,
            "overflow_x": null,
            "grid_auto_flow": null,
            "grid_area": null,
            "grid_template_columns": null,
            "flex": null,
            "_model_name": "LayoutModel",
            "justify_items": null,
            "grid_row": null,
            "max_height": null,
            "align_content": null,
            "visibility": null,
            "align_self": null,
            "height": null,
            "min_height": null,
            "padding": null,
            "grid_auto_rows": null,
            "grid_gap": null,
            "max_width": null,
            "order": null,
            "_view_module_version": "1.2.0",
            "grid_template_areas": null,
            "object_position": null,
            "object_fit": null,
            "grid_auto_columns": null,
            "margin": null,
            "display": null,
            "left": null
          }
        },
        "cc4956471db34e8c8c68210f9d31471b": {
          "model_module": "@jupyter-widgets/controls",
          "model_name": "HBoxModel",
          "model_module_version": "1.5.0",
          "state": {
            "_view_name": "HBoxView",
            "_dom_classes": [],
            "_model_name": "HBoxModel",
            "_view_module": "@jupyter-widgets/controls",
            "_model_module_version": "1.5.0",
            "_view_count": null,
            "_view_module_version": "1.5.0",
            "box_style": "",
            "layout": "IPY_MODEL_00fc827fef7144a3a3cc9b62a5658dee",
            "_model_module": "@jupyter-widgets/controls",
            "children": [
              "IPY_MODEL_79ab40b126ab4c259e05683a9614a7be",
              "IPY_MODEL_338f388d36024c62a0bc9e36c036e372",
              "IPY_MODEL_5b1e85c9fdb340c1a619611f47226c92"
            ]
          }
        },
        "00fc827fef7144a3a3cc9b62a5658dee": {
          "model_module": "@jupyter-widgets/base",
          "model_name": "LayoutModel",
          "model_module_version": "1.2.0",
          "state": {
            "_view_name": "LayoutView",
            "grid_template_rows": null,
            "right": null,
            "justify_content": null,
            "_view_module": "@jupyter-widgets/base",
            "overflow": null,
            "_model_module_version": "1.2.0",
            "_view_count": null,
            "flex_flow": null,
            "width": null,
            "min_width": null,
            "border": null,
            "align_items": null,
            "bottom": null,
            "_model_module": "@jupyter-widgets/base",
            "top": null,
            "grid_column": null,
            "overflow_y": null,
            "overflow_x": null,
            "grid_auto_flow": null,
            "grid_area": null,
            "grid_template_columns": null,
            "flex": null,
            "_model_name": "LayoutModel",
            "justify_items": null,
            "grid_row": null,
            "max_height": null,
            "align_content": null,
            "visibility": null,
            "align_self": null,
            "height": null,
            "min_height": null,
            "padding": null,
            "grid_auto_rows": null,
            "grid_gap": null,
            "max_width": null,
            "order": null,
            "_view_module_version": "1.2.0",
            "grid_template_areas": null,
            "object_position": null,
            "object_fit": null,
            "grid_auto_columns": null,
            "margin": null,
            "display": null,
            "left": null
          }
        },
        "79ab40b126ab4c259e05683a9614a7be": {
          "model_module": "@jupyter-widgets/controls",
          "model_name": "HTMLModel",
          "model_module_version": "1.5.0",
          "state": {
            "_view_name": "HTMLView",
            "style": "IPY_MODEL_850adb2d5a124233882f1ba390a7a314",
            "_dom_classes": [],
            "description": "",
            "_model_name": "HTMLModel",
            "placeholder": "​",
            "_view_module": "@jupyter-widgets/controls",
            "_model_module_version": "1.5.0",
            "value": "Dl Completed...: ",
            "_view_count": null,
            "_view_module_version": "1.5.0",
            "description_tooltip": null,
            "_model_module": "@jupyter-widgets/controls",
            "layout": "IPY_MODEL_b11a4f62125d49d6809dda083e86ea9e"
          }
        },
        "338f388d36024c62a0bc9e36c036e372": {
          "model_module": "@jupyter-widgets/controls",
          "model_name": "FloatProgressModel",
          "model_module_version": "1.5.0",
          "state": {
            "_view_name": "ProgressView",
            "style": "IPY_MODEL_8e33131982354356a35868bc909bbe0f",
            "_dom_classes": [],
            "description": "",
            "_model_name": "FloatProgressModel",
            "bar_style": "success",
            "max": 1,
            "_view_module": "@jupyter-widgets/controls",
            "_model_module_version": "1.5.0",
            "value": 0,
            "_view_count": null,
            "_view_module_version": "1.5.0",
            "orientation": "horizontal",
            "min": 0,
            "description_tooltip": null,
            "_model_module": "@jupyter-widgets/controls",
            "layout": "IPY_MODEL_76196fa801394fc5b8b3620276c83a8f"
          }
        },
        "5b1e85c9fdb340c1a619611f47226c92": {
          "model_module": "@jupyter-widgets/controls",
          "model_name": "HTMLModel",
          "model_module_version": "1.5.0",
          "state": {
            "_view_name": "HTMLView",
            "style": "IPY_MODEL_2d96e3fb463447a09ed75834988ea55d",
            "_dom_classes": [],
            "description": "",
            "_model_name": "HTMLModel",
            "placeholder": "​",
            "_view_module": "@jupyter-widgets/controls",
            "_model_module_version": "1.5.0",
            "value": " 0/0 [00:00&lt;?, ? url/s]",
            "_view_count": null,
            "_view_module_version": "1.5.0",
            "description_tooltip": null,
            "_model_module": "@jupyter-widgets/controls",
            "layout": "IPY_MODEL_572e0a71962e491ba9de3dadd520e445"
          }
        },
        "850adb2d5a124233882f1ba390a7a314": {
          "model_module": "@jupyter-widgets/controls",
          "model_name": "DescriptionStyleModel",
          "model_module_version": "1.5.0",
          "state": {
            "_view_name": "StyleView",
            "_model_name": "DescriptionStyleModel",
            "description_width": "",
            "_view_module": "@jupyter-widgets/base",
            "_model_module_version": "1.5.0",
            "_view_count": null,
            "_view_module_version": "1.2.0",
            "_model_module": "@jupyter-widgets/controls"
          }
        },
        "b11a4f62125d49d6809dda083e86ea9e": {
          "model_module": "@jupyter-widgets/base",
          "model_name": "LayoutModel",
          "model_module_version": "1.2.0",
          "state": {
            "_view_name": "LayoutView",
            "grid_template_rows": null,
            "right": null,
            "justify_content": null,
            "_view_module": "@jupyter-widgets/base",
            "overflow": null,
            "_model_module_version": "1.2.0",
            "_view_count": null,
            "flex_flow": null,
            "width": null,
            "min_width": null,
            "border": null,
            "align_items": null,
            "bottom": null,
            "_model_module": "@jupyter-widgets/base",
            "top": null,
            "grid_column": null,
            "overflow_y": null,
            "overflow_x": null,
            "grid_auto_flow": null,
            "grid_area": null,
            "grid_template_columns": null,
            "flex": null,
            "_model_name": "LayoutModel",
            "justify_items": null,
            "grid_row": null,
            "max_height": null,
            "align_content": null,
            "visibility": null,
            "align_self": null,
            "height": null,
            "min_height": null,
            "padding": null,
            "grid_auto_rows": null,
            "grid_gap": null,
            "max_width": null,
            "order": null,
            "_view_module_version": "1.2.0",
            "grid_template_areas": null,
            "object_position": null,
            "object_fit": null,
            "grid_auto_columns": null,
            "margin": null,
            "display": null,
            "left": null
          }
        },
        "8e33131982354356a35868bc909bbe0f": {
          "model_module": "@jupyter-widgets/controls",
          "model_name": "ProgressStyleModel",
          "model_module_version": "1.5.0",
          "state": {
            "_view_name": "StyleView",
            "_model_name": "ProgressStyleModel",
            "description_width": "",
            "_view_module": "@jupyter-widgets/base",
            "_model_module_version": "1.5.0",
            "_view_count": null,
            "_view_module_version": "1.2.0",
            "bar_color": null,
            "_model_module": "@jupyter-widgets/controls"
          }
        },
        "76196fa801394fc5b8b3620276c83a8f": {
          "model_module": "@jupyter-widgets/base",
          "model_name": "LayoutModel",
          "model_module_version": "1.2.0",
          "state": {
            "_view_name": "LayoutView",
            "grid_template_rows": null,
            "right": null,
            "justify_content": null,
            "_view_module": "@jupyter-widgets/base",
            "overflow": null,
            "_model_module_version": "1.2.0",
            "_view_count": null,
            "flex_flow": null,
            "width": "20px",
            "min_width": null,
            "border": null,
            "align_items": null,
            "bottom": null,
            "_model_module": "@jupyter-widgets/base",
            "top": null,
            "grid_column": null,
            "overflow_y": null,
            "overflow_x": null,
            "grid_auto_flow": null,
            "grid_area": null,
            "grid_template_columns": null,
            "flex": null,
            "_model_name": "LayoutModel",
            "justify_items": null,
            "grid_row": null,
            "max_height": null,
            "align_content": null,
            "visibility": null,
            "align_self": null,
            "height": null,
            "min_height": null,
            "padding": null,
            "grid_auto_rows": null,
            "grid_gap": null,
            "max_width": null,
            "order": null,
            "_view_module_version": "1.2.0",
            "grid_template_areas": null,
            "object_position": null,
            "object_fit": null,
            "grid_auto_columns": null,
            "margin": null,
            "display": null,
            "left": null
          }
        },
        "2d96e3fb463447a09ed75834988ea55d": {
          "model_module": "@jupyter-widgets/controls",
          "model_name": "DescriptionStyleModel",
          "model_module_version": "1.5.0",
          "state": {
            "_view_name": "StyleView",
            "_model_name": "DescriptionStyleModel",
            "description_width": "",
            "_view_module": "@jupyter-widgets/base",
            "_model_module_version": "1.5.0",
            "_view_count": null,
            "_view_module_version": "1.2.0",
            "_model_module": "@jupyter-widgets/controls"
          }
        },
        "572e0a71962e491ba9de3dadd520e445": {
          "model_module": "@jupyter-widgets/base",
          "model_name": "LayoutModel",
          "model_module_version": "1.2.0",
          "state": {
            "_view_name": "LayoutView",
            "grid_template_rows": null,
            "right": null,
            "justify_content": null,
            "_view_module": "@jupyter-widgets/base",
            "overflow": null,
            "_model_module_version": "1.2.0",
            "_view_count": null,
            "flex_flow": null,
            "width": null,
            "min_width": null,
            "border": null,
            "align_items": null,
            "bottom": null,
            "_model_module": "@jupyter-widgets/base",
            "top": null,
            "grid_column": null,
            "overflow_y": null,
            "overflow_x": null,
            "grid_auto_flow": null,
            "grid_area": null,
            "grid_template_columns": null,
            "flex": null,
            "_model_name": "LayoutModel",
            "justify_items": null,
            "grid_row": null,
            "max_height": null,
            "align_content": null,
            "visibility": null,
            "align_self": null,
            "height": null,
            "min_height": null,
            "padding": null,
            "grid_auto_rows": null,
            "grid_gap": null,
            "max_width": null,
            "order": null,
            "_view_module_version": "1.2.0",
            "grid_template_areas": null,
            "object_position": null,
            "object_fit": null,
            "grid_auto_columns": null,
            "margin": null,
            "display": null,
            "left": null
          }
        },
        "a15e1b8824184d228504327e55d795f1": {
          "model_module": "@jupyter-widgets/controls",
          "model_name": "HBoxModel",
          "model_module_version": "1.5.0",
          "state": {
            "_view_name": "HBoxView",
            "_dom_classes": [],
            "_model_name": "HBoxModel",
            "_view_module": "@jupyter-widgets/controls",
            "_model_module_version": "1.5.0",
            "_view_count": null,
            "_view_module_version": "1.5.0",
            "box_style": "",
            "layout": "IPY_MODEL_22f3164bf0584ba4aed791728167ba82",
            "_model_module": "@jupyter-widgets/controls",
            "children": [
              "IPY_MODEL_76e4b36664314a01839fb2a95eefe41d",
              "IPY_MODEL_cb89d5b453f744d3b0ece5038a3be1d6",
              "IPY_MODEL_02c4ca7f65424393867405a207c591d0"
            ]
          }
        },
        "22f3164bf0584ba4aed791728167ba82": {
          "model_module": "@jupyter-widgets/base",
          "model_name": "LayoutModel",
          "model_module_version": "1.2.0",
          "state": {
            "_view_name": "LayoutView",
            "grid_template_rows": null,
            "right": null,
            "justify_content": null,
            "_view_module": "@jupyter-widgets/base",
            "overflow": null,
            "_model_module_version": "1.2.0",
            "_view_count": null,
            "flex_flow": null,
            "width": null,
            "min_width": null,
            "border": null,
            "align_items": null,
            "bottom": null,
            "_model_module": "@jupyter-widgets/base",
            "top": null,
            "grid_column": null,
            "overflow_y": null,
            "overflow_x": null,
            "grid_auto_flow": null,
            "grid_area": null,
            "grid_template_columns": null,
            "flex": null,
            "_model_name": "LayoutModel",
            "justify_items": null,
            "grid_row": null,
            "max_height": null,
            "align_content": null,
            "visibility": null,
            "align_self": null,
            "height": null,
            "min_height": null,
            "padding": null,
            "grid_auto_rows": null,
            "grid_gap": null,
            "max_width": null,
            "order": null,
            "_view_module_version": "1.2.0",
            "grid_template_areas": null,
            "object_position": null,
            "object_fit": null,
            "grid_auto_columns": null,
            "margin": null,
            "display": null,
            "left": null
          }
        },
        "76e4b36664314a01839fb2a95eefe41d": {
          "model_module": "@jupyter-widgets/controls",
          "model_name": "HTMLModel",
          "model_module_version": "1.5.0",
          "state": {
            "_view_name": "HTMLView",
            "style": "IPY_MODEL_6c48263cf7e643fc9975ef1536cf33ad",
            "_dom_classes": [],
            "description": "",
            "_model_name": "HTMLModel",
            "placeholder": "​",
            "_view_module": "@jupyter-widgets/controls",
            "_model_module_version": "1.5.0",
            "value": "Dl Size...: ",
            "_view_count": null,
            "_view_module_version": "1.5.0",
            "description_tooltip": null,
            "_model_module": "@jupyter-widgets/controls",
            "layout": "IPY_MODEL_b93194625b4d4525aaf016673d778a93"
          }
        },
        "cb89d5b453f744d3b0ece5038a3be1d6": {
          "model_module": "@jupyter-widgets/controls",
          "model_name": "FloatProgressModel",
          "model_module_version": "1.5.0",
          "state": {
            "_view_name": "ProgressView",
            "style": "IPY_MODEL_98d63154aef141f7bb80f82e955e9b31",
            "_dom_classes": [],
            "description": "",
            "_model_name": "FloatProgressModel",
            "bar_style": "success",
            "max": 1,
            "_view_module": "@jupyter-widgets/controls",
            "_model_module_version": "1.5.0",
            "value": 0,
            "_view_count": null,
            "_view_module_version": "1.5.0",
            "orientation": "horizontal",
            "min": 0,
            "description_tooltip": null,
            "_model_module": "@jupyter-widgets/controls",
            "layout": "IPY_MODEL_3ff30074597c4383b18afa54c857e903"
          }
        },
        "02c4ca7f65424393867405a207c591d0": {
          "model_module": "@jupyter-widgets/controls",
          "model_name": "HTMLModel",
          "model_module_version": "1.5.0",
          "state": {
            "_view_name": "HTMLView",
            "style": "IPY_MODEL_f130cc7f75f04512b405f2cdf13eab4d",
            "_dom_classes": [],
            "description": "",
            "_model_name": "HTMLModel",
            "placeholder": "​",
            "_view_module": "@jupyter-widgets/controls",
            "_model_module_version": "1.5.0",
            "value": " 0/0 [00:00&lt;?, ? MiB/s]",
            "_view_count": null,
            "_view_module_version": "1.5.0",
            "description_tooltip": null,
            "_model_module": "@jupyter-widgets/controls",
            "layout": "IPY_MODEL_879375beea544b28a8cb9d4a0d70049a"
          }
        },
        "6c48263cf7e643fc9975ef1536cf33ad": {
          "model_module": "@jupyter-widgets/controls",
          "model_name": "DescriptionStyleModel",
          "model_module_version": "1.5.0",
          "state": {
            "_view_name": "StyleView",
            "_model_name": "DescriptionStyleModel",
            "description_width": "",
            "_view_module": "@jupyter-widgets/base",
            "_model_module_version": "1.5.0",
            "_view_count": null,
            "_view_module_version": "1.2.0",
            "_model_module": "@jupyter-widgets/controls"
          }
        },
        "b93194625b4d4525aaf016673d778a93": {
          "model_module": "@jupyter-widgets/base",
          "model_name": "LayoutModel",
          "model_module_version": "1.2.0",
          "state": {
            "_view_name": "LayoutView",
            "grid_template_rows": null,
            "right": null,
            "justify_content": null,
            "_view_module": "@jupyter-widgets/base",
            "overflow": null,
            "_model_module_version": "1.2.0",
            "_view_count": null,
            "flex_flow": null,
            "width": null,
            "min_width": null,
            "border": null,
            "align_items": null,
            "bottom": null,
            "_model_module": "@jupyter-widgets/base",
            "top": null,
            "grid_column": null,
            "overflow_y": null,
            "overflow_x": null,
            "grid_auto_flow": null,
            "grid_area": null,
            "grid_template_columns": null,
            "flex": null,
            "_model_name": "LayoutModel",
            "justify_items": null,
            "grid_row": null,
            "max_height": null,
            "align_content": null,
            "visibility": null,
            "align_self": null,
            "height": null,
            "min_height": null,
            "padding": null,
            "grid_auto_rows": null,
            "grid_gap": null,
            "max_width": null,
            "order": null,
            "_view_module_version": "1.2.0",
            "grid_template_areas": null,
            "object_position": null,
            "object_fit": null,
            "grid_auto_columns": null,
            "margin": null,
            "display": null,
            "left": null
          }
        },
        "98d63154aef141f7bb80f82e955e9b31": {
          "model_module": "@jupyter-widgets/controls",
          "model_name": "ProgressStyleModel",
          "model_module_version": "1.5.0",
          "state": {
            "_view_name": "StyleView",
            "_model_name": "ProgressStyleModel",
            "description_width": "",
            "_view_module": "@jupyter-widgets/base",
            "_model_module_version": "1.5.0",
            "_view_count": null,
            "_view_module_version": "1.2.0",
            "bar_color": null,
            "_model_module": "@jupyter-widgets/controls"
          }
        },
        "3ff30074597c4383b18afa54c857e903": {
          "model_module": "@jupyter-widgets/base",
          "model_name": "LayoutModel",
          "model_module_version": "1.2.0",
          "state": {
            "_view_name": "LayoutView",
            "grid_template_rows": null,
            "right": null,
            "justify_content": null,
            "_view_module": "@jupyter-widgets/base",
            "overflow": null,
            "_model_module_version": "1.2.0",
            "_view_count": null,
            "flex_flow": null,
            "width": "20px",
            "min_width": null,
            "border": null,
            "align_items": null,
            "bottom": null,
            "_model_module": "@jupyter-widgets/base",
            "top": null,
            "grid_column": null,
            "overflow_y": null,
            "overflow_x": null,
            "grid_auto_flow": null,
            "grid_area": null,
            "grid_template_columns": null,
            "flex": null,
            "_model_name": "LayoutModel",
            "justify_items": null,
            "grid_row": null,
            "max_height": null,
            "align_content": null,
            "visibility": null,
            "align_self": null,
            "height": null,
            "min_height": null,
            "padding": null,
            "grid_auto_rows": null,
            "grid_gap": null,
            "max_width": null,
            "order": null,
            "_view_module_version": "1.2.0",
            "grid_template_areas": null,
            "object_position": null,
            "object_fit": null,
            "grid_auto_columns": null,
            "margin": null,
            "display": null,
            "left": null
          }
        },
        "f130cc7f75f04512b405f2cdf13eab4d": {
          "model_module": "@jupyter-widgets/controls",
          "model_name": "DescriptionStyleModel",
          "model_module_version": "1.5.0",
          "state": {
            "_view_name": "StyleView",
            "_model_name": "DescriptionStyleModel",
            "description_width": "",
            "_view_module": "@jupyter-widgets/base",
            "_model_module_version": "1.5.0",
            "_view_count": null,
            "_view_module_version": "1.2.0",
            "_model_module": "@jupyter-widgets/controls"
          }
        },
        "879375beea544b28a8cb9d4a0d70049a": {
          "model_module": "@jupyter-widgets/base",
          "model_name": "LayoutModel",
          "model_module_version": "1.2.0",
          "state": {
            "_view_name": "LayoutView",
            "grid_template_rows": null,
            "right": null,
            "justify_content": null,
            "_view_module": "@jupyter-widgets/base",
            "overflow": null,
            "_model_module_version": "1.2.0",
            "_view_count": null,
            "flex_flow": null,
            "width": null,
            "min_width": null,
            "border": null,
            "align_items": null,
            "bottom": null,
            "_model_module": "@jupyter-widgets/base",
            "top": null,
            "grid_column": null,
            "overflow_y": null,
            "overflow_x": null,
            "grid_auto_flow": null,
            "grid_area": null,
            "grid_template_columns": null,
            "flex": null,
            "_model_name": "LayoutModel",
            "justify_items": null,
            "grid_row": null,
            "max_height": null,
            "align_content": null,
            "visibility": null,
            "align_self": null,
            "height": null,
            "min_height": null,
            "padding": null,
            "grid_auto_rows": null,
            "grid_gap": null,
            "max_width": null,
            "order": null,
            "_view_module_version": "1.2.0",
            "grid_template_areas": null,
            "object_position": null,
            "object_fit": null,
            "grid_auto_columns": null,
            "margin": null,
            "display": null,
            "left": null
          }
        }
      }
    }
  },
  "cells": [
    {
      "cell_type": "markdown",
      "metadata": {
        "id": "Shr4ahEdUKKJ"
      },
      "source": [
        "Part 1\n",
        "- Build a multi-class image classifier on the fashion MNIST dataset using\n",
        "a Convolutional Neural Network (CNN) based model.\n",
        "- Your library will need to be flexible enough to train an image classifier\n",
        "on a different dataset and be written in a way to allow anyone to use it.\n",
        "We will try to run it internally on our own dataset using instructions you\n",
        "provide. Make it as easy as possible for us to use it.\n",
        "- Don’t spend too long trying to push the accuracy up.\n",
        "- Feel free to use open source code / guidelines.\n",
        "\n"
      ]
    },
    {
      "cell_type": "markdown",
      "metadata": {
        "id": "Lz1FDNkvUZBc"
      },
      "source": [
        "# Data Preprocessing"
      ]
    },
    {
      "cell_type": "markdown",
      "metadata": {
        "id": "6z2L7uu5wdbl"
      },
      "source": [
        "This section deals in passing the data provided by the user and preprocessing it to get it ready to be supplied to the neural network.\n",
        "\n",
        "The data we require from the user are :\n",
        "1. Size of the individual images\n",
        "2. Total number of images in the dataset\n",
        "3. The links to the dataset of images and labels. These images have to begrayscale and of square shape and should be in the [MNIST](http://yann.lecun.com/exdb/mnist/) format. This file should be finally offered in a gzip compressed format.\n",
        "\n",
        "\n",
        "This section will do the following tasks:\n",
        "1. download and extract the links\n",
        "2. read the extracted files and store them in a numpy array\n",
        "3. reshape the numpy array to (no of images, height, width, 1) for images and normalize them to range of 0-1\n",
        "\n"
      ]
    },
    {
      "cell_type": "code",
      "metadata": {
        "id": "g1rHouQ_-lft"
      },
      "source": [
        "#importing all required libraries\n",
        "import tensorflow_datasets as tfds\n",
        "import gzip\n",
        "import numpy as np"
      ],
      "execution_count": null,
      "outputs": []
    },
    {
      "cell_type": "code",
      "metadata": {
        "id": "VfbB3cdCelUS"
      },
      "source": [
        "# These are for asking the user to enter the various parameters required to train the model. \n",
        "# I have commented them out and hardcoded them for our ease of operation. \n",
        "# You can chose to uncomment this block and comment the next hard coded block \n",
        "\n",
        "# image_size = int(input('enter image size(of each side) of individual images'))\n",
        "# num_images_train = int(input('enter no of training images'))\n",
        "# num_images_test = int(input('enter no of testing images'))\n",
        "# xtrain =input('add link to the xtrain data(compressed)')\n",
        "# ytrain = input('add link to the ytrain data(compressed)')\n",
        "# xtest = input('add link to the xtest data(compressed)')\n",
        "# ytest = input('add link to the ytest data(compressed)')"
      ],
      "execution_count": null,
      "outputs": []
    },
    {
      "cell_type": "code",
      "metadata": {
        "id": "BleFD9cMkFV_"
      },
      "source": [
        "# Hardcoding all the parameters for ease of use. You may choose to comment this block and uncomment the above block\n",
        "\n",
        "image_size = 28 # size of each side of the image\n",
        "num_images_train = 60000 #number of images in training set\n",
        "num_images_test = 10000 #number of images in validation set\n",
        "\n",
        "\n",
        "# links to the compressed database of training and testing images and labels\n",
        "xtrain = 'http://fashion-mnist.s3-website.eu-central-1.amazonaws.com/train-images-idx3-ubyte.gz'\n",
        "ytrain = 'http://fashion-mnist.s3-website.eu-central-1.amazonaws.com/train-labels-idx1-ubyte.gz'\n",
        "\n",
        "xtest = 'http://fashion-mnist.s3-website.eu-central-1.amazonaws.com/t10k-images-idx3-ubyte.gz'\n",
        "ytest = 'http://fashion-mnist.s3-website.eu-central-1.amazonaws.com/t10k-labels-idx1-ubyte.gz'"
      ],
      "execution_count": null,
      "outputs": []
    },
    {
      "cell_type": "code",
      "metadata": {
        "id": "YNt2O_EaV19a"
      },
      "source": [
        "# function to preprocess images\n",
        "def input_images(path,num_images):\n",
        "  # dlmanager will download the links and return the dowloded path.\n",
        "  # uncompress and open the file using gzip\n",
        "  f = gzip.open(dlmanager.download(path),'r')\n",
        "  buf= f.read(16)  # this is done to ignore the 1st 16 bytes that contain meta data about the dataset\n",
        "  buf = f.read(image_size * image_size * num_images ) # reading all the image data\n",
        "  data = np.frombuffer(buf, dtype=np.uint8).astype(np.float32) # converting the values from unsigned int to float 32\n",
        "  data = data.reshape(num_images, image_size, image_size, 1)  # reshape the array to 4 dimensions. last parameter of 1 is for grayscale images\n",
        "  data = data/255 # normalize the images to range 0-1\n",
        "  return data\n",
        "\n",
        "# function to preprocess labels\n",
        "def input_labels(path,num_images):\n",
        "  labels=np.array([]) #creating an empty numpy array to add the labels\n",
        "  f = gzip.open(dlmanager.download(path),'r') # uncompress and open the file using gzip\n",
        "  f.read(8) # this is done to ignore the 1st 8 bytes that contain meta data about the dataset\n",
        "  \n",
        "  for i in range(num_images):   \n",
        "    buf = f.read(1) # read each label\n",
        "    labels=np.append(labels, np.frombuffer(buf, dtype=np.uint8).astype(np.int64)) # append the label to the array after converting to int64\n",
        "  return labels\n"
      ],
      "execution_count": null,
      "outputs": []
    },
    {
      "cell_type": "code",
      "metadata": {
        "colab": {
          "base_uri": "https://localhost:8080/",
          "height": 213,
          "referenced_widgets": [
            "964849696f6c45bb86908e1134c72c12",
            "d00e2ce0fb24431bb2364eb3b95d96b7",
            "303ebd18205249268f8ee0f230d431b1",
            "ca214b2cee874250af2cd5a10892c26a",
            "e234b4b18682413a8ce8bc5a756a2a36",
            "0969496ee4d24f1684d2288107371a0f",
            "a9155dbfc48443c5b6a4ada34f1ec9c7",
            "af0368fb182a47448539f558a9dc50b3",
            "f497e4ae4850406da5903e3e73a00b11",
            "703783cea9ec40c28d7444924235ff7f",
            "15da5c58f9c7490183e7ac3b9b2b1d8f",
            "63b3bd8b753a43cf991ef522de8b946c",
            "e5113989c28845c2a354b2bfe3258ea5",
            "86999a44e7954e3da2aadb6937c04ac0",
            "0597b2dc3b2548aba23a88306222594c",
            "70ca5daaebe7434e9299cc905e3cb057",
            "2dd118cbb3c848e6ab0e04a27d5fc5fb",
            "f9216ef56ddc4eb1a3f99d9e6d839afa",
            "f5f9fce0d4f74a09b5a947a842cfa4f6",
            "c97808683dcf49219b1e67a0a054aad9",
            "408f3318c1364fb9b43f5a6e155d4bf0",
            "6ec35b9340c14b5bbd688fbc3350ded1",
            "73ce340873214482b694bbf6e88b0c35",
            "b5d6a35285a045768becc45e8677e74c",
            "2c31ca82a48044a1b0255b6cc28abd3d",
            "1ddc87f956f047cca84dc3baf7674c13",
            "146a71950e8e459095234632cc50ec21",
            "1cee10fa58f5436296bce6344e6b2797",
            "54fdab162ed24e8fb44f3b6274c6392d",
            "63d6733f1cf441c090419e1018d52078",
            "228202431b124d24b92edd1d9d2f01f1",
            "dc6e33c8522049249f5fe08ca60e602f",
            "46c9dd4146cf46d787ac8aedcff17955",
            "afbd020da99941cd998ccb3912d9c5e8",
            "e7eab07b15c34206839dbbc8b064a3f6",
            "1b6912970ba84602a991303a563b6178",
            "0898b1fa3127430f8a3da9d664831a81",
            "d0faed4f01d44a6ca209d07b1eccdef4",
            "fe51a455af884a42a569ed3bf4f4f31e",
            "c4e027c2a1fc4142b15b82aa7e2ae706",
            "d3b7fe8140014657b43efec422317394",
            "b230d5f81b6d42738eb76d213f50a2b0",
            "291e1f2fce1247d79a5fb2df67cd336e",
            "6aefe323bca544e2a0a908bea1a503d7"
          ]
        },
        "id": "AlHv_TVX604k",
        "outputId": "6bac79d0-2cf6-48b8-f154-344c7e75d05e"
      },
      "source": [
        "dlmanager=tfds.download.DownloadManager(download_dir='data') # specify the folder to store the downloaded files\n",
        "\n",
        "x_train = input_images(xtrain,num_images_train)  # download and preprocess training images\n",
        "y_train = input_labels(ytrain,num_images_train)  # download and preprocess training labels\n"
      ],
      "execution_count": null,
      "outputs": [
        {
          "output_type": "display_data",
          "data": {
            "application/vnd.jupyter.widget-view+json": {
              "model_id": "964849696f6c45bb86908e1134c72c12",
              "version_minor": 0,
              "version_major": 2
            },
            "text/plain": [
              "Dl Completed...: 0 url [00:00, ? url/s]"
            ]
          },
          "metadata": {}
        },
        {
          "output_type": "display_data",
          "data": {
            "application/vnd.jupyter.widget-view+json": {
              "model_id": "63b3bd8b753a43cf991ef522de8b946c",
              "version_minor": 0,
              "version_major": 2
            },
            "text/plain": [
              "Dl Size...: 0 MiB [00:00, ? MiB/s]"
            ]
          },
          "metadata": {}
        },
        {
          "output_type": "stream",
          "name": "stdout",
          "text": [
            "\n",
            "\n"
          ]
        },
        {
          "output_type": "display_data",
          "data": {
            "application/vnd.jupyter.widget-view+json": {
              "model_id": "73ce340873214482b694bbf6e88b0c35",
              "version_minor": 0,
              "version_major": 2
            },
            "text/plain": [
              "Dl Completed...: 0 url [00:00, ? url/s]"
            ]
          },
          "metadata": {}
        },
        {
          "output_type": "display_data",
          "data": {
            "application/vnd.jupyter.widget-view+json": {
              "model_id": "afbd020da99941cd998ccb3912d9c5e8",
              "version_minor": 0,
              "version_major": 2
            },
            "text/plain": [
              "Dl Size...: 0 MiB [00:00, ? MiB/s]"
            ]
          },
          "metadata": {}
        },
        {
          "output_type": "stream",
          "name": "stdout",
          "text": [
            "\n",
            "\n"
          ]
        }
      ]
    },
    {
      "cell_type": "markdown",
      "metadata": {
        "id": "2h7ia3oJ8zJy"
      },
      "source": [
        "# Training\n"
      ]
    },
    {
      "cell_type": "markdown",
      "metadata": {
        "id": "LQmlwCqSEKBE"
      },
      "source": [
        "In this section we will be using the above preprocessed data to train a CNN model and save it. We are using 3 layers of CNN and MaxPooling layers followed by a final dense layer."
      ]
    },
    {
      "cell_type": "code",
      "metadata": {
        "id": "Asiy4TLHXnx9"
      },
      "source": [
        "#import the libraries\n",
        "from tensorflow.keras.models import Sequential, load_model\n",
        "from tensorflow.keras.layers import Conv2D,MaxPooling2D,Dense, Flatten\n"
      ],
      "execution_count": null,
      "outputs": []
    },
    {
      "cell_type": "code",
      "metadata": {
        "colab": {
          "base_uri": "https://localhost:8080/"
        },
        "id": "jMD1sa7jYEqb",
        "outputId": "88245a50-5fc6-4620-c5d3-91e132719e62"
      },
      "source": [
        "model = Sequential()  # creating an object \n",
        "model.add(Conv2D(16,(2,2),activation = 'relu', input_shape = x_train[1].shape)) # no of kernels:16, window size: 2x2, activation: relu\n",
        "model.add(MaxPooling2D(2,2)) # window size : 2x2\n",
        "\n",
        "model.add(Conv2D(32,(2,2),activation='relu')) # no of kernels:16, window size: 2x2, activation: relu\n",
        "model.add(MaxPooling2D(2,2)) # window size : 2x2\n",
        "\n",
        "model.add(Conv2D(64,(2,2),activation='relu')) # no of kernels:16, window size: 2x2, activation: relu\n",
        "model.add(MaxPooling2D(2,2)) # window size : 2x2\n",
        "\n",
        "model.add(Flatten()) # flatten layer to create a 1 dimensional vector to be input to the dense layer\n",
        "model.add(Dense(10,activation='softmax')) # dense layer with 10 neurons ans softmax activation for classification in 10 categories\n",
        "\n",
        "model.compile(optimizer='adam', loss='sparse_categorical_crossentropy', metrics=['sparse_categorical_accuracy'])\n",
        "model.fit(x_train,y_train ,epochs=7,validation_split=0.1)  # validation split of 10% and 7 epochs (best value selected after testing multiple values)\n",
        "model.save('fmnist.model') # save the trained model to be used later"
      ],
      "execution_count": null,
      "outputs": [
        {
          "output_type": "stream",
          "name": "stdout",
          "text": [
            "Epoch 1/7\n",
            "1688/1688 [==============================] - 12s 6ms/step - loss: 0.6169 - sparse_categorical_accuracy: 0.7796 - val_loss: 0.4744 - val_sparse_categorical_accuracy: 0.8247\n",
            "Epoch 2/7\n",
            "1688/1688 [==============================] - 9s 6ms/step - loss: 0.4182 - sparse_categorical_accuracy: 0.8459 - val_loss: 0.3914 - val_sparse_categorical_accuracy: 0.8558\n",
            "Epoch 3/7\n",
            "1688/1688 [==============================] - 10s 6ms/step - loss: 0.3743 - sparse_categorical_accuracy: 0.8633 - val_loss: 0.3722 - val_sparse_categorical_accuracy: 0.8573\n",
            "Epoch 4/7\n",
            "1688/1688 [==============================] - 9s 6ms/step - loss: 0.3493 - sparse_categorical_accuracy: 0.8720 - val_loss: 0.3775 - val_sparse_categorical_accuracy: 0.8590\n",
            "Epoch 5/7\n",
            "1688/1688 [==============================] - 10s 6ms/step - loss: 0.3300 - sparse_categorical_accuracy: 0.8786 - val_loss: 0.3309 - val_sparse_categorical_accuracy: 0.8765\n",
            "Epoch 6/7\n",
            "1688/1688 [==============================] - 9s 5ms/step - loss: 0.3140 - sparse_categorical_accuracy: 0.8844 - val_loss: 0.3359 - val_sparse_categorical_accuracy: 0.8745\n",
            "Epoch 7/7\n",
            "1688/1688 [==============================] - 9s 6ms/step - loss: 0.3034 - sparse_categorical_accuracy: 0.8891 - val_loss: 0.3169 - val_sparse_categorical_accuracy: 0.8843\n",
            "INFO:tensorflow:Assets written to: fmnist.model/assets\n"
          ]
        },
        {
          "output_type": "stream",
          "name": "stderr",
          "text": [
            "INFO:tensorflow:Assets written to: fmnist.model/assets\n"
          ]
        }
      ]
    },
    {
      "cell_type": "code",
      "metadata": {
        "colab": {
          "base_uri": "https://localhost:8080/"
        },
        "id": "Yn75TtENSrQA",
        "outputId": "5c1a77c6-6720-4e64-bbad-d35151bd92a6"
      },
      "source": [
        "model.summary()"
      ],
      "execution_count": null,
      "outputs": [
        {
          "output_type": "stream",
          "name": "stdout",
          "text": [
            "Model: \"sequential\"\n",
            "_________________________________________________________________\n",
            " Layer (type)                Output Shape              Param #   \n",
            "=================================================================\n",
            " conv2d (Conv2D)             (None, 27, 27, 16)        80        \n",
            "                                                                 \n",
            " max_pooling2d (MaxPooling2D  (None, 13, 13, 16)       0         \n",
            " )                                                               \n",
            "                                                                 \n",
            " conv2d_1 (Conv2D)           (None, 12, 12, 32)        2080      \n",
            "                                                                 \n",
            " max_pooling2d_1 (MaxPooling  (None, 6, 6, 32)         0         \n",
            " 2D)                                                             \n",
            "                                                                 \n",
            " conv2d_2 (Conv2D)           (None, 5, 5, 64)          8256      \n",
            "                                                                 \n",
            " max_pooling2d_2 (MaxPooling  (None, 2, 2, 64)         0         \n",
            " 2D)                                                             \n",
            "                                                                 \n",
            " flatten (Flatten)           (None, 256)               0         \n",
            "                                                                 \n",
            " dense (Dense)               (None, 10)                2570      \n",
            "                                                                 \n",
            "=================================================================\n",
            "Total params: 12,986\n",
            "Trainable params: 12,986\n",
            "Non-trainable params: 0\n",
            "_________________________________________________________________\n"
          ]
        }
      ]
    },
    {
      "cell_type": "markdown",
      "metadata": {
        "id": "XLkR8oOA85k9"
      },
      "source": [
        "# Prediction"
      ]
    },
    {
      "cell_type": "markdown",
      "metadata": {
        "id": "nhYHhubdF7Iu"
      },
      "source": [
        "In this section i am using the validation dataset as a prediction data to predict the labels\n",
        "\n",
        "We are preprocessing data in the same manner as the training data and then giving it as input to the already trained model from previous section."
      ]
    },
    {
      "cell_type": "code",
      "metadata": {
        "id": "oqByutY087dO"
      },
      "source": [
        "# function to preprocess the images and predict using the trained model\n",
        "def prediction(link,num_images):\n",
        "  x_test =input_images(link,num_images) # download and preprocess the data\n",
        "  model = load_model('fmnist.model')    # load the saved model\n",
        "  predicted_values = model.predict([x_test])  # pass the images to the model for prediction\n",
        "  predicted_labels=[]\n",
        "  for n in predicted_values:\n",
        "    predicted_labels.append(np.argmax(n))  # going through each element and storing the index of the element with the highest value\n",
        "\n",
        "  return predicted_labels\n"
      ],
      "execution_count": null,
      "outputs": []
    },
    {
      "cell_type": "code",
      "metadata": {
        "colab": {
          "base_uri": "https://localhost:8080/",
          "height": 152,
          "referenced_widgets": [
            "4b85dfd8abe54b1ca90971f47fa3c29f",
            "21d6e68c6895458d97b5a09d8ddf5ad9",
            "4bf0b80f6f7d4480b118016c550a8cb1",
            "1c08df1272bf48669670882f1e899d6b",
            "5484cc963f74466ebc43eeb38317229a",
            "691b1aa5b60f4fb5a89535e94a51005d",
            "10e31a8cbab5498a9070165c866cd0df",
            "eff146485bb7433dab6028169fbd32ff",
            "38215b9d0f67421489ce9000282d1bea",
            "987a809eba5a48918aa37b8070c5b2d8",
            "8a24527bace9442387a33722fd3196bc",
            "d2e9156595ac4cec977d23c0a38a69bb",
            "7693ab2292f0422f95586ff21a2f5cc1",
            "99995a8090df43a5a3e72543edc2cf04",
            "a36fd280595440f09a131bbd2deb9a9e",
            "11a8c1bb2cfc4f7590ba4b6175ebdfd0",
            "e7bd0784c56f42e6976688c1b4d75561",
            "5e22eadf31aa4f6c9afd67d5cd0cb4b5",
            "9019b40ec9e341ea9b045aada3ba7735",
            "aa24ded4626d4143a32554f6297a1170",
            "aba2243074b94ec08a8a53549e8f73db",
            "3c8cefccecfb4c41a90292461b80fed0"
          ]
        },
        "id": "gWdJfb3a_u-L",
        "outputId": "83bbca5c-4f5d-45f4-c0ec-cf69041380e6"
      },
      "source": [
        "final_labels = prediction(xtest,num_images_test)\n",
        "\n",
        "print(final_labels)"
      ],
      "execution_count": null,
      "outputs": [
        {
          "output_type": "display_data",
          "data": {
            "application/vnd.jupyter.widget-view+json": {
              "model_id": "4b85dfd8abe54b1ca90971f47fa3c29f",
              "version_minor": 0,
              "version_major": 2
            },
            "text/plain": [
              "Dl Completed...: 0 url [00:00, ? url/s]"
            ]
          },
          "metadata": {}
        },
        {
          "output_type": "display_data",
          "data": {
            "application/vnd.jupyter.widget-view+json": {
              "model_id": "d2e9156595ac4cec977d23c0a38a69bb",
              "version_minor": 0,
              "version_major": 2
            },
            "text/plain": [
              "Dl Size...: 0 MiB [00:00, ? MiB/s]"
            ]
          },
          "metadata": {}
        },
        {
          "output_type": "stream",
          "name": "stdout",
          "text": [
            "\n",
            "\n",
            "[9, 2, 1, 1, 6, 1, 4, 6, 5, 7, 4, 5, 5, 3, 4, 1, 2, 4, 8, 0, 2, 5, 7, 5, 1, 2, 6, 0, 9, 4, 8, 8, 3, 3, 8, 0, 7, 5, 7, 9, 0, 1, 6, 9, 4, 7, 2, 1, 2, 6, 4, 6, 5, 8, 2, 2, 8, 4, 8, 0, 7, 7, 8, 5, 1, 1, 0, 4, 7, 8, 7, 0, 2, 6, 2, 3, 1, 2, 8, 4, 1, 8, 5, 9, 5, 0, 3, 2, 0, 6, 5, 3, 6, 7, 1, 8, 0, 1, 2, 2, 3, 6, 7, 6, 7, 8, 5, 7, 9, 4, 2, 5, 7, 0, 5, 2, 8, 4, 7, 8, 0, 0, 9, 9, 3, 0, 8, 4, 1, 5, 4, 1, 9, 1, 8, 4, 2, 1, 2, 5, 1, 0, 0, 0, 1, 6, 1, 3, 2, 2, 2, 4, 1, 4, 5, 0, 4, 7, 9, 3, 7, 2, 3, 9, 0, 9, 2, 7, 4, 2, 6, 5, 2, 1, 2, 1, 3, 0, 9, 1, 0, 9, 3, 6, 7, 9, 9, 4, 4, 7, 1, 2, 1, 6, 3, 2, 8, 3, 6, 1, 1, 0, 2, 9, 2, 4, 0, 7, 9, 8, 4, 1, 8, 4, 1, 3, 1, 4, 7, 2, 8, 5, 2, 0, 7, 7, 6, 2, 7, 0, 7, 8, 9, 2, 9, 0, 5, 1, 4, 6, 5, 6, 9, 2, 2, 8, 6, 4, 6, 2, 9, 7, 6, 5, 5, 2, 8, 5, 2, 3, 0, 6, 8, 0, 0, 4, 4, 8, 9, 3, 1, 3, 0, 2, 3, 0, 8, 3, 7, 4, 0, 1, 6, 4, 0, 4, 6, 7, 5, 4, 5, 9, 5, 6, 5, 5, 1, 9, 8, 8, 3, 3, 6, 8, 0, 0, 2, 9, 7, 7, 1, 3, 2, 6, 2, 4, 7, 1, 4, 4, 8, 2, 6, 5, 4, 2, 7, 7, 7, 3, 3, 7, 6, 7, 1, 3, 7, 2, 2, 3, 4, 0, 3, 1, 6, 1, 9, 4, 9, 9, 1, 7, 8, 3, 6, 0, 2, 4, 8, 0, 1, 2, 2, 4, 4, 7, 3, 2, 2, 5, 0, 7, 9, 4, 0, 9, 3, 9, 3, 2, 5, 6, 2, 3, 5, 8, 1, 6, 2, 6, 6, 4, 9, 5, 2, 0, 4, 6, 1, 2, 0, 9, 7, 0, 4, 4, 4, 6, 2, 1, 6, 6, 7, 2, 9, 4, 2, 1, 5, 4, 5, 3, 8, 5, 8, 6, 4, 8, 9, 8, 6, 2, 4, 4, 2, 4, 1, 4, 1, 3, 0, 7, 8, 8, 2, 5, 3, 1, 9, 5, 3, 3, 0, 1, 2, 2, 9, 4, 0, 6, 0, 4, 2, 0, 0, 3, 3, 8, 2, 8, 9, 4, 0, 7, 0, 4, 4, 9, 2, 9, 5, 9, 3, 7, 5, 7, 8, 1, 0, 0, 6, 4, 8, 9, 7, 9, 1, 2, 7, 0, 2, 0, 5, 7, 1, 8, 2, 2, 2, 2, 2, 6, 6, 1, 9, 8, 5, 1, 9, 1, 2, 8, 3, 8, 9, 2, 4, 2, 8, 2, 2, 0, 5, 8, 8, 5, 3, 9, 4, 3, 4, 4, 5, 1, 0, 1, 2, 0, 4, 9, 6, 1, 5, 1, 1, 1, 9, 3, 4, 5, 3, 6, 6, 0, 4, 0, 0, 5, 8, 6, 3, 4, 0, 7, 7, 8, 9, 0, 6, 8, 7, 6, 7, 9, 3, 4, 0, 4, 5, 0, 1, 1, 5, 9, 4, 2, 5, 7, 8, 1, 2, 9, 7, 7, 1, 0, 9, 3, 6, 9, 0, 7, 6, 8, 2, 7, 0, 2, 3, 8, 2, 2, 6, 9, 3, 0, 7, 8, 0, 2, 9, 4, 2, 6, 4, 9, 0, 4, 4, 2, 7, 5, 8, 4, 9, 1, 0, 5, 4, 4, 4, 0, 0, 4, 5, 4, 0, 4, 5, 4, 1, 6, 1, 1, 6, 4, 3, 8, 2, 8, 6, 7, 0, 4, 0, 8, 5, 0, 8, 2, 9, 6, 8, 9, 6, 4, 2, 9, 6, 4, 5, 0, 9, 5, 3, 6, 6, 8, 3, 6, 8, 3, 8, 0, 9, 7, 9, 4, 8, 9, 1, 3, 7, 1, 0, 2, 4, 7, 1, 0, 0, 8, 7, 2, 4, 6, 4, 4, 1, 5, 9, 0, 0, 1, 6, 5, 0, 0, 3, 3, 3, 8, 1, 1, 8, 5, 7, 7, 8, 7, 2, 0, 7, 0, 8, 0, 9, 7, 6, 1, 6, 6, 4, 8, 2, 6, 3, 4, 8, 4, 0, 8, 9, 2, 4, 5, 9, 1, 4, 4, 9, 2, 1, 7, 9, 5, 8, 3, 7, 7, 1, 1, 1, 6, 9, 5, 3, 8, 4, 4, 9, 2, 8, 3, 2, 4, 4, 7, 1, 4, 9, 3, 5, 8, 5, 4, 7, 4, 8, 5, 9, 3, 3, 4, 7, 1, 7, 3, 7, 4, 4, 5, 8, 3, 7, 1, 2, 0, 1, 9, 8, 2, 7, 1, 3, 7, 5, 9, 9, 1, 8, 6, 5, 7, 1, 9, 2, 1, 0, 0, 2, 1, 7, 1, 1, 5, 7, 1, 5, 2, 2, 3, 3, 1, 1, 4, 9, 4, 3, 7, 7, 0, 8, 9, 9, 6, 1, 8, 4, 0, 0, 5, 9, 2, 0, 5, 5, 1, 5, 7, 8, 7, 5, 3, 6, 4, 0, 4, 0, 0, 0, 2, 5, 5, 1, 2, 0, 9, 3, 7, 8, 6, 8, 3, 4, 7, 0, 7, 4, 8, 6, 3, 4, 4, 3, 4, 9, 0, 2, 4, 9, 1, 8, 1, 7, 5, 5, 6, 6, 2, 1, 0, 5, 4, 0, 0, 2, 7, 5, 0, 2, 5, 9, 4, 8, 2, 0, 4, 0, 2, 9, 0, 7, 7, 1, 4, 4, 0, 5, 0, 9, 9, 8, 8, 2, 0, 2, 4, 6, 6, 3, 2, 3, 5, 4, 9, 3, 4, 7, 7, 6, 3, 5, 5, 6, 4, 5, 9, 2, 3, 7, 5, 1, 9, 8, 8, 9, 9, 2, 7, 2, 2, 3, 8, 7, 6, 4, 5, 6, 3, 6, 1, 4, 9, 3, 1, 6, 5, 0, 5, 7, 5, 2, 3, 3, 9, 4, 3, 6, 0, 4, 5, 0, 4, 9, 4, 0, 3, 2, 7, 0, 2, 1, 1, 4, 4, 6, 5, 9, 0, 1, 4, 5, 1, 4, 4, 8, 4, 7, 7, 3, 8, 1, 1, 9, 8, 1, 3, 3, 7, 5, 1, 5, 7, 8, 9, 6, 3, 5, 8, 4, 6, 3, 8, 4, 5, 5, 6, 7, 1, 5, 3, 5, 4, 8, 6, 2, 1, 1, 7, 9, 6, 2, 7, 0, 4, 8, 2, 2, 0, 6, 4, 4, 9, 6, 8, 4, 5, 9, 6, 3, 9, 6, 9, 8, 7, 4, 2, 2, 5, 3, 7, 0, 7, 2, 9, 3, 7, 0, 9, 4, 8, 4, 4, 7, 2, 4, 6, 2, 0, 7, 8, 4, 2, 4, 5, 5, 6, 4, 5, 5, 8, 1, 1, 7, 4, 6, 9, 0, 8, 7, 2, 2, 1, 6, 7, 7, 4, 9, 8, 5, 1, 1, 0, 2, 0, 9, 0, 1, 9, 0, 5, 5, 2, 0, 7, 0, 2, 3, 1, 3, 1, 3, 2, 7, 2, 4, 9, 5, 2, 9, 6, 3, 4, 4, 0, 0, 5, 2, 2, 5, 4, 1, 4, 2, 5, 4, 4, 8, 0, 2, 4, 0, 6, 3, 6, 8, 3, 8, 2, 0, 4, 6, 8, 8, 6, 5, 2, 2, 3, 0, 1, 9, 0, 9, 1, 9, 6, 5, 2, 4, 7, 3, 8, 5, 0, 3, 0, 7, 5, 5, 9, 5, 0, 0, 0, 3, 2, 4, 4, 5, 7, 1, 3, 4, 6, 4, 5, 1, 6, 7, 3, 2, 8, 8, 2, 8, 9, 4, 1, 6, 5, 2, 7, 8, 5, 6, 8, 5, 4, 2, 8, 9, 8, 6, 3, 6, 8, 8, 2, 0, 9, 4, 4, 8, 1, 3, 6, 1, 9, 2, 1, 4, 2, 7, 9, 4, 0, 0, 4, 4, 2, 4, 5, 0, 2, 8, 3, 7, 4, 4, 0, 0, 5, 2, 8, 2, 4, 3, 0, 2, 1, 7, 7, 5, 4, 7, 2, 6, 7, 3, 3, 1, 3, 3, 6, 0, 1, 7, 0, 4, 7, 1, 0, 6, 5, 8, 4, 2, 7, 9, 5, 0, 7, 9, 5, 1, 2, 7, 5, 5, 3, 9, 7, 1, 6, 7, 8, 0, 1, 7, 2, 7, 1, 1, 5, 5, 6, 6, 5, 9, 5, 5, 2, 3, 9, 3, 8, 5, 4, 0, 0, 0, 5, 7, 4, 5, 2, 6, 4, 6, 7, 6, 0, 5, 1, 7, 2, 3, 2, 8, 7, 8, 7, 1, 2, 0, 2, 9, 7, 5, 6, 1, 0, 7, 1, 2, 4, 9, 3, 6, 4, 4, 3, 0, 0, 2, 3, 6, 1, 3, 5, 2, 5, 0, 9, 1, 1, 8, 2, 9, 5, 0, 5, 4, 6, 7, 1, 1, 5, 3, 8, 9, 8, 3, 8, 9, 2, 6, 1, 1, 3, 5, 6, 7, 1, 9, 9, 2, 2, 7, 0, 1, 1, 9, 6, 3, 7, 2, 8, 1, 8, 0, 7, 9, 8, 5, 8, 2, 0, 4, 0, 4, 5, 8, 3, 8, 7, 5, 7, 3, 7, 6, 7, 0, 2, 2, 5, 3, 5, 1, 1, 7, 7, 6, 3, 6, 4, 2, 8, 6, 3, 1, 4, 9, 9, 4, 5, 2, 2, 7, 8, 0, 7, 9, 1, 2, 9, 4, 7, 3, 4, 3, 3, 1, 8, 8, 5, 3, 8, 0, 2, 6, 3, 2, 0, 2, 7, 3, 2, 8, 3, 7, 7, 3, 1, 7, 5, 8, 8, 2, 0, 0, 4, 4, 8, 5, 7, 0, 6, 0, 7, 7, 3, 9, 2, 5, 9, 7, 1, 7, 2, 4, 5, 1, 4, 5, 4, 5, 0, 4, 4, 1, 4, 4, 8, 4, 5, 9, 4, 1, 1, 7, 2, 3, 5, 0, 3, 9, 7, 5, 3, 8, 8, 8, 9, 1, 1, 6, 3, 1, 4, 3, 4, 9, 9, 0, 0, 4, 9, 4, 9, 0, 6, 1, 8, 9, 2, 9, 4, 8, 0, 7, 2, 3, 6, 2, 5, 6, 1, 9, 0, 4, 2, 9, 9, 0, 8, 3, 6, 6, 6, 0, 4, 2, 6, 6, 5, 0, 2, 7, 8, 7, 4, 6, 0, 6, 5, 2, 4, 2, 9, 5, 2, 6, 7, 0, 1, 9, 5, 5, 0, 7, 7, 5, 0, 5, 0, 8, 4, 7, 9, 8, 2, 6, 7, 3, 3, 7, 7, 7, 8, 4, 9, 5, 7, 6, 5, 7, 5, 1, 3, 0, 2, 9, 9, 8, 3, 7, 0, 2, 4, 9, 3, 3, 1, 7, 9, 1, 5, 7, 2, 7, 6, 5, 7, 0, 7, 5, 5, 4, 0, 7, 0, 3, 2, 6, 2, 9, 9, 0, 4, 0, 8, 3, 8, 0, 6, 4, 1, 8, 2, 6, 5, 0, 4, 6, 3, 0, 0, 1, 0, 8, 4, 9, 0, 7, 6, 7, 7, 1, 5, 8, 7, 2, 9, 9, 1, 6, 6, 1, 1, 1, 8, 8, 1, 3, 7, 5, 2, 0, 8, 4, 8, 9, 4, 1, 3, 1, 9, 8, 1, 1, 1, 8, 0, 9, 9, 7, 6, 0, 4, 2, 1, 1, 7, 9, 2, 2, 0, 3, 6, 6, 8, 1, 7, 2, 4, 2, 2, 4, 8, 7, 1, 8, 5, 5, 7, 7, 6, 6, 2, 7, 0, 6, 0, 5, 5, 0, 2, 1, 0, 3, 7, 7, 3, 7, 2, 5, 7, 9, 8, 9, 1, 4, 8, 3, 2, 6, 6, 0, 8, 3, 8, 0, 8, 6, 0, 8, 8, 4, 2, 9, 3, 2, 0, 8, 5, 7, 0, 1, 1, 1, 9, 5, 1, 3, 3, 6, 0, 8, 4, 1, 3, 8, 8, 0, 7, 5, 0, 6, 7, 3, 3, 2, 4, 6, 5, 5, 4, 2, 3, 9, 1, 1, 7, 3, 8, 7, 2, 2, 9, 3, 9, 9, 0, 1, 7, 1, 4, 8, 1, 6, 9, 3, 4, 0, 0, 7, 6, 9, 9, 5, 5, 7, 0, 9, 3, 3, 6, 9, 8, 4, 2, 6, 3, 9, 2, 3, 4, 7, 4, 0, 4, 8, 1, 8, 7, 3, 4, 5, 2, 2, 9, 1, 9, 4, 9, 1, 0, 2, 8, 8, 7, 7, 7, 7, 6, 6, 0, 7, 5, 8, 5, 6, 0, 6, 4, 9, 2, 8, 3, 1, 9, 3, 1, 2, 2, 2, 3, 7, 5, 7, 4, 4, 4, 1, 2, 3, 5, 4, 2, 9, 1, 5, 9, 3, 6, 0, 4, 0, 1, 7, 7, 6, 6, 7, 7, 3, 0, 4, 3, 2, 7, 8, 7, 2, 8, 0, 8, 7, 4, 8, 2, 7, 0, 9, 9, 3, 1, 5, 9, 3, 1, 0, 3, 3, 5, 9, 7, 9, 2, 3, 5, 9, 3, 7, 9, 3, 6, 0, 3, 5, 7, 7, 2, 3, 5, 3, 1, 1, 9, 4, 3, 9, 5, 5, 7, 2, 4, 9, 0, 2, 1, 9, 7, 1, 5, 0, 5, 5, 0, 3, 5, 0, 3, 3, 7, 4, 2, 6, 8, 5, 9, 2, 1, 0, 5, 5, 8, 5, 3, 7, 4, 4, 3, 9, 6, 0, 0, 9, 1, 4, 3, 1, 5, 3, 8, 5, 1, 1, 2, 9, 4, 0, 5, 2, 8, 0, 2, 9, 8, 6, 4, 8, 3, 8, 0, 4, 5, 0, 4, 8, 5, 4, 9, 0, 9, 5, 8, 0, 9, 1, 4, 7, 2, 1, 6, 0, 0, 6, 5, 2, 4, 8, 5, 5, 2, 0, 6, 8, 4, 6, 1, 9, 2, 7, 7, 2, 0, 4, 8, 3, 4, 8, 5, 2, 8, 3, 3, 1, 4, 4, 0, 4, 9, 0, 4, 1, 9, 9, 8, 1, 8, 8, 3, 3, 3, 8, 5, 9, 2, 6, 8, 7, 0, 3, 0, 0, 0, 5, 7, 5, 0, 7, 9, 1, 8, 4, 8, 9, 3, 5, 2, 0, 4, 4, 7, 8, 9, 1, 8, 2, 5, 5, 3, 1, 1, 8, 8, 3, 0, 7, 0, 1, 8, 0, 0, 2, 9, 8, 9, 8, 8, 6, 9, 1, 8, 4, 2, 7, 7, 0, 5, 1, 1, 0, 0, 4, 3, 0, 4, 3, 5, 1, 4, 3, 3, 4, 4, 5, 0, 9, 8, 3, 4, 1, 0, 2, 1, 2, 4, 4, 8, 4, 9, 0, 9, 9, 5, 0, 0, 0, 5, 0, 3, 9, 7, 3, 6, 1, 9, 4, 1, 0, 4, 5, 4, 1, 4, 8, 5, 9, 4, 5, 3, 2, 8, 1, 0, 6, 8, 9, 0, 5, 0, 2, 8, 9, 3, 0, 2, 8, 5, 9, 2, 3, 1, 6, 3, 6, 2, 7, 4, 1, 2, 6, 4, 0, 4, 8, 5, 0, 8, 5, 2, 7, 8, 1, 5, 9, 8, 0, 9, 0, 9, 3, 7, 5, 9, 9, 6, 0, 7, 1, 5, 5, 9, 5, 4, 4, 2, 4, 5, 9, 7, 4, 2, 6, 9, 9, 4, 2, 1, 3, 7, 1, 8, 7, 9, 1, 8, 9, 3, 7, 7, 7, 1, 7, 4, 4, 6, 2, 4, 5, 2, 8, 9, 0, 8, 0, 0, 7, 7, 5, 0, 1, 9, 2, 0, 4, 9, 2, 2, 6, 7, 1, 0, 5, 8, 7, 2, 8, 2, 3, 6, 1, 7, 4, 8, 7, 4, 1, 7, 8, 2, 4, 6, 4, 4, 1, 8, 4, 7, 2, 9, 4, 5, 2, 0, 3, 8, 8, 2, 0, 7, 2, 4, 0, 4, 1, 0, 8, 1, 7, 7, 2, 6, 3, 1, 2, 7, 2, 6, 0, 6, 2, 7, 2, 8, 3, 2, 3, 0, 9, 7, 3, 5, 4, 9, 2, 4, 5, 0, 6, 8, 4, 0, 4, 4, 0, 4, 1, 6, 2, 2, 7, 1, 0, 4, 4, 1, 1, 5, 4, 3, 8, 3, 3, 1, 7, 4, 9, 8, 8, 4, 5, 5, 6, 7, 2, 9, 1, 0, 5, 3, 7, 2, 1, 1, 8, 0, 2, 0, 5, 9, 0, 3, 8, 1, 0, 4, 8, 2, 4, 8, 3, 4, 2, 1, 9, 3, 7, 9, 5, 7, 2, 1, 5, 8, 8, 2, 6, 4, 6, 3, 1, 2, 4, 0, 3, 9, 8, 4, 0, 8, 4, 3, 9, 7, 1, 1, 9, 5, 1, 9, 2, 4, 2, 4, 8, 6, 7, 1, 3, 0, 7, 3, 5, 8, 1, 4, 2, 3, 4, 8, 8, 8, 3, 8, 1, 8, 9, 3, 0, 6, 0, 2, 9, 7, 3, 9, 0, 1, 2, 5, 9, 6, 0, 5, 0, 5, 8, 7, 4, 6, 2, 8, 0, 0, 9, 3, 0, 5, 8, 1, 1, 2, 6, 0, 0, 8, 8, 2, 3, 3, 9, 5, 4, 3, 3, 1, 8, 1, 5, 2, 0, 0, 7, 9, 3, 2, 7, 1, 7, 4, 1, 6, 2, 8, 6, 7, 0, 4, 9, 3, 2, 5, 2, 8, 6, 2, 2, 7, 4, 2, 1, 1, 0, 3, 5, 5, 2, 6, 4, 1, 8, 0, 4, 4, 2, 4, 2, 7, 2, 3, 9, 6, 6, 6, 6, 4, 5, 4, 9, 8, 1, 6, 3, 4, 4, 9, 4, 3, 7, 1, 2, 6, 0, 1, 1, 0, 2, 6, 7, 9, 0, 1, 2, 4, 6, 7, 2, 1, 1, 7, 7, 8, 5, 6, 5, 3, 7, 2, 0, 9, 2, 1, 6, 2, 6, 5, 8, 5, 2, 7, 8, 4, 0, 9, 0, 8, 1, 3, 8, 2, 8, 2, 0, 0, 3, 8, 7, 8, 2, 2, 0, 6, 0, 4, 5, 4, 4, 1, 1, 9, 7, 0, 4, 2, 1, 6, 2, 7, 7, 1, 8, 3, 3, 7, 9, 8, 7, 2, 7, 9, 7, 2, 2, 2, 0, 3, 3, 9, 1, 1, 4, 8, 0, 9, 7, 5, 2, 8, 8, 3, 6, 3, 6, 8, 2, 2, 5, 9, 2, 3, 8, 3, 2, 8, 3, 3, 2, 1, 3, 0, 1, 8, 2, 1, 5, 8, 1, 5, 8, 0, 7, 8, 7, 5, 5, 5, 5, 3, 0, 7, 8, 4, 5, 1, 0, 4, 6, 4, 3, 7, 7, 9, 7, 2, 5, 8, 5, 8, 5, 3, 0, 9, 7, 2, 0, 6, 8, 2, 0, 7, 4, 7, 6, 8, 4, 7, 0, 0, 4, 0, 6, 7, 8, 1, 3, 8, 1, 7, 3, 6, 1, 1, 6, 6, 9, 8, 2, 8, 2, 7, 7, 1, 8, 0, 0, 0, 7, 8, 7, 6, 5, 2, 6, 7, 5, 5, 8, 9, 7, 3, 2, 4, 8, 3, 9, 5, 7, 6, 6, 6, 7, 0, 8, 5, 1, 8, 9, 2, 2, 1, 2, 2, 7, 4, 0, 6, 4, 8, 7, 7, 9, 2, 2, 8, 2, 6, 0, 6, 3, 4, 1, 5, 4, 7, 5, 0, 9, 6, 2, 0, 5, 1, 1, 0, 7, 3, 8, 8, 7, 5, 8, 9, 5, 5, 4, 0, 7, 1, 4, 6, 0, 9, 9, 3, 6, 8, 0, 5, 7, 8, 0, 2, 7, 6, 2, 4, 8, 1, 6, 4, 8, 0, 7, 5, 8, 7, 5, 7, 5, 0, 7, 4, 2, 2, 0, 3, 4, 2, 0, 2, 9, 4, 5, 4, 4, 1, 2, 5, 7, 0, 5, 2, 2, 5, 0, 4, 6, 6, 6, 7, 2, 7, 2, 3, 4, 7, 1, 2, 4, 4, 2, 4, 3, 9, 9, 2, 8, 0, 4, 0, 0, 1, 9, 3, 9, 0, 8, 2, 9, 4, 7, 9, 1, 5, 8, 1, 0, 0, 2, 4, 8, 0, 3, 3, 0, 0, 6, 3, 3, 1, 6, 8, 4, 9, 3, 0, 6, 5, 8, 8, 8, 6, 1, 0, 8, 9, 8, 5, 8, 7, 0, 7, 2, 7, 3, 5, 5, 8, 3, 2, 8, 5, 9, 9, 4, 0, 6, 7, 1, 8, 8, 8, 7, 2, 0, 9, 7, 9, 6, 9, 4, 1, 4, 7, 2, 5, 2, 6, 2, 9, 0, 7, 1, 9, 7, 6, 5, 3, 8, 4, 9, 3, 9, 5, 7, 5, 1, 3, 3, 4, 0, 7, 5, 3, 7, 5, 8, 7, 7, 4, 6, 5, 5, 0, 4, 8, 3, 0, 7, 2, 6, 2, 2, 7, 4, 0, 5, 1, 4, 8, 1, 4, 7, 8, 2, 6, 7, 2, 0, 2, 6, 3, 2, 3, 0, 5, 2, 2, 2, 8, 8, 0, 5, 4, 6, 2, 8, 3, 5, 1, 0, 9, 1, 6, 9, 6, 7, 4, 0, 0, 2, 5, 0, 3, 5, 2, 5, 1, 7, 9, 4, 6, 7, 3, 0, 2, 8, 1, 0, 9, 9, 7, 8, 4, 6, 9, 7, 7, 5, 8, 8, 7, 5, 3, 5, 5, 0, 8, 9, 7, 2, 1, 4, 7, 1, 3, 4, 3, 2, 6, 9, 4, 7, 7, 0, 5, 0, 8, 8, 6, 8, 5, 4, 0, 7, 3, 0, 0, 2, 5, 2, 0, 7, 7, 7, 1, 5, 2, 1, 8, 5, 2, 2, 8, 7, 7, 2, 7, 1, 0, 9, 5, 3, 9, 3, 5, 0, 7, 4, 6, 0, 1, 2, 5, 9, 3, 2, 8, 5, 7, 3, 1, 2, 0, 8, 1, 8, 5, 6, 9, 0, 3, 8, 0, 4, 2, 0, 0, 4, 2, 3, 4, 5, 9, 1, 1, 9, 4, 7, 0, 2, 1, 0, 0, 7, 7, 0, 7, 8, 0, 5, 6, 4, 4, 8, 9, 7, 4, 9, 5, 3, 7, 2, 6, 1, 9, 7, 8, 1, 3, 9, 3, 4, 7, 8, 6, 5, 6, 7, 9, 9, 7, 0, 4, 2, 3, 4, 2, 7, 5, 3, 9, 2, 8, 8, 0, 0, 4, 1, 9, 3, 3, 5, 1, 5, 5, 9, 2, 8, 5, 5, 9, 5, 4, 6, 7, 3, 5, 4, 2, 6, 9, 4, 8, 1, 9, 2, 6, 6, 4, 8, 8, 7, 7, 3, 9, 3, 9, 6, 8, 2, 6, 9, 0, 3, 2, 5, 7, 0, 4, 6, 4, 1, 3, 1, 8, 7, 8, 8, 7, 7, 0, 5, 7, 3, 6, 0, 4, 0, 3, 6, 8, 8, 8, 0, 2, 3, 2, 8, 6, 1, 4, 1, 1, 6, 3, 2, 2, 8, 0, 0, 4, 1, 0, 2, 7, 0, 6, 7, 9, 9, 2, 7, 6, 9, 9, 8, 4, 8, 8, 4, 0, 9, 4, 2, 4, 3, 8, 2, 0, 6, 9, 0, 4, 7, 3, 7, 8, 8, 2, 4, 8, 8, 0, 1, 5, 8, 9, 8, 7, 1, 0, 3, 8, 3, 0, 7, 0, 9, 9, 1, 5, 9, 4, 1, 7, 0, 1, 0, 5, 2, 8, 8, 4, 1, 7, 0, 5, 0, 4, 1, 7, 1, 7, 9, 4, 3, 9, 2, 4, 5, 3, 7, 8, 8, 4, 4, 7, 7, 4, 6, 0, 5, 5, 3, 6, 2, 5, 6, 8, 5, 6, 9, 1, 3, 1, 4, 5, 9, 0, 9, 0, 2, 5, 2, 1, 5, 8, 5, 6, 0, 9, 1, 9, 1, 7, 1, 8, 6, 3, 4, 0, 2, 8, 3, 3, 8, 8, 0, 3, 6, 8, 1, 1, 3, 3, 4, 2, 1, 8, 3, 2, 2, 6, 4, 2, 3, 9, 2, 3, 0, 4, 5, 7, 1, 4, 1, 2, 0, 2, 8, 5, 1, 6, 5, 4, 8, 1, 7, 1, 6, 4, 9, 4, 2, 1, 5, 2, 3, 5, 8, 7, 7, 7, 2, 7, 5, 4, 4, 2, 0, 4, 4, 9, 9, 5, 8, 0, 4, 4, 1, 3, 7, 5, 0, 0, 9, 8, 5, 3, 0, 7, 1, 9, 7, 8, 4, 0, 9, 9, 1, 2, 0, 4, 2, 2, 5, 1, 0, 4, 8, 3, 4, 8, 4, 4, 0, 0, 3, 6, 7, 4, 4, 1, 7, 3, 0, 7, 9, 9, 1, 5, 5, 9, 1, 4, 6, 1, 2, 8, 6, 5, 7, 8, 0, 4, 2, 7, 2, 7, 5, 0, 8, 7, 8, 2, 4, 7, 2, 5, 5, 9, 9, 4, 4, 2, 6, 6, 0, 8, 7, 6, 2, 7, 5, 2, 9, 0, 3, 4, 4, 8, 4, 0, 2, 7, 0, 5, 2, 6, 2, 8, 0, 6, 2, 0, 2, 5, 5, 8, 0, 7, 0, 8, 9, 0, 2, 1, 2, 5, 1, 0, 2, 9, 6, 4, 5, 9, 1, 4, 3, 1, 2, 8, 0, 3, 4, 2, 2, 0, 2, 3, 6, 5, 2, 3, 4, 0, 8, 5, 4, 0, 1, 2, 2, 2, 6, 7, 9, 6, 4, 0, 3, 0, 8, 5, 4, 6, 0, 3, 3, 5, 2, 5, 1, 5, 5, 1, 7, 5, 2, 3, 8, 8, 0, 9, 0, 0, 6, 3, 2, 1, 8, 3, 4, 2, 1, 2, 0, 3, 0, 8, 5, 1, 5, 0, 2, 0, 3, 9, 8, 2, 8, 1, 0, 2, 6, 2, 2, 3, 7, 5, 0, 6, 2, 0, 8, 4, 2, 1, 8, 6, 8, 2, 9, 2, 6, 8, 5, 4, 7, 3, 2, 2, 6, 8, 4, 8, 5, 2, 1, 5, 2, 8, 2, 9, 0, 6, 3, 6, 4, 2, 7, 7, 9, 0, 2, 9, 8, 0, 5, 8, 7, 7, 0, 7, 7, 0, 7, 7, 2, 9, 7, 4, 2, 2, 3, 8, 0, 1, 9, 8, 0, 2, 6, 8, 3, 8, 0, 7, 6, 4, 3, 8, 1, 3, 8, 7, 3, 0, 3, 2, 8, 8, 9, 1, 3, 2, 1, 4, 8, 0, 4, 6, 7, 3, 9, 4, 9, 0, 4, 6, 5, 7, 0, 8, 1, 7, 5, 4, 9, 5, 7, 3, 2, 0, 9, 8, 7, 3, 7, 7, 4, 7, 5, 8, 5, 2, 4, 6, 2, 3, 8, 9, 7, 1, 3, 4, 2, 9, 7, 1, 2, 2, 6, 0, 5, 5, 4, 5, 2, 8, 9, 4, 9, 9, 1, 4, 8, 1, 5, 5, 5, 4, 8, 1, 5, 7, 7, 7, 9, 8, 3, 1, 1, 4, 6, 6, 9, 3, 6, 4, 4, 8, 2, 5, 4, 9, 0, 2, 8, 4, 8, 6, 3, 6, 1, 2, 3, 3, 8, 4, 9, 9, 0, 7, 9, 5, 3, 1, 7, 2, 8, 4, 9, 0, 1, 6, 0, 5, 8, 1, 9, 3, 0, 8, 3, 8, 4, 2, 5, 6, 9, 0, 1, 2, 0, 7, 9, 0, 1, 3, 9, 5, 1, 2, 1, 1, 4, 8, 0, 9, 5, 4, 4, 3, 7, 7, 7, 8, 3, 9, 1, 9, 4, 4, 0, 7, 6, 0, 7, 9, 0, 3, 4, 9, 0, 4, 0, 2, 7, 9, 6, 1, 1, 2, 0, 8, 8, 7, 4, 2, 7, 5, 7, 6, 1, 8, 1, 4, 9, 8, 9, 1, 1, 0, 2, 0, 3, 0, 6, 4, 1, 7, 7, 1, 2, 2, 5, 3, 4, 1, 7, 4, 7, 0, 2, 8, 8, 1, 4, 9, 7, 3, 0, 4, 9, 3, 9, 8, 5, 3, 8, 2, 7, 1, 4, 1, 9, 6, 8, 3, 2, 4, 8, 1, 1, 5, 8, 2, 1, 6, 2, 9, 0, 9, 5, 3, 5, 0, 6, 5, 4, 8, 3, 8, 0, 6, 9, 9, 1, 5, 3, 2, 6, 5, 3, 0, 3, 0, 7, 4, 0, 2, 1, 9, 5, 1, 7, 5, 5, 5, 7, 6, 8, 4, 6, 6, 4, 4, 4, 1, 1, 2, 2, 8, 6, 9, 0, 5, 8, 1, 3, 8, 3, 2, 4, 8, 2, 0, 9, 3, 2, 9, 7, 2, 2, 2, 2, 8, 9, 4, 6, 4, 7, 7, 9, 7, 3, 4, 9, 2, 7, 3, 0, 2, 0, 9, 2, 3, 3, 1, 9, 5, 8, 2, 3, 5, 0, 6, 4, 5, 8, 3, 5, 0, 7, 7, 6, 0, 9, 7, 1, 4, 4, 5, 3, 0, 6, 1, 4, 0, 5, 4, 8, 5, 7, 3, 0, 8, 3, 5, 4, 4, 9, 8, 5, 7, 8, 1, 7, 5, 0, 1, 5, 4, 0, 3, 2, 4, 4, 3, 6, 7, 8, 0, 9, 0, 3, 0, 4, 2, 7, 3, 5, 7, 3, 7, 8, 4, 6, 2, 2, 3, 1, 0, 7, 5, 2, 6, 4, 1, 1, 2, 7, 2, 3, 5, 5, 0, 4, 4, 4, 8, 9, 9, 2, 0, 9, 8, 3, 5, 3, 1, 4, 5, 0, 1, 8, 5, 8, 6, 0, 7, 8, 9, 2, 4, 6, 3, 2, 2, 4, 7, 9, 1, 9, 7, 4, 5, 0, 3, 2, 4, 5, 6, 0, 5, 8, 0, 4, 2, 9, 4, 7, 8, 0, 0, 2, 7, 7, 5, 9, 7, 7, 3, 8, 7, 5, 9, 9, 8, 2, 1, 0, 8, 0, 2, 6, 7, 9, 2, 2, 5, 4, 3, 2, 1, 1, 9, 0, 5, 5, 4, 7, 8, 9, 0, 5, 4, 0, 0, 5, 7, 8, 4, 8, 8, 7, 6, 9, 3, 9, 6, 9, 7, 3, 9, 9, 3, 0, 0, 2, 8, 9, 9, 2, 0, 6, 4, 1, 0, 3, 8, 4, 8, 4, 4, 2, 3, 5, 7, 7, 8, 5, 4, 3, 2, 1, 8, 3, 8, 5, 2, 2, 3, 0, 8, 3, 3, 2, 9, 0, 9, 7, 0, 1, 8, 3, 0, 3, 8, 4, 8, 5, 1, 3, 0, 1, 9, 3, 5, 0, 4, 2, 0, 1, 5, 3, 2, 8, 5, 7, 8, 0, 1, 1, 0, 2, 4, 5, 9, 0, 7, 2, 3, 8, 4, 4, 3, 3, 9, 4, 7, 0, 8, 6, 5, 6, 2, 0, 1, 3, 9, 4, 2, 5, 0, 5, 3, 4, 5, 0, 0, 0, 0, 6, 9, 1, 3, 4, 2, 5, 5, 4, 6, 1, 4, 9, 7, 4, 4, 7, 5, 7, 1, 4, 8, 7, 9, 7, 7, 0, 2, 9, 2, 5, 0, 7, 6, 2, 5, 2, 7, 4, 3, 2, 5, 9, 2, 5, 7, 7, 3, 8, 3, 9, 4, 5, 3, 0, 7, 0, 9, 5, 1, 3, 6, 9, 3, 6, 4, 5, 3, 4, 9, 9, 1, 2, 2, 2, 6, 6, 8, 7, 9, 9, 4, 8, 8, 9, 0, 7, 0, 4, 3, 8, 8, 4, 2, 0, 1, 4, 0, 2, 1, 5, 4, 6, 6, 0, 3, 4, 5, 6, 8, 7, 4, 6, 3, 1, 8, 4, 8, 9, 9, 5, 5, 8, 2, 5, 4, 4, 2, 5, 6, 9, 2, 9, 1, 0, 2, 4, 6, 9, 8, 6, 6, 9, 1, 9, 4, 7, 3, 5, 4, 3, 4, 2, 1, 0, 2, 4, 3, 7, 8, 6, 5, 5, 9, 0, 4, 3, 4, 5, 5, 5, 7, 6, 1, 3, 3, 7, 0, 5, 7, 0, 8, 3, 5, 5, 8, 1, 9, 4, 0, 4, 2, 1, 6, 0, 1, 2, 5, 0, 6, 1, 1, 7, 5, 2, 5, 9, 0, 8, 0, 6, 4, 4, 7, 0, 7, 0, 8, 2, 3, 7, 1, 4, 2, 3, 4, 0, 0, 6, 4, 8, 7, 0, 3, 0, 4, 7, 3, 3, 6, 0, 2, 4, 4, 1, 8, 1, 9, 1, 2, 2, 4, 2, 5, 3, 3, 5, 3, 5, 8, 3, 9, 7, 3, 0, 0, 1, 0, 1, 0, 7, 7, 4, 8, 9, 6, 1, 5, 0, 9, 4, 7, 9, 9, 9, 0, 1, 0, 9, 9, 5, 1, 7, 2, 9, 1, 5, 6, 8, 1, 7, 3, 3, 8, 2, 7, 8, 8, 9, 8, 8, 4, 5, 8, 4, 5, 9, 0, 0, 5, 4, 7, 7, 4, 4, 7, 4, 5, 8, 3, 7, 2, 7, 3, 8, 8, 8, 7, 8, 6, 0, 5, 7, 9, 8, 5, 6, 0, 4, 2, 4, 2, 8, 9, 9, 1, 9, 5, 8, 4, 4, 8, 4, 8, 7, 4, 8, 3, 0, 7, 8, 8, 3, 9, 9, 5, 9, 2, 4, 9, 7, 5, 7, 4, 9, 9, 2, 3, 9, 5, 3, 5, 3, 1, 2, 9, 1, 4, 8, 5, 1, 7, 9, 0, 3, 3, 0, 9, 0, 2, 6, 0, 0, 2, 9, 7, 1, 9, 8, 5, 2, 8, 5, 9, 5, 2, 4, 2, 5, 2, 2, 5, 2, 2, 7, 1, 6, 0, 4, 2, 5, 2, 4, 6, 7, 5, 5, 1, 7, 2, 4, 4, 2, 4, 1, 9, 0, 7, 2, 7, 4, 2, 9, 7, 4, 4, 6, 1, 7, 1, 4, 7, 0, 1, 7, 3, 0, 3, 6, 6, 0, 0, 4, 1, 7, 9, 0, 2, 9, 2, 0, 7, 1, 7, 5, 2, 9, 8, 2, 4, 0, 3, 3, 2, 2, 8, 1, 0, 8, 1, 8, 1, 0, 1, 4, 7, 3, 7, 7, 3, 2, 9, 9, 0, 8, 2, 5, 8, 9, 0, 3, 7, 4, 1, 0, 9, 2, 3, 2, 6, 1, 8, 1, 4, 4, 0, 2, 1, 7, 0, 5, 4, 5, 3, 6, 4, 1, 0, 0, 7, 2, 6, 2, 3, 4, 4, 5, 2, 9, 6, 8, 0, 4, 4, 3, 1, 7, 5, 2, 3, 3, 2, 0, 3, 5, 2, 4, 2, 5, 1, 4, 2, 2, 1, 9, 3, 4, 6, 9, 5, 8, 0, 0, 3, 4, 0, 8, 1, 2, 3, 3, 1, 5, 5, 3, 2, 2, 7, 1, 3, 2, 3, 0, 0, 2, 2, 8, 0, 8, 3, 7, 0, 3, 1, 3, 8, 3, 4, 1, 2, 0, 3, 6, 7, 7, 8, 3, 6, 9, 5, 4, 6, 9, 5, 4, 3, 8, 5, 3, 8, 3, 7, 9, 0, 2, 5, 1, 0, 5, 6, 3, 5, 7, 9, 6, 0, 7, 1, 0, 0, 8, 0, 2, 2, 7, 8, 2, 6, 4, 4, 9, 7, 3, 2, 5, 4, 5, 1, 9, 5, 0, 5, 2, 4, 1, 7, 9, 0, 3, 3, 4, 9, 1, 0, 3, 9, 5, 2, 8, 2, 2, 1, 4, 0, 6, 7, 9, 0, 1, 1, 4, 1, 6, 9, 8, 1, 3, 7, 3, 9, 9, 5, 4, 2, 3, 6, 8, 8, 5, 5, 1, 8, 8, 5, 7, 9, 9, 3, 4, 4, 2, 7, 9, 4, 6, 7, 5, 4, 7, 6, 1, 4, 6, 2, 0, 9, 0, 0, 5, 1, 1, 7, 8, 3, 6, 6, 2, 0, 0, 4, 9, 5, 2, 4, 2, 4, 6, 1, 5, 2, 7, 8, 6, 7, 7, 0, 8, 4, 3, 4, 9, 1, 2, 1, 7, 4, 3, 4, 9, 9, 2, 4, 4, 3, 0, 5, 7, 5, 2, 7, 8, 9, 9, 2, 7, 8, 7, 7, 5, 8, 7, 6, 6, 9, 0, 1, 8, 7, 5, 4, 5, 3, 7, 4, 6, 5, 5, 6, 9, 9, 1, 9, 5, 9, 4, 4, 1, 9, 8, 3, 5, 1, 8, 6, 5, 3, 2, 3, 7, 1, 1, 1, 8, 7, 5, 6, 3, 4, 7, 0, 0, 5, 3, 4, 8, 2, 5, 2, 7, 3, 2, 3, 2, 7, 8, 0, 7, 0, 9, 5, 8, 0, 7, 3, 5, 0, 9, 7, 3, 0, 6, 5, 7, 8, 2, 3, 1, 9, 0, 2, 9, 1, 3, 4, 0, 4, 0, 6, 2, 4, 8, 6, 4, 9, 5, 6, 1, 8, 2, 4, 1, 4, 2, 9, 4, 3, 7, 9, 0, 3, 5, 4, 5, 9, 8, 5, 3, 0, 1, 2, 6, 4, 1, 9, 4, 4, 0, 5, 5, 4, 3, 2, 0, 1, 4, 9, 9, 7, 0, 1, 2, 0, 0, 6, 4, 2, 5, 9, 6, 8, 4, 4, 1, 5, 9, 4, 1, 8, 9, 3, 1, 7, 1, 1, 1, 9, 1, 3, 8, 9, 9, 1, 9, 6, 0, 5, 8, 5, 5, 9, 3, 8, 9, 4, 7, 8, 2, 9, 2, 0, 1, 5, 0, 7, 8, 6, 0, 9, 1, 1, 8, 2, 8, 9, 2, 0, 7, 2, 0, 0, 5, 1, 2, 8, 2, 3, 7, 6, 1, 9, 7, 4, 1, 3, 9, 2, 4, 0, 3, 7, 5, 1, 1, 9, 5, 3, 5, 4, 6, 6, 1, 5, 2, 1, 6, 2, 5, 9, 9, 4, 4, 4, 1, 7, 9, 0, 5, 7, 3, 3, 8, 4, 1, 8, 2, 7, 4, 4, 8, 9, 4, 9, 3, 2, 4, 1, 1, 6, 4, 1, 4, 7, 8, 5, 9, 1, 7, 0, 9, 2, 2, 1, 7, 2, 9, 8, 8, 9, 5, 5, 3, 8, 2, 0, 3, 4, 1, 1, 9, 0, 9, 7, 5, 3, 2, 9, 5, 5, 4, 6, 9, 9, 3, 0, 6, 4, 1, 7, 4, 7, 2, 8, 5, 8, 6, 0, 1, 3, 2, 2, 3, 6, 6, 0, 2, 8, 3, 2, 4, 6, 1, 8, 6, 5, 6, 2, 3, 9, 0, 4, 4, 2, 5, 6, 2, 7, 6, 7, 3, 3, 6, 9, 4, 8, 5, 6, 0, 3, 6, 7, 4, 5, 3, 1, 1, 9, 7, 5, 4, 2, 1, 4, 4, 5, 9, 2, 5, 5, 1, 1, 0, 9, 2, 4, 2, 3, 2, 4, 9, 2, 3, 6, 4, 2, 0, 4, 1, 3, 7, 2, 4, 2, 2, 3, 2, 3, 0, 8, 3, 5, 1, 2, 8, 8, 2, 1, 2, 1, 1, 9, 0, 5, 9, 0, 8, 0, 3, 2, 3, 8, 3, 7, 5, 2, 1, 1, 2, 0, 5, 5, 0, 1, 0, 5, 2, 8, 9, 7, 9, 1, 1, 3, 3, 5, 6, 7, 5, 9, 4, 9, 3, 6, 6, 2, 8, 5, 2, 5, 9, 8, 3, 8, 1, 3, 1, 3, 5, 2, 5, 4, 4, 9, 2, 7, 1, 6, 8, 3, 7, 7, 6, 7, 9, 6, 7, 7, 0, 1, 4, 1, 8, 8, 4, 4, 7, 4, 7, 1, 8, 7, 5, 1, 3, 1, 0, 3, 4, 5, 3, 8, 2, 3, 4, 9, 3, 1, 5, 3, 0, 7, 0, 6, 4, 5, 1, 2, 6, 2, 8, 8, 9, 8, 0, 7, 2, 4, 2, 5, 1, 9, 8, 3, 8, 7, 1, 8, 1, 2, 0, 9, 2, 4, 2, 4, 6, 1, 3, 5, 2, 9, 7, 5, 3, 7, 5, 5, 4, 4, 8, 0, 7, 0, 8, 8, 2, 1, 9, 7, 7, 0, 8, 0, 3, 0, 9, 8, 5, 0, 4, 8, 1, 5, 5, 7, 0, 1, 6, 1, 3, 2, 6, 4, 4, 1, 7, 6, 2, 2, 6, 1, 8, 2, 6, 6, 3, 0, 8, 8, 4, 4, 2, 0, 7, 0, 8, 9, 1, 4, 6, 7, 0, 8, 1, 8, 2, 4, 4, 7, 5, 7, 9, 9, 3, 9, 4, 4, 0, 4, 1, 4, 8, 4, 4, 7, 0, 6, 2, 9, 1, 8, 0, 6, 2, 6, 0, 3, 6, 6, 1, 3, 6, 3, 4, 1, 7, 8, 1, 0, 7, 0, 5, 0, 8, 2, 8, 5, 8, 7, 8, 4, 5, 9, 5, 5, 1, 2, 4, 7, 2, 9, 7, 8, 0, 7, 4, 6, 3, 8, 8, 4, 5, 1, 8, 2, 4, 2, 2, 9, 8, 9, 0, 2, 7, 9, 4, 5, 9, 8, 6, 3, 9, 5, 9, 3, 0, 8, 6, 0, 6, 3, 5, 8, 0, 0, 1, 8, 6, 9, 0, 0, 7, 6, 6, 8, 7, 6, 8, 8, 2, 0, 3, 6, 7, 1, 8, 7, 4, 2, 7, 1, 6, 5, 2, 0, 7, 9, 6, 6, 8, 2, 1, 1, 8, 8, 3, 5, 7, 7, 4, 7, 4, 3, 9, 3, 8, 9, 0, 4, 0, 4, 5, 7, 0, 4, 3, 9, 5, 7, 2, 2, 5, 8, 3, 1, 3, 7, 4, 9, 4, 3, 9, 7, 2, 0, 8, 0, 9, 1, 9, 9, 0, 7, 1, 4, 5, 0, 3, 8, 7, 2, 7, 5, 9, 3, 2, 0, 0, 9, 0, 5, 0, 1, 3, 7, 9, 1, 5, 9, 0, 0, 9, 7, 2, 9, 2, 1, 2, 7, 5, 1, 0, 7, 3, 4, 7, 6, 4, 6, 8, 5, 7, 9, 5, 7, 3, 2, 3, 7, 3, 4, 1, 5, 6, 9, 7, 4, 0, 2, 5, 8, 0, 7, 7, 3, 2, 0, 4, 8, 2, 0, 6, 9, 8, 9, 0, 5, 0, 4, 0, 2, 0, 3, 1, 8, 7, 4, 1, 9, 1, 2, 8, 5, 2, 3, 0, 0, 2, 6, 0, 7, 2, 1, 8, 2, 8, 7, 9, 2, 1, 3, 5, 7, 7, 3, 6, 5, 7, 3, 6, 7, 3, 2, 4, 9, 6, 7, 3, 9, 1, 2, 1, 9, 7, 2, 3, 3, 8, 1, 8, 3, 5, 0, 5, 3, 8, 5, 7, 6, 9, 0, 6, 8, 4, 2, 3, 3, 4, 3, 7, 8, 7, 1, 3, 7, 8, 9, 5, 5, 2, 2, 4, 5, 0, 8, 6, 0, 4, 0, 8, 8, 9, 6, 9, 1, 5, 1, 2, 1, 3, 2, 2, 2, 4, 5, 7, 5, 9, 2, 0, 5, 7, 0, 5, 4, 5, 6, 0, 4, 0, 7, 1, 5, 6, 9, 6, 1, 7, 6, 4, 4, 0, 7, 1, 8, 5, 7, 8, 5, 5, 1, 8, 5, 7, 7, 7, 6, 5, 2, 6, 1, 2, 2, 4, 1, 0, 3, 9, 1, 8, 2, 4, 7, 4, 9, 5, 7, 4, 3, 9, 5, 6, 6, 2, 7, 3, 9, 3, 0, 5, 9, 0, 9, 4, 0, 6, 5, 7, 1, 2, 5, 2, 0, 2, 3, 1, 1, 1, 7, 4, 2, 2, 5, 9, 8, 7, 7, 3, 2, 7, 9, 2, 0, 1, 1, 1, 4, 8, 0, 8, 0, 9, 5, 6, 7, 0, 8, 2, 4, 4, 2, 2, 2, 5, 7, 2, 9, 7, 2, 2, 2, 0, 7, 4, 5, 2, 3, 3, 1, 9, 8, 1, 8, 6, 2, 3, 9, 1, 9, 7, 2, 9, 6, 9, 3, 0, 4, 2, 6, 4, 6, 0, 9, 2, 1, 1, 0, 5, 0, 7, 0, 4, 1, 1, 7, 0, 0, 1, 9, 4, 7, 3, 5, 4, 1, 2, 0, 4, 0, 3, 0, 2, 3, 5, 9, 5, 8, 9, 3, 1, 7, 8, 9, 4, 1, 1, 9, 0, 7, 0, 0, 9, 6, 0, 2, 9, 2, 8, 5, 5, 9, 3, 3, 5, 7, 1, 2, 3, 3, 5, 6, 0, 4, 1, 1, 9, 1, 4, 0, 0, 2, 2, 6, 2, 0, 6, 5, 0, 3, 0, 5, 1, 1, 8, 2, 5, 3, 5, 1, 2, 2, 3, 1, 2, 7, 9, 6, 3, 8, 5, 4, 4, 9, 1, 5, 7, 7, 6, 2, 2, 7, 5, 6, 1, 5, 7, 7, 8, 2, 8, 3, 7, 4, 0, 2, 9, 9, 0, 2, 7, 3, 1, 0, 8, 2, 4, 4, 4, 7, 1, 8, 3, 0, 3, 4, 0, 2, 9, 8, 0, 0, 8, 3, 9, 2, 1, 5, 4, 5, 0, 8, 4, 2, 5, 9, 3, 0, 4, 7, 8, 5, 9, 5, 0, 0, 6, 9, 7, 2, 9, 2, 2, 6, 4, 0, 1, 4, 3, 9, 4, 0, 3, 4, 6, 6, 9, 4, 7, 2, 5, 4, 3, 4, 5, 7, 0, 2, 1, 1, 8, 7, 1, 2, 0, 5, 2, 3, 8, 8, 8, 9, 3, 8, 9, 4, 0, 3, 6, 4, 2, 8, 8, 7, 9, 2, 7, 1, 9, 0, 3, 3, 3, 2, 3, 9, 9, 5, 4, 0, 4, 2, 4, 6, 4, 5, 2, 4, 9, 8, 5, 8, 3, 4, 1, 4, 8, 9, 2, 6, 2, 3, 5, 6, 3, 5, 2, 5, 0, 9, 1, 2, 9, 8, 9, 0, 8, 8, 5, 5, 8, 4, 4, 0, 8, 3, 0, 4, 9, 4, 1, 0, 5, 1, 2, 0, 9, 2, 6, 3, 6, 7, 6, 4, 4, 3, 8, 5, 1, 8, 3, 4, 4, 5, 0, 0, 7, 8, 7, 4, 4, 2, 2, 9, 3, 5, 0, 9, 9, 0, 1, 3, 7, 1, 9, 6, 5, 2, 6, 9, 5, 7, 7, 4, 2, 8, 3, 1, 7, 8, 8, 6, 8, 0, 5, 5, 7, 1, 9, 6, 2, 1, 5, 1, 9, 0, 1, 0, 3, 2, 5, 3, 9, 0, 5, 4, 0, 0, 9, 5, 4, 2, 3, 8, 5, 8, 3, 6, 4, 1, 4, 9, 5, 8, 9, 5, 6, 6, 9, 5, 9, 1, 1, 1, 8, 4, 1, 4, 6, 9, 9, 8, 9, 7, 4, 4, 1, 9, 9, 1, 9, 2, 2, 3, 7, 3, 1, 6, 6, 8, 3, 4, 3, 3, 8, 3, 7, 1, 0, 3, 8, 4, 7, 9, 8, 0, 3, 0, 4, 5, 7, 0, 7, 2, 5, 0, 2, 3, 3, 0, 0, 0, 4, 4, 4, 4, 4, 9, 9, 0, 7, 4, 0, 2, 2, 1, 9, 5, 9, 9, 0, 5, 8, 2, 7, 3, 9, 5, 2, 8, 9, 5, 8, 0, 0, 0, 0, 6, 3, 7, 8, 0, 1, 2, 2, 2, 1, 1, 2, 2, 2, 5, 4, 3, 9, 3, 4, 2, 3, 7, 2, 9, 2, 1, 4, 7, 5, 5, 9, 2, 0, 9, 7, 9, 7, 4, 1, 8, 3, 3, 8, 0, 8, 7, 0, 7, 7, 9, 6, 4, 0, 3, 7, 2, 1, 5, 2, 0, 5, 8, 6, 7, 0, 1, 0, 5, 6, 2, 1, 4, 1, 8, 7, 9, 9, 7, 3, 2, 2, 4, 7, 4, 3, 9, 0, 3, 9, 5, 1, 0, 9, 0, 7, 4, 3, 5, 7, 2, 7, 2, 8, 7, 5, 4, 5, 9, 4, 3, 5, 2, 2, 7, 5, 3, 1, 9, 3, 7, 1, 0, 3, 6, 4, 2, 5, 7, 2, 1, 1, 7, 7, 9, 0, 1, 4, 8, 9, 2, 5, 3, 7, 8, 7, 7, 0, 8, 5, 6, 0, 7, 5, 6, 7, 7, 9, 7, 1, 0, 0, 8, 0, 4, 0, 6, 4, 5, 5, 0, 7, 3, 0, 4, 5, 0, 7, 1, 8, 7, 1, 2, 2, 0, 4, 7, 3, 7, 6, 8, 6, 3, 7, 4, 0, 0, 0, 8, 7, 3, 3, 0, 5, 6, 1, 5, 0, 9, 9, 1, 3, 0, 6, 1, 6, 6, 5, 7, 2, 2, 0, 9, 2, 6, 8, 2, 8, 3, 7, 7, 3, 3, 9, 5, 7, 3, 0, 9, 4, 5, 0, 7, 2, 9, 5, 5, 8, 7, 4, 9, 9, 2, 3, 6, 3, 0, 6, 7, 6, 4, 2, 5, 4, 1, 5, 7, 9, 7, 3, 9, 8, 2, 5, 1, 9, 6, 1, 0, 4, 8, 0, 7, 6, 9, 8, 8, 4, 4, 4, 1, 7, 7, 1, 1, 6, 7, 0, 3, 2, 8, 7, 8, 7, 9, 1, 1, 3, 8, 9, 5, 9, 1, 0, 2, 3, 4, 4, 4, 7, 1, 2, 0, 1, 5, 4, 4, 9, 2, 4, 2, 2, 6, 7, 9, 6, 7, 1, 4, 0, 8, 3, 3, 5, 4, 0, 8, 3, 0, 4, 0, 1, 8, 4, 3, 2, 7, 5, 4, 6, 5, 2, 1, 0, 4, 4, 5, 8, 0, 7, 3, 2, 6, 7, 2, 2, 3, 4, 2, 4, 6, 3, 4, 5, 1, 7, 5, 2, 5, 7, 9, 9, 9, 9, 2, 0, 9, 2, 0, 5, 5, 5, 0, 5, 6, 6, 6, 0, 4, 9, 9, 6, 4, 5, 4, 0, 1, 0, 8, 9, 5, 7, 3, 0, 6, 4, 1, 3, 8, 1, 8, 2, 2, 6, 9, 8, 5, 1, 2, 6, 0, 9, 0, 8, 8, 0, 7, 0, 6, 9, 8, 9, 9, 4, 9, 6, 3, 3, 4, 5, 0, 8, 0, 4, 6, 3, 0, 0, 0, 3, 3, 5, 9, 6, 7, 1, 5, 4, 1, 4, 1, 7, 9, 4, 6, 4, 5, 2, 9, 4, 9, 8, 8, 7, 6, 2, 3, 9, 3, 6, 7, 0, 2, 7, 0, 4, 1, 0, 5, 7, 0, 5, 9, 2, 3, 2, 8, 5, 8, 1, 9, 6, 7, 6, 7, 3, 0, 4, 5, 8, 8, 8, 6, 7, 4, 0, 5, 1, 5, 9, 6, 0, 9, 5, 8, 5, 7, 3, 9, 8, 3, 2, 6, 5, 7, 5, 1, 1, 5, 4, 1, 8, 7, 8, 2, 9, 6, 3, 3, 4, 0, 2, 4, 1, 1, 4, 7, 2, 7, 0, 2, 6, 8, 8, 8, 7, 7, 1, 2, 6, 2, 1, 6, 0, 2, 5, 8, 2, 4, 2, 3, 1, 5, 5, 4, 4, 0, 5, 4, 7, 0, 3, 4, 5, 5, 7, 5, 7, 0, 1, 1, 9, 7, 5, 0, 1, 9, 4, 3, 6, 5, 4, 0, 4, 5, 7, 2, 2, 2, 0, 5, 6, 4, 3, 7, 8, 6, 2, 6, 1, 1, 8, 5, 2, 5, 3, 2, 8, 5, 8, 4, 6, 1, 2, 3, 7, 6, 9, 0, 4, 5, 2, 3, 4, 9, 5, 5, 9, 4, 6, 4, 1, 1, 8, 9, 4, 2, 2, 3, 3, 0, 7, 1, 8, 8, 5, 0, 2, 7, 7, 1, 0, 1, 2, 1, 9, 0, 4, 1, 1, 0, 7, 3, 7, 2, 9, 0, 1, 8, 9, 0, 0, 6, 0, 9, 1, 6, 1, 2, 7, 8, 0, 5, 6, 8, 2, 5, 5, 1, 5, 9, 1, 8, 5, 3, 1, 2, 4, 0, 7, 3, 5, 2, 8, 0, 7, 1, 2, 3, 9, 8, 3, 8, 7, 7, 9, 7, 0, 9, 4, 0, 9, 6, 1, 9, 8, 6, 4, 7, 2, 9, 5, 4, 7, 1, 2, 1, 2, 3, 9, 2, 0, 5, 0, 0, 5, 5, 4, 0, 9, 9, 1, 0, 7, 7, 7, 4, 5, 1, 2, 0, 6, 3, 8, 9, 8, 4, 1, 0, 8, 3, 9, 8, 8, 7, 8, 3, 0, 0, 7, 4, 8, 0, 9, 9, 4, 7, 7, 2, 2, 1, 5, 1, 4, 0, 5, 5, 0, 8, 4, 7, 8, 9, 4, 2, 1, 7, 4, 4, 4, 9, 4, 3, 4, 0, 7, 7, 8, 0, 9, 1, 2, 6, 2, 9, 7, 1, 9, 9, 3, 3, 1, 2, 3, 5, 4, 3, 7, 4, 1, 4, 6, 2, 7, 5, 4, 6, 7, 7, 8, 1, 8, 1, 6, 2, 7, 5, 0, 1, 4, 4, 0, 1, 2, 0, 7, 6, 8, 8, 2, 8, 4, 5, 0, 0, 1, 7, 9, 7, 3, 5, 4, 0, 2, 8, 7, 1, 0, 8, 7, 2, 2, 4, 8, 2, 8, 0, 1, 5, 3, 8, 1, 7, 2, 9, 3, 7, 9, 5, 1, 8, 3, 0, 9, 0, 6, 2, 4, 2, 7, 6, 0, 9, 8, 8, 1, 5, 7, 7, 1, 9, 5, 4, 0, 0, 7, 8, 7, 3, 7, 0, 2, 5, 5, 1, 6, 7, 2, 0, 3, 2, 0, 4, 7, 8, 6, 4, 0, 1, 5, 3, 8, 3, 9, 7, 1, 7, 1, 0, 4, 8, 5, 0, 0, 6, 4, 1, 1, 2, 9, 0, 4, 2, 1, 3, 2, 7, 0, 1, 8, 5, 7, 0, 0, 5, 0, 4, 6, 2, 2, 5, 4, 1, 8, 2, 1, 5, 3, 8, 8, 9, 9, 0, 1, 8, 1, 2, 9, 0, 3, 1, 1, 4, 7, 8, 3, 4, 9, 0, 0, 8, 2, 8, 2, 9, 4, 7, 7, 0, 4, 2, 2, 5, 7, 3, 7, 4, 6, 0, 9, 3, 6, 5, 4, 1, 2, 1, 8, 1, 9, 4, 8, 9, 9, 3, 0, 7, 0, 0, 6, 1, 0, 4, 6, 4, 2, 2, 7, 0, 0, 0, 4, 0, 0, 1, 3, 0, 6, 5, 7, 9, 6, 4, 3, 7, 5, 1, 2, 7, 7, 5, 8, 0, 9, 1, 0, 1, 4, 9, 1, 2, 5, 3, 3, 0, 7, 1, 2, 7, 9, 3, 7, 4, 4, 4, 6, 7, 2, 7, 3, 1, 7, 8, 8, 7, 0, 1, 4, 0, 9, 7, 9, 9, 1, 2, 0, 4, 7, 4, 1, 4, 1, 7, 5, 7, 8, 9, 6, 0, 3, 1, 4, 7, 9, 3, 6, 7, 8, 4, 7, 4, 0, 8, 3, 0, 1, 7, 9, 6, 9, 1, 4, 6, 7, 1, 0, 6, 3, 7, 3, 1, 8, 6, 5, 9, 5, 8, 1, 0, 9, 0, 6, 6, 1, 1, 4, 7, 0, 0, 7, 5, 4, 9, 5, 4, 0, 4, 7, 2, 0, 8, 3, 8, 1, 1, 2, 4, 8, 1, 0, 8, 1, 8, 5, 3, 2, 7, 0, 2, 4, 9, 4, 2, 4, 9, 9, 6, 9, 9, 6, 7, 3, 4, 3, 3, 9, 3, 7, 7, 8, 1, 1, 0, 6, 5, 7, 9, 4, 7, 4, 7, 0, 4, 2, 9, 7, 7, 7, 5, 0, 1, 6, 3, 4, 6, 2, 0, 9, 8, 7, 8, 4, 4, 8, 9, 7, 1, 6, 7, 9, 9, 0, 1, 5, 1, 1, 3, 6, 7, 9, 8, 3, 3, 8, 5, 2, 4, 3, 6, 8, 0, 9, 0, 6, 9, 0, 1, 2, 8, 1, 8, 2, 1, 8, 1, 7, 1, 9, 1, 8, 3, 9, 4, 1, 0, 8, 4, 4, 6, 8, 2, 2, 5, 5, 0, 2, 4, 9, 8, 0, 1, 0, 0, 6, 8, 3, 4, 7, 7, 5, 9, 4, 5, 4, 6, 9, 9, 4, 8, 5, 2, 9, 6, 4, 0, 2, 8, 0, 1, 9, 2, 1, 6, 7, 1, 8, 5, 6, 4, 6, 4, 1, 1, 9, 8, 8, 9, 1, 2, 2, 0, 5, 2, 5, 0, 8, 3, 2, 3, 8, 6, 1, 5, 0, 3, 3, 1, 9, 2, 8, 7, 8, 2, 3, 6, 2, 5, 0, 9, 0, 7, 1, 1, 7, 9, 0, 1, 2, 7, 5, 4, 6, 3, 3, 2, 1, 0, 0, 9, 9, 8, 2, 9, 6, 2, 5, 4, 7, 2, 6, 5, 2, 6, 9, 3, 7, 0, 6, 3, 5, 4, 4, 3, 4, 6, 9, 8, 8, 6, 2, 0, 0, 3, 9, 2, 2, 8, 1, 9, 2, 2, 9, 3, 0, 2, 0, 8, 7, 6, 5, 0, 6, 3, 1, 3, 0, 9, 5, 4, 3, 9, 0, 8, 2, 9, 0, 7, 3, 5, 6, 8, 2, 1, 0, 0, 4, 5, 9, 3, 5, 0, 2, 0, 7, 4, 0, 8, 3, 3, 8, 0, 3, 8, 9, 4, 0, 8, 8, 6, 8, 2, 5, 7, 0, 3, 6, 8, 3, 5, 9, 2, 2, 8, 9, 4, 1, 0, 5, 5, 2, 2, 8, 2, 2, 6, 7, 4, 5, 3, 7, 4, 5, 8, 8, 3, 9, 5, 0, 6, 8, 6, 3, 6, 4, 7, 2, 7, 6, 5, 0, 3, 1, 7, 8, 6, 4, 7, 3, 3, 8, 0, 6, 9, 2, 8, 5, 4, 9, 6, 6, 2, 2, 0, 1, 1, 9, 2, 8, 2, 1, 9, 5, 8, 4, 8, 2, 3, 7, 2, 4, 4, 9, 6, 6, 2, 9, 8, 6, 5, 9, 2, 6, 5, 2, 1, 2, 7, 4, 4, 2, 7, 2, 6, 0, 0, 1, 5, 4, 0, 1, 9, 9, 5, 4, 5, 2, 9, 2, 6, 4, 5, 4, 8, 9, 0, 9, 5, 5, 7, 7, 9, 3, 6, 8, 4, 3, 9, 0, 1, 0, 2, 5, 2, 8, 7, 9, 7, 7, 7, 9, 2, 6, 0, 6, 7, 8, 1, 8, 0, 3, 8, 5, 0, 5, 6, 9, 1, 1, 2, 6, 8, 9, 7, 7, 5, 8, 6, 1, 4, 0, 1, 8, 4, 3, 4, 7, 9, 3, 7, 5, 5, 0, 9, 1, 2, 1, 6, 7, 4, 0, 9, 3, 4, 1, 1, 7, 8, 1, 0, 5, 9, 0, 0, 9, 5, 3, 8, 8, 2, 8, 5, 7, 0, 7, 0, 9, 6, 9, 2, 9, 4, 8, 5, 2, 0, 1, 6, 4, 1, 7, 4, 1, 7, 7, 8, 5, 7, 0, 4, 4, 2, 1, 3, 8, 0, 3, 2, 7, 5, 9, 1, 0, 4, 4, 7, 0, 6, 3, 1, 8, 4, 7, 2, 5, 9, 3, 1, 7, 1, 9, 2, 9, 6, 2, 6, 1, 8, 3, 9, 2, 2, 0, 4, 8, 4, 5, 1, 2, 2, 4, 4, 1, 8, 5, 7, 7, 7, 6, 5, 5, 7, 9, 9, 8, 2, 8, 2, 1, 3, 3, 4, 8, 9, 4, 0, 7, 0, 2, 8, 1, 2, 6, 1, 0, 5, 2, 9, 7, 2, 8, 7, 3, 7, 8, 1, 2, 1, 7, 4, 8, 8, 5, 0, 2, 0, 6, 1, 2, 6, 5, 0, 1, 5, 5, 2, 5, 1, 9, 8, 7, 1, 2, 7, 0, 9, 3, 1, 9, 0, 4, 2, 6, 5, 9, 9, 2, 2, 7, 1, 0, 1, 4, 2, 3, 7, 8, 4, 0, 4, 5, 1, 2, 9, 3, 5, 8, 0, 1, 9, 6, 7, 3, 7, 4, 4, 6, 0, 2, 1, 6, 3, 0, 7, 0, 5, 9, 8, 7, 2, 7, 9, 9, 4, 8, 8, 0, 1, 4, 4, 0, 2, 8, 1, 2, 1, 3, 3, 2, 7, 8, 7, 0, 4, 3, 4, 4, 5, 7, 9, 2, 5, 2, 4, 5, 0, 1, 7, 0, 7, 6, 0, 0, 2, 5, 1, 1, 2, 4, 6, 9, 8, 1, 0, 1, 6, 8, 5, 4, 0, 4, 0, 4, 9, 3, 8, 5, 2, 8, 6, 2, 8, 1, 4, 4, 0, 8, 7, 5, 2, 8, 7, 2, 9, 5, 9, 2, 1, 0, 4, 1, 7, 7, 1, 7, 3, 5, 8, 7, 2, 5, 1, 5, 2, 0, 0, 0, 1, 2, 4, 4, 8, 0, 3, 2, 0, 3, 5, 1, 3, 3, 0, 5, 1, 8, 3, 1, 8, 7, 8, 4, 2, 0, 0, 7, 8, 1, 2, 9, 0, 2, 8, 1, 4, 8, 8, 3, 0, 8, 5, 7, 5, 4, 7, 7, 0, 1, 8, 1, 9, 7, 0, 3, 1, 6, 5, 5, 3, 8, 9, 4, 0, 9, 5, 1, 7, 2, 1, 5, 2, 8, 3, 3, 0, 7, 1, 3, 4, 4, 5, 7, 0, 6, 7, 3, 3, 7, 8, 8, 2, 5, 4, 9, 7, 3, 2, 9, 3, 0, 5, 5, 6, 9, 1, 4, 1, 5, 6, 4, 1, 4, 0, 3, 3, 6, 3, 0, 8, 4, 7, 5, 5, 7, 0, 7, 9, 4, 4, 2, 9, 1, 7, 1, 6, 8, 8, 5, 8, 3, 8, 9, 3, 8, 0, 2, 1, 8, 4, 4, 0, 0, 9, 5, 3, 1, 5, 1, 3, 5, 0, 8, 2, 1, 5, 3, 0, 8, 2, 9, 0, 9, 0, 0, 4, 1, 2, 6, 6, 9, 1, 4, 9, 7, 6, 2, 6, 2, 9, 7, 8, 5, 0, 9, 0, 0, 0, 8, 1, 3, 2, 7, 5, 8, 4, 5, 2, 8, 9, 1, 9, 1, 8, 1, 5]\n"
          ]
        }
      ]
    },
    {
      "cell_type": "markdown",
      "metadata": {
        "id": "0a5BXeaBG95p"
      },
      "source": [
        "Please note that i have outputed only the numerical values of the predicted values and not the item name so that we have the flexibility to change the labels based on the dataset used."
      ]
    },
    {
      "cell_type": "markdown",
      "metadata": {
        "id": "E9GH3VvAa7x-"
      },
      "source": [
        "# Part 2"
      ]
    },
    {
      "cell_type": "markdown",
      "metadata": {
        "id": "PFb4nHhZjnuo"
      },
      "source": [
        "- Build a unified API in python to send and receive messages to / from\n",
        "Apache Kafka and Google Pub/Sub.\n",
        "- You will have to choose the appropriate client libraries.\n",
        "- The inputs to the function and the outputs should be as unified as\n",
        "possible."
      ]
    },
    {
      "cell_type": "markdown",
      "metadata": {
        "id": "5awEtOrbHYPW"
      },
      "source": [
        "**In the next block we are installing the pubsub library, but a colab bug requires that u restart the runtime and rerun all the blocks again in order to use the library in the code further. Not doing so will lead to an error**"
      ]
    },
    {
      "cell_type": "code",
      "metadata": {
        "id": "kdw_VCygbDTj",
        "colab": {
          "base_uri": "https://localhost:8080/"
        },
        "outputId": "bb92febe-5fd1-47b4-a569-34df9826feef"
      },
      "source": [
        "!pip install --upgrade google-cloud-pubsub"
      ],
      "execution_count": null,
      "outputs": [
        {
          "output_type": "stream",
          "name": "stdout",
          "text": [
            "Requirement already satisfied: google-cloud-pubsub in /usr/local/lib/python3.7/dist-packages (2.9.0)\n",
            "Requirement already satisfied: grpc-google-iam-v1<0.13dev,>=0.12.3 in /usr/local/lib/python3.7/dist-packages (from google-cloud-pubsub) (0.12.3)\n",
            "Requirement already satisfied: proto-plus>=1.7.1 in /usr/local/lib/python3.7/dist-packages (from google-cloud-pubsub) (1.19.8)\n",
            "Requirement already satisfied: google-api-core[grpc]<3.0.0dev,>=1.28.0 in /usr/local/lib/python3.7/dist-packages (from google-cloud-pubsub) (2.2.2)\n",
            "Requirement already satisfied: grpcio<2.0dev,>=1.38.1 in /usr/local/lib/python3.7/dist-packages (from google-cloud-pubsub) (1.41.1)\n",
            "Requirement already satisfied: libcst>=0.3.10 in /usr/local/lib/python3.7/dist-packages (from google-cloud-pubsub) (0.3.21)\n",
            "Requirement already satisfied: requests<3.0.0dev,>=2.18.0 in /usr/local/lib/python3.7/dist-packages (from google-api-core[grpc]<3.0.0dev,>=1.28.0->google-cloud-pubsub) (2.23.0)\n",
            "Requirement already satisfied: googleapis-common-protos<2.0dev,>=1.52.0 in /usr/local/lib/python3.7/dist-packages (from google-api-core[grpc]<3.0.0dev,>=1.28.0->google-cloud-pubsub) (1.53.0)\n",
            "Requirement already satisfied: google-auth<3.0dev,>=1.25.0 in /usr/local/lib/python3.7/dist-packages (from google-api-core[grpc]<3.0.0dev,>=1.28.0->google-cloud-pubsub) (1.35.0)\n",
            "Requirement already satisfied: setuptools>=40.3.0 in /usr/local/lib/python3.7/dist-packages (from google-api-core[grpc]<3.0.0dev,>=1.28.0->google-cloud-pubsub) (57.4.0)\n",
            "Requirement already satisfied: protobuf>=3.12.0 in /usr/local/lib/python3.7/dist-packages (from google-api-core[grpc]<3.0.0dev,>=1.28.0->google-cloud-pubsub) (3.19.1)\n",
            "Requirement already satisfied: grpcio-status<2.0dev,>=1.33.2 in /usr/local/lib/python3.7/dist-packages (from google-api-core[grpc]<3.0.0dev,>=1.28.0->google-cloud-pubsub) (1.41.1)\n",
            "Requirement already satisfied: pyasn1-modules>=0.2.1 in /usr/local/lib/python3.7/dist-packages (from google-auth<3.0dev,>=1.25.0->google-api-core[grpc]<3.0.0dev,>=1.28.0->google-cloud-pubsub) (0.2.8)\n",
            "Requirement already satisfied: cachetools<5.0,>=2.0.0 in /usr/local/lib/python3.7/dist-packages (from google-auth<3.0dev,>=1.25.0->google-api-core[grpc]<3.0.0dev,>=1.28.0->google-cloud-pubsub) (4.2.4)\n",
            "Requirement already satisfied: rsa<5,>=3.1.4 in /usr/local/lib/python3.7/dist-packages (from google-auth<3.0dev,>=1.25.0->google-api-core[grpc]<3.0.0dev,>=1.28.0->google-cloud-pubsub) (4.7.2)\n",
            "Requirement already satisfied: six>=1.9.0 in /usr/local/lib/python3.7/dist-packages (from google-auth<3.0dev,>=1.25.0->google-api-core[grpc]<3.0.0dev,>=1.28.0->google-cloud-pubsub) (1.15.0)\n",
            "Requirement already satisfied: pyyaml>=5.2 in /usr/local/lib/python3.7/dist-packages (from libcst>=0.3.10->google-cloud-pubsub) (6.0)\n",
            "Requirement already satisfied: typing-extensions>=3.7.4.2 in /usr/local/lib/python3.7/dist-packages (from libcst>=0.3.10->google-cloud-pubsub) (3.10.0.2)\n",
            "Requirement already satisfied: typing-inspect>=0.4.0 in /usr/local/lib/python3.7/dist-packages (from libcst>=0.3.10->google-cloud-pubsub) (0.7.1)\n",
            "Requirement already satisfied: pyasn1<0.5.0,>=0.4.6 in /usr/local/lib/python3.7/dist-packages (from pyasn1-modules>=0.2.1->google-auth<3.0dev,>=1.25.0->google-api-core[grpc]<3.0.0dev,>=1.28.0->google-cloud-pubsub) (0.4.8)\n",
            "Requirement already satisfied: certifi>=2017.4.17 in /usr/local/lib/python3.7/dist-packages (from requests<3.0.0dev,>=2.18.0->google-api-core[grpc]<3.0.0dev,>=1.28.0->google-cloud-pubsub) (2021.10.8)\n",
            "Requirement already satisfied: idna<3,>=2.5 in /usr/local/lib/python3.7/dist-packages (from requests<3.0.0dev,>=2.18.0->google-api-core[grpc]<3.0.0dev,>=1.28.0->google-cloud-pubsub) (2.10)\n",
            "Requirement already satisfied: chardet<4,>=3.0.2 in /usr/local/lib/python3.7/dist-packages (from requests<3.0.0dev,>=2.18.0->google-api-core[grpc]<3.0.0dev,>=1.28.0->google-cloud-pubsub) (3.0.4)\n",
            "Requirement already satisfied: urllib3!=1.25.0,!=1.25.1,<1.26,>=1.21.1 in /usr/local/lib/python3.7/dist-packages (from requests<3.0.0dev,>=2.18.0->google-api-core[grpc]<3.0.0dev,>=1.28.0->google-cloud-pubsub) (1.24.3)\n",
            "Requirement already satisfied: mypy-extensions>=0.3.0 in /usr/local/lib/python3.7/dist-packages (from typing-inspect>=0.4.0->libcst>=0.3.10->google-cloud-pubsub) (0.4.3)\n"
          ]
        }
      ]
    },
    {
      "cell_type": "markdown",
      "metadata": {
        "id": "FCGT5QOgHu7B"
      },
      "source": [
        "Make sure u upload the json key file from ur cloud project and change the file name in the code below"
      ]
    },
    {
      "cell_type": "code",
      "metadata": {
        "id": "SMxRVwwAVAiq"
      },
      "source": [
        "import os\n",
        "os.environ[\"GOOGLE_APPLICATION_CREDENTIALS\"] = \"/content/vectorai-331806-81e44ce45bb4.json\" #setting environment variable to access the gcp project"
      ],
      "execution_count": null,
      "outputs": []
    },
    {
      "cell_type": "code",
      "metadata": {
        "colab": {
          "base_uri": "https://localhost:8080/"
        },
        "id": "N3s0L7cha981",
        "outputId": "0de5ac18-4069-4a75-b294-2fe1f0d08e50"
      },
      "source": [
        "from google.cloud import pubsub_v1\n",
        "\n",
        "publisher = pubsub_v1.PublisherClient() # creating a publisher object\n",
        "topic_path = 'projects/vectorai-331806/topics/my-topic-send'  #topic path where we will publish the messages. You can find this in the cloud dashboard\n",
        "data = f\"hello\"\n",
        "data = data.encode(\"utf-8\") # Data must be a bytestring\n",
        "publisher.publish(topic_path, data)# publish the message\n",
        "print(f\"Published messages to {topic_path}.\")"
      ],
      "execution_count": null,
      "outputs": [
        {
          "output_type": "stream",
          "name": "stdout",
          "text": [
            "Published messages to projects/vectorai-331806/topics/my-topic-send.\n"
          ]
        }
      ]
    },
    {
      "cell_type": "code",
      "metadata": {
        "colab": {
          "base_uri": "https://localhost:8080/"
        },
        "id": "wAhjUpS1a-3c",
        "outputId": "a396b206-fb1c-47da-fbef-6b9b650b1f93"
      },
      "source": [
        "from concurrent.futures import TimeoutError\n",
        "from google.cloud import pubsub_v1\n",
        "\n",
        "# Number of seconds the subscriber should listen for messages\n",
        "timeout = 5.0\n",
        "\n",
        "subscriber = pubsub_v1.SubscriberClient()\n",
        "\n",
        "subscription_path = 'projects/vectorai-331806/subscriptions/my-topic-send-sub' #topic path where we will lsiten to the messages. You can find this in the cloud dashboard\n",
        "\n",
        "def callback(message: pubsub_v1.subscriber.message.Message) -> None:\n",
        "    print(f\"Received {message}.\") # print the recieved message\n",
        "    message.ack() #acknowledge the message receipt\n",
        "\n",
        "streaming_pull_future = subscriber.subscribe(subscription_path, callback=callback)\n",
        "print(f\"Listening for messages on {subscription_path}..\\n\")\n",
        "\n",
        "# Wrap subscriber in a 'with' block to automatically call close() when done.\n",
        "with subscriber:\n",
        "    try:\n",
        "        # When `timeout` is not set, result() will block indefinitely,\n",
        "        # unless an exception is encountered first.\n",
        "        streaming_pull_future.result(timeout=timeout)\n",
        "    except TimeoutError:\n",
        "        streaming_pull_future.cancel()  # Trigger the shutdown.\n",
        "        streaming_pull_future.result()  # Block until the shutdown is complete."
      ],
      "execution_count": null,
      "outputs": [
        {
          "output_type": "stream",
          "name": "stdout",
          "text": [
            "Listening for messages on projects/vectorai-331806/subscriptions/my-topic-send-sub..\n",
            "\n",
            "Received Message {\n",
            "  data: b'hello'\n",
            "  ordering_key: ''\n",
            "  attributes: {}\n",
            "}.\n"
          ]
        }
      ]
    },
    {
      "cell_type": "markdown",
      "metadata": {
        "id": "Q0ITsT3eA121"
      },
      "source": [
        "# Part 3\n",
        "\n",
        "- Let’s do something real world now! We have multiple machine learning\n",
        "services that are coordinated via a message broker.\n",
        "Here, you have to design and build a robust system to classify fashion\n",
        "images. (Here, we can use the fashion MNIST validation set to mock\n",
        "the input) The system will have a single client consuming a single\n",
        "machine learning service.\n",
        "- Use the model from Part 1 and the library from Part 2 to build such an\n",
        "application. It does have to be robust, scalable and able to process\n",
        "requests asynchronously.\n",
        "- Note that this is not a REST API based system but rather one which\n",
        "can process requests in a non-blocking way and (theoretically) put the\n",
        "results somewhere else (like a database). You can mock this by\n",
        "printing to the console.\n",
        "- Look below for a simple schematic\n",
        "\n",
        "![image.png](data:image/png;base64,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)"
      ]
    },
    {
      "cell_type": "markdown",
      "metadata": {
        "id": "vYhe9NqVI6Yl"
      },
      "source": [
        "In this section we are using the api from above section to send parameters to the trained model to predict the labels. We are also using the same api to receive the final predicted labels\n",
        "\n",
        "The Parameters we are sending are :\n",
        "1. the link to the images\n",
        "2. the number of images\n",
        "\n",
        "Please ensure that the link contains a gzip file in MNIST format having grayscale images of dimension 28x28"
      ]
    },
    {
      "cell_type": "markdown",
      "metadata": {
        "id": "wkm19mBoKMjC"
      },
      "source": [
        "# sending the parameters"
      ]
    },
    {
      "cell_type": "code",
      "metadata": {
        "colab": {
          "base_uri": "https://localhost:8080/"
        },
        "id": "EC7MetLZETMH",
        "outputId": "e96c7583-49d3-4029-a322-c1444553261c"
      },
      "source": [
        "publisher = pubsub_v1.PublisherClient()  # creating a publisher object\n",
        "\n",
        "topic_path = 'projects/vectorai-331806/topics/my-topic-send' #topic path where we will publish the messages. You can find this in the cloud dashboard\n",
        "\n",
        "data = f\"{xtest},{num_images_test}\" # data contains a string with images link and number of images separated by a comma\n",
        "\n",
        "# Data must be a bytestring\n",
        "data = data.encode(\"utf-8\")\n",
        "\n",
        "publisher.publish(topic_path, data)\n",
        "\n",
        "print(f\"Published messages to {topic_path}.\")"
      ],
      "execution_count": null,
      "outputs": [
        {
          "output_type": "stream",
          "name": "stdout",
          "text": [
            "Published messages to projects/vectorai-331806/topics/my-topic-send.\n"
          ]
        }
      ]
    },
    {
      "cell_type": "markdown",
      "metadata": {
        "id": "QhEelSUnKR62"
      },
      "source": [
        "# Receiving the parameters and predicting the data"
      ]
    },
    {
      "cell_type": "code",
      "metadata": {
        "colab": {
          "base_uri": "https://localhost:8080/",
          "height": 186,
          "referenced_widgets": [
            "cc4956471db34e8c8c68210f9d31471b",
            "00fc827fef7144a3a3cc9b62a5658dee",
            "79ab40b126ab4c259e05683a9614a7be",
            "338f388d36024c62a0bc9e36c036e372",
            "5b1e85c9fdb340c1a619611f47226c92",
            "850adb2d5a124233882f1ba390a7a314",
            "b11a4f62125d49d6809dda083e86ea9e",
            "8e33131982354356a35868bc909bbe0f",
            "76196fa801394fc5b8b3620276c83a8f",
            "2d96e3fb463447a09ed75834988ea55d",
            "572e0a71962e491ba9de3dadd520e445",
            "a15e1b8824184d228504327e55d795f1",
            "22f3164bf0584ba4aed791728167ba82",
            "76e4b36664314a01839fb2a95eefe41d",
            "cb89d5b453f744d3b0ece5038a3be1d6",
            "02c4ca7f65424393867405a207c591d0",
            "6c48263cf7e643fc9975ef1536cf33ad",
            "b93194625b4d4525aaf016673d778a93",
            "98d63154aef141f7bb80f82e955e9b31",
            "3ff30074597c4383b18afa54c857e903",
            "f130cc7f75f04512b405f2cdf13eab4d",
            "879375beea544b28a8cb9d4a0d70049a"
          ]
        },
        "id": "YFGD3yXtFZOg",
        "outputId": "f7fabf6b-ad50-46e2-8b0b-b2ca0888bb24"
      },
      "source": [
        "input_data = []\n",
        "timeout = 5.0\n",
        "\n",
        "subscriber = pubsub_v1.SubscriberClient()\n",
        "\n",
        "subscription_path = 'projects/vectorai-331806/subscriptions/my-topic-send-sub'\n",
        "\n",
        "def callback(message: pubsub_v1.subscriber.message.Message) -> None:\n",
        "    global input_data\n",
        "    input_data = message.data.decode().split(',')\n",
        "    message.ack()\n",
        "\n",
        "streaming_pull_future = subscriber.subscribe(subscription_path, callback=callback)\n",
        "print(f\"Listening for messages on {subscription_path}..\\n\")\n",
        "\n",
        "# Wrap subscriber in a 'with' block to automatically call close() when done.\n",
        "with subscriber:\n",
        "    try:\n",
        "        # When `timeout` is not set, result() will block indefinitely,\n",
        "        # unless an exception is encountered first.\n",
        "        streaming_pull_future.result(timeout=timeout)\n",
        "    except TimeoutError:\n",
        "        streaming_pull_future.cancel()  # Trigger the shutdown.\n",
        "        streaming_pull_future.result()  # Block until the shutdown is complete.\n",
        "\n",
        "\n",
        "final_labels = prediction(input_data[0],int(input_data[1]))\n",
        "\n",
        "print(final_labels)"
      ],
      "execution_count": null,
      "outputs": [
        {
          "output_type": "stream",
          "name": "stdout",
          "text": [
            "Listening for messages on projects/vectorai-331806/subscriptions/my-topic-send-sub..\n",
            "\n"
          ]
        },
        {
          "output_type": "display_data",
          "data": {
            "application/vnd.jupyter.widget-view+json": {
              "model_id": "cc4956471db34e8c8c68210f9d31471b",
              "version_minor": 0,
              "version_major": 2
            },
            "text/plain": [
              "Dl Completed...: 0 url [00:00, ? url/s]"
            ]
          },
          "metadata": {}
        },
        {
          "output_type": "display_data",
          "data": {
            "application/vnd.jupyter.widget-view+json": {
              "model_id": "a15e1b8824184d228504327e55d795f1",
              "version_minor": 0,
              "version_major": 2
            },
            "text/plain": [
              "Dl Size...: 0 MiB [00:00, ? MiB/s]"
            ]
          },
          "metadata": {}
        },
        {
          "output_type": "stream",
          "name": "stdout",
          "text": [
            "\n",
            "\n",
            "[9, 2, 1, 1, 6, 1, 4, 6, 5, 7, 4, 5, 5, 3, 4, 1, 2, 4, 8, 0, 2, 5, 7, 5, 1, 2, 6, 0, 9, 4, 8, 8, 3, 3, 8, 0, 7, 5, 7, 9, 0, 1, 6, 9, 4, 7, 2, 1, 2, 6, 4, 6, 5, 8, 2, 2, 8, 4, 8, 0, 7, 7, 8, 5, 1, 1, 0, 4, 7, 8, 7, 0, 2, 6, 2, 3, 1, 2, 8, 4, 1, 8, 5, 9, 5, 0, 3, 2, 0, 6, 5, 3, 6, 7, 1, 8, 0, 1, 2, 2, 3, 6, 7, 6, 7, 8, 5, 7, 9, 4, 2, 5, 7, 0, 5, 2, 8, 4, 7, 8, 0, 0, 9, 9, 3, 0, 8, 4, 1, 5, 4, 1, 9, 1, 8, 4, 2, 1, 2, 5, 1, 0, 0, 0, 1, 6, 1, 3, 2, 2, 2, 4, 1, 4, 5, 0, 4, 7, 9, 3, 7, 2, 3, 9, 0, 9, 2, 7, 4, 2, 6, 5, 2, 1, 2, 1, 3, 0, 9, 1, 0, 9, 3, 6, 7, 9, 9, 4, 4, 7, 1, 2, 1, 6, 3, 2, 8, 3, 6, 1, 1, 0, 2, 9, 2, 4, 0, 7, 9, 8, 4, 1, 8, 4, 1, 3, 1, 4, 7, 2, 8, 5, 2, 0, 7, 7, 6, 2, 7, 0, 7, 8, 9, 2, 9, 0, 5, 1, 4, 6, 5, 6, 9, 2, 2, 8, 6, 4, 6, 2, 9, 7, 6, 5, 5, 2, 8, 5, 2, 3, 0, 6, 8, 0, 0, 4, 4, 8, 9, 3, 1, 3, 0, 2, 3, 0, 8, 3, 7, 4, 0, 1, 6, 4, 0, 4, 6, 7, 5, 4, 5, 9, 5, 6, 5, 5, 1, 9, 8, 8, 3, 3, 6, 8, 0, 0, 2, 9, 7, 7, 1, 3, 2, 6, 2, 4, 7, 1, 4, 4, 8, 2, 6, 5, 4, 2, 7, 7, 7, 3, 3, 7, 6, 7, 1, 3, 7, 2, 2, 3, 4, 0, 3, 1, 6, 1, 9, 4, 9, 9, 1, 7, 8, 3, 6, 0, 2, 4, 8, 0, 1, 2, 2, 4, 4, 7, 3, 2, 2, 5, 0, 7, 9, 4, 0, 9, 3, 9, 3, 2, 5, 6, 2, 3, 5, 8, 1, 6, 2, 6, 6, 4, 9, 5, 2, 0, 4, 6, 1, 2, 0, 9, 7, 0, 4, 4, 4, 6, 2, 1, 6, 6, 7, 2, 9, 4, 2, 1, 5, 4, 5, 3, 8, 5, 8, 6, 4, 8, 9, 8, 6, 2, 4, 4, 2, 4, 1, 4, 1, 3, 0, 7, 8, 8, 2, 5, 3, 1, 9, 5, 3, 3, 0, 1, 2, 2, 9, 4, 0, 6, 0, 4, 2, 0, 0, 3, 3, 8, 2, 8, 9, 4, 0, 7, 0, 4, 4, 9, 2, 9, 5, 9, 3, 7, 5, 7, 8, 1, 0, 0, 6, 4, 8, 9, 7, 9, 1, 2, 7, 0, 2, 0, 5, 7, 1, 8, 2, 2, 2, 2, 2, 6, 6, 1, 9, 8, 5, 1, 9, 1, 2, 8, 3, 8, 9, 2, 4, 2, 8, 2, 2, 0, 5, 8, 8, 5, 3, 9, 4, 3, 4, 4, 5, 1, 0, 1, 2, 0, 4, 9, 6, 1, 5, 1, 1, 1, 9, 3, 4, 5, 3, 6, 6, 0, 4, 0, 0, 5, 8, 6, 3, 4, 0, 7, 7, 8, 9, 0, 6, 8, 7, 6, 7, 9, 3, 4, 0, 4, 5, 0, 1, 1, 5, 9, 4, 2, 5, 7, 8, 1, 2, 9, 7, 7, 1, 0, 9, 3, 6, 9, 0, 7, 6, 8, 2, 7, 0, 2, 3, 8, 2, 2, 6, 9, 3, 0, 7, 8, 0, 2, 9, 4, 2, 6, 4, 9, 0, 4, 4, 2, 7, 5, 8, 4, 9, 1, 0, 5, 4, 4, 4, 0, 0, 4, 5, 4, 0, 4, 5, 4, 1, 6, 1, 1, 6, 4, 3, 8, 2, 8, 6, 7, 0, 4, 0, 8, 5, 0, 8, 2, 9, 6, 8, 9, 6, 4, 2, 9, 6, 4, 5, 0, 9, 5, 3, 6, 6, 8, 3, 6, 8, 3, 8, 0, 9, 7, 9, 4, 8, 9, 1, 3, 7, 1, 0, 2, 4, 7, 1, 0, 0, 8, 7, 2, 4, 6, 4, 4, 1, 5, 9, 0, 0, 1, 6, 5, 0, 0, 3, 3, 3, 8, 1, 1, 8, 5, 7, 7, 8, 7, 2, 0, 7, 0, 8, 0, 9, 7, 6, 1, 6, 6, 4, 8, 2, 6, 3, 4, 8, 4, 0, 8, 9, 2, 4, 5, 9, 1, 4, 4, 9, 2, 1, 7, 9, 5, 8, 3, 7, 7, 1, 1, 1, 6, 9, 5, 3, 8, 4, 4, 9, 2, 8, 3, 2, 4, 4, 7, 1, 4, 9, 3, 5, 8, 5, 4, 7, 4, 8, 5, 9, 3, 3, 4, 7, 1, 7, 3, 7, 4, 4, 5, 8, 3, 7, 1, 2, 0, 1, 9, 8, 2, 7, 1, 3, 7, 5, 9, 9, 1, 8, 6, 5, 7, 1, 9, 2, 1, 0, 0, 2, 1, 7, 1, 1, 5, 7, 1, 5, 2, 2, 3, 3, 1, 1, 4, 9, 4, 3, 7, 7, 0, 8, 9, 9, 6, 1, 8, 4, 0, 0, 5, 9, 2, 0, 5, 5, 1, 5, 7, 8, 7, 5, 3, 6, 4, 0, 4, 0, 0, 0, 2, 5, 5, 1, 2, 0, 9, 3, 7, 8, 6, 8, 3, 4, 7, 0, 7, 4, 8, 6, 3, 4, 4, 3, 4, 9, 0, 2, 4, 9, 1, 8, 1, 7, 5, 5, 6, 6, 2, 1, 0, 5, 4, 0, 0, 2, 7, 5, 0, 2, 5, 9, 4, 8, 2, 0, 4, 0, 2, 9, 0, 7, 7, 1, 4, 4, 0, 5, 0, 9, 9, 8, 8, 2, 0, 2, 4, 6, 6, 3, 2, 3, 5, 4, 9, 3, 4, 7, 7, 6, 3, 5, 5, 6, 4, 5, 9, 2, 3, 7, 5, 1, 9, 8, 8, 9, 9, 2, 7, 2, 2, 3, 8, 7, 6, 4, 5, 6, 3, 6, 1, 4, 9, 3, 1, 6, 5, 0, 5, 7, 5, 2, 3, 3, 9, 4, 3, 6, 0, 4, 5, 0, 4, 9, 4, 0, 3, 2, 7, 0, 2, 1, 1, 4, 4, 6, 5, 9, 0, 1, 4, 5, 1, 4, 4, 8, 4, 7, 7, 3, 8, 1, 1, 9, 8, 1, 3, 3, 7, 5, 1, 5, 7, 8, 9, 6, 3, 5, 8, 4, 6, 3, 8, 4, 5, 5, 6, 7, 1, 5, 3, 5, 4, 8, 6, 2, 1, 1, 7, 9, 6, 2, 7, 0, 4, 8, 2, 2, 0, 6, 4, 4, 9, 6, 8, 4, 5, 9, 6, 3, 9, 6, 9, 8, 7, 4, 2, 2, 5, 3, 7, 0, 7, 2, 9, 3, 7, 0, 9, 4, 8, 4, 4, 7, 2, 4, 6, 2, 0, 7, 8, 4, 2, 4, 5, 5, 6, 4, 5, 5, 8, 1, 1, 7, 4, 6, 9, 0, 8, 7, 2, 2, 1, 6, 7, 7, 4, 9, 8, 5, 1, 1, 0, 2, 0, 9, 0, 1, 9, 0, 5, 5, 2, 0, 7, 0, 2, 3, 1, 3, 1, 3, 2, 7, 2, 4, 9, 5, 2, 9, 6, 3, 4, 4, 0, 0, 5, 2, 2, 5, 4, 1, 4, 2, 5, 4, 4, 8, 0, 2, 4, 0, 6, 3, 6, 8, 3, 8, 2, 0, 4, 6, 8, 8, 6, 5, 2, 2, 3, 0, 1, 9, 0, 9, 1, 9, 6, 5, 2, 4, 7, 3, 8, 5, 0, 3, 0, 7, 5, 5, 9, 5, 0, 0, 0, 3, 2, 4, 4, 5, 7, 1, 3, 4, 6, 4, 5, 1, 6, 7, 3, 2, 8, 8, 2, 8, 9, 4, 1, 6, 5, 2, 7, 8, 5, 6, 8, 5, 4, 2, 8, 9, 8, 6, 3, 6, 8, 8, 2, 0, 9, 4, 4, 8, 1, 3, 6, 1, 9, 2, 1, 4, 2, 7, 9, 4, 0, 0, 4, 4, 2, 4, 5, 0, 2, 8, 3, 7, 4, 4, 0, 0, 5, 2, 8, 2, 4, 3, 0, 2, 1, 7, 7, 5, 4, 7, 2, 6, 7, 3, 3, 1, 3, 3, 6, 0, 1, 7, 0, 4, 7, 1, 0, 6, 5, 8, 4, 2, 7, 9, 5, 0, 7, 9, 5, 1, 2, 7, 5, 5, 3, 9, 7, 1, 6, 7, 8, 0, 1, 7, 2, 7, 1, 1, 5, 5, 6, 6, 5, 9, 5, 5, 2, 3, 9, 3, 8, 5, 4, 0, 0, 0, 5, 7, 4, 5, 2, 6, 4, 6, 7, 6, 0, 5, 1, 7, 2, 3, 2, 8, 7, 8, 7, 1, 2, 0, 2, 9, 7, 5, 6, 1, 0, 7, 1, 2, 4, 9, 3, 6, 4, 4, 3, 0, 0, 2, 3, 6, 1, 3, 5, 2, 5, 0, 9, 1, 1, 8, 2, 9, 5, 0, 5, 4, 6, 7, 1, 1, 5, 3, 8, 9, 8, 3, 8, 9, 2, 6, 1, 1, 3, 5, 6, 7, 1, 9, 9, 2, 2, 7, 0, 1, 1, 9, 6, 3, 7, 2, 8, 1, 8, 0, 7, 9, 8, 5, 8, 2, 0, 4, 0, 4, 5, 8, 3, 8, 7, 5, 7, 3, 7, 6, 7, 0, 2, 2, 5, 3, 5, 1, 1, 7, 7, 6, 3, 6, 4, 2, 8, 6, 3, 1, 4, 9, 9, 4, 5, 2, 2, 7, 8, 0, 7, 9, 1, 2, 9, 4, 7, 3, 4, 3, 3, 1, 8, 8, 5, 3, 8, 0, 2, 6, 3, 2, 0, 2, 7, 3, 2, 8, 3, 7, 7, 3, 1, 7, 5, 8, 8, 2, 0, 0, 4, 4, 8, 5, 7, 0, 6, 0, 7, 7, 3, 9, 2, 5, 9, 7, 1, 7, 2, 4, 5, 1, 4, 5, 4, 5, 0, 4, 4, 1, 4, 4, 8, 4, 5, 9, 4, 1, 1, 7, 2, 3, 5, 0, 3, 9, 7, 5, 3, 8, 8, 8, 9, 1, 1, 6, 3, 1, 4, 3, 4, 9, 9, 0, 0, 4, 9, 4, 9, 0, 6, 1, 8, 9, 2, 9, 4, 8, 0, 7, 2, 3, 6, 2, 5, 6, 1, 9, 0, 4, 2, 9, 9, 0, 8, 3, 6, 6, 6, 0, 4, 2, 6, 6, 5, 0, 2, 7, 8, 7, 4, 6, 0, 6, 5, 2, 4, 2, 9, 5, 2, 6, 7, 0, 1, 9, 5, 5, 0, 7, 7, 5, 0, 5, 0, 8, 4, 7, 9, 8, 2, 6, 7, 3, 3, 7, 7, 7, 8, 4, 9, 5, 7, 6, 5, 7, 5, 1, 3, 0, 2, 9, 9, 8, 3, 7, 0, 2, 4, 9, 3, 3, 1, 7, 9, 1, 5, 7, 2, 7, 6, 5, 7, 0, 7, 5, 5, 4, 0, 7, 0, 3, 2, 6, 2, 9, 9, 0, 4, 0, 8, 3, 8, 0, 6, 4, 1, 8, 2, 6, 5, 0, 4, 6, 3, 0, 0, 1, 0, 8, 4, 9, 0, 7, 6, 7, 7, 1, 5, 8, 7, 2, 9, 9, 1, 6, 6, 1, 1, 1, 8, 8, 1, 3, 7, 5, 2, 0, 8, 4, 8, 9, 4, 1, 3, 1, 9, 8, 1, 1, 1, 8, 0, 9, 9, 7, 6, 0, 4, 2, 1, 1, 7, 9, 2, 2, 0, 3, 6, 6, 8, 1, 7, 2, 4, 2, 2, 4, 8, 7, 1, 8, 5, 5, 7, 7, 6, 6, 2, 7, 0, 6, 0, 5, 5, 0, 2, 1, 0, 3, 7, 7, 3, 7, 2, 5, 7, 9, 8, 9, 1, 4, 8, 3, 2, 6, 6, 0, 8, 3, 8, 0, 8, 6, 0, 8, 8, 4, 2, 9, 3, 2, 0, 8, 5, 7, 0, 1, 1, 1, 9, 5, 1, 3, 3, 6, 0, 8, 4, 1, 3, 8, 8, 0, 7, 5, 0, 6, 7, 3, 3, 2, 4, 6, 5, 5, 4, 2, 3, 9, 1, 1, 7, 3, 8, 7, 2, 2, 9, 3, 9, 9, 0, 1, 7, 1, 4, 8, 1, 6, 9, 3, 4, 0, 0, 7, 6, 9, 9, 5, 5, 7, 0, 9, 3, 3, 6, 9, 8, 4, 2, 6, 3, 9, 2, 3, 4, 7, 4, 0, 4, 8, 1, 8, 7, 3, 4, 5, 2, 2, 9, 1, 9, 4, 9, 1, 0, 2, 8, 8, 7, 7, 7, 7, 6, 6, 0, 7, 5, 8, 5, 6, 0, 6, 4, 9, 2, 8, 3, 1, 9, 3, 1, 2, 2, 2, 3, 7, 5, 7, 4, 4, 4, 1, 2, 3, 5, 4, 2, 9, 1, 5, 9, 3, 6, 0, 4, 0, 1, 7, 7, 6, 6, 7, 7, 3, 0, 4, 3, 2, 7, 8, 7, 2, 8, 0, 8, 7, 4, 8, 2, 7, 0, 9, 9, 3, 1, 5, 9, 3, 1, 0, 3, 3, 5, 9, 7, 9, 2, 3, 5, 9, 3, 7, 9, 3, 6, 0, 3, 5, 7, 7, 2, 3, 5, 3, 1, 1, 9, 4, 3, 9, 5, 5, 7, 2, 4, 9, 0, 2, 1, 9, 7, 1, 5, 0, 5, 5, 0, 3, 5, 0, 3, 3, 7, 4, 2, 6, 8, 5, 9, 2, 1, 0, 5, 5, 8, 5, 3, 7, 4, 4, 3, 9, 6, 0, 0, 9, 1, 4, 3, 1, 5, 3, 8, 5, 1, 1, 2, 9, 4, 0, 5, 2, 8, 0, 2, 9, 8, 6, 4, 8, 3, 8, 0, 4, 5, 0, 4, 8, 5, 4, 9, 0, 9, 5, 8, 0, 9, 1, 4, 7, 2, 1, 6, 0, 0, 6, 5, 2, 4, 8, 5, 5, 2, 0, 6, 8, 4, 6, 1, 9, 2, 7, 7, 2, 0, 4, 8, 3, 4, 8, 5, 2, 8, 3, 3, 1, 4, 4, 0, 4, 9, 0, 4, 1, 9, 9, 8, 1, 8, 8, 3, 3, 3, 8, 5, 9, 2, 6, 8, 7, 0, 3, 0, 0, 0, 5, 7, 5, 0, 7, 9, 1, 8, 4, 8, 9, 3, 5, 2, 0, 4, 4, 7, 8, 9, 1, 8, 2, 5, 5, 3, 1, 1, 8, 8, 3, 0, 7, 0, 1, 8, 0, 0, 2, 9, 8, 9, 8, 8, 6, 9, 1, 8, 4, 2, 7, 7, 0, 5, 1, 1, 0, 0, 4, 3, 0, 4, 3, 5, 1, 4, 3, 3, 4, 4, 5, 0, 9, 8, 3, 4, 1, 0, 2, 1, 2, 4, 4, 8, 4, 9, 0, 9, 9, 5, 0, 0, 0, 5, 0, 3, 9, 7, 3, 6, 1, 9, 4, 1, 0, 4, 5, 4, 1, 4, 8, 5, 9, 4, 5, 3, 2, 8, 1, 0, 6, 8, 9, 0, 5, 0, 2, 8, 9, 3, 0, 2, 8, 5, 9, 2, 3, 1, 6, 3, 6, 2, 7, 4, 1, 2, 6, 4, 0, 4, 8, 5, 0, 8, 5, 2, 7, 8, 1, 5, 9, 8, 0, 9, 0, 9, 3, 7, 5, 9, 9, 6, 0, 7, 1, 5, 5, 9, 5, 4, 4, 2, 4, 5, 9, 7, 4, 2, 6, 9, 9, 4, 2, 1, 3, 7, 1, 8, 7, 9, 1, 8, 9, 3, 7, 7, 7, 1, 7, 4, 4, 6, 2, 4, 5, 2, 8, 9, 0, 8, 0, 0, 7, 7, 5, 0, 1, 9, 2, 0, 4, 9, 2, 2, 6, 7, 1, 0, 5, 8, 7, 2, 8, 2, 3, 6, 1, 7, 4, 8, 7, 4, 1, 7, 8, 2, 4, 6, 4, 4, 1, 8, 4, 7, 2, 9, 4, 5, 2, 0, 3, 8, 8, 2, 0, 7, 2, 4, 0, 4, 1, 0, 8, 1, 7, 7, 2, 6, 3, 1, 2, 7, 2, 6, 0, 6, 2, 7, 2, 8, 3, 2, 3, 0, 9, 7, 3, 5, 4, 9, 2, 4, 5, 0, 6, 8, 4, 0, 4, 4, 0, 4, 1, 6, 2, 2, 7, 1, 0, 4, 4, 1, 1, 5, 4, 3, 8, 3, 3, 1, 7, 4, 9, 8, 8, 4, 5, 5, 6, 7, 2, 9, 1, 0, 5, 3, 7, 2, 1, 1, 8, 0, 2, 0, 5, 9, 0, 3, 8, 1, 0, 4, 8, 2, 4, 8, 3, 4, 2, 1, 9, 3, 7, 9, 5, 7, 2, 1, 5, 8, 8, 2, 6, 4, 6, 3, 1, 2, 4, 0, 3, 9, 8, 4, 0, 8, 4, 3, 9, 7, 1, 1, 9, 5, 1, 9, 2, 4, 2, 4, 8, 6, 7, 1, 3, 0, 7, 3, 5, 8, 1, 4, 2, 3, 4, 8, 8, 8, 3, 8, 1, 8, 9, 3, 0, 6, 0, 2, 9, 7, 3, 9, 0, 1, 2, 5, 9, 6, 0, 5, 0, 5, 8, 7, 4, 6, 2, 8, 0, 0, 9, 3, 0, 5, 8, 1, 1, 2, 6, 0, 0, 8, 8, 2, 3, 3, 9, 5, 4, 3, 3, 1, 8, 1, 5, 2, 0, 0, 7, 9, 3, 2, 7, 1, 7, 4, 1, 6, 2, 8, 6, 7, 0, 4, 9, 3, 2, 5, 2, 8, 6, 2, 2, 7, 4, 2, 1, 1, 0, 3, 5, 5, 2, 6, 4, 1, 8, 0, 4, 4, 2, 4, 2, 7, 2, 3, 9, 6, 6, 6, 6, 4, 5, 4, 9, 8, 1, 6, 3, 4, 4, 9, 4, 3, 7, 1, 2, 6, 0, 1, 1, 0, 2, 6, 7, 9, 0, 1, 2, 4, 6, 7, 2, 1, 1, 7, 7, 8, 5, 6, 5, 3, 7, 2, 0, 9, 2, 1, 6, 2, 6, 5, 8, 5, 2, 7, 8, 4, 0, 9, 0, 8, 1, 3, 8, 2, 8, 2, 0, 0, 3, 8, 7, 8, 2, 2, 0, 6, 0, 4, 5, 4, 4, 1, 1, 9, 7, 0, 4, 2, 1, 6, 2, 7, 7, 1, 8, 3, 3, 7, 9, 8, 7, 2, 7, 9, 7, 2, 2, 2, 0, 3, 3, 9, 1, 1, 4, 8, 0, 9, 7, 5, 2, 8, 8, 3, 6, 3, 6, 8, 2, 2, 5, 9, 2, 3, 8, 3, 2, 8, 3, 3, 2, 1, 3, 0, 1, 8, 2, 1, 5, 8, 1, 5, 8, 0, 7, 8, 7, 5, 5, 5, 5, 3, 0, 7, 8, 4, 5, 1, 0, 4, 6, 4, 3, 7, 7, 9, 7, 2, 5, 8, 5, 8, 5, 3, 0, 9, 7, 2, 0, 6, 8, 2, 0, 7, 4, 7, 6, 8, 4, 7, 0, 0, 4, 0, 6, 7, 8, 1, 3, 8, 1, 7, 3, 6, 1, 1, 6, 6, 9, 8, 2, 8, 2, 7, 7, 1, 8, 0, 0, 0, 7, 8, 7, 6, 5, 2, 6, 7, 5, 5, 8, 9, 7, 3, 2, 4, 8, 3, 9, 5, 7, 6, 6, 6, 7, 0, 8, 5, 1, 8, 9, 2, 2, 1, 2, 2, 7, 4, 0, 6, 4, 8, 7, 7, 9, 2, 2, 8, 2, 6, 0, 6, 3, 4, 1, 5, 4, 7, 5, 0, 9, 6, 2, 0, 5, 1, 1, 0, 7, 3, 8, 8, 7, 5, 8, 9, 5, 5, 4, 0, 7, 1, 4, 6, 0, 9, 9, 3, 6, 8, 0, 5, 7, 8, 0, 2, 7, 6, 2, 4, 8, 1, 6, 4, 8, 0, 7, 5, 8, 7, 5, 7, 5, 0, 7, 4, 2, 2, 0, 3, 4, 2, 0, 2, 9, 4, 5, 4, 4, 1, 2, 5, 7, 0, 5, 2, 2, 5, 0, 4, 6, 6, 6, 7, 2, 7, 2, 3, 4, 7, 1, 2, 4, 4, 2, 4, 3, 9, 9, 2, 8, 0, 4, 0, 0, 1, 9, 3, 9, 0, 8, 2, 9, 4, 7, 9, 1, 5, 8, 1, 0, 0, 2, 4, 8, 0, 3, 3, 0, 0, 6, 3, 3, 1, 6, 8, 4, 9, 3, 0, 6, 5, 8, 8, 8, 6, 1, 0, 8, 9, 8, 5, 8, 7, 0, 7, 2, 7, 3, 5, 5, 8, 3, 2, 8, 5, 9, 9, 4, 0, 6, 7, 1, 8, 8, 8, 7, 2, 0, 9, 7, 9, 6, 9, 4, 1, 4, 7, 2, 5, 2, 6, 2, 9, 0, 7, 1, 9, 7, 6, 5, 3, 8, 4, 9, 3, 9, 5, 7, 5, 1, 3, 3, 4, 0, 7, 5, 3, 7, 5, 8, 7, 7, 4, 6, 5, 5, 0, 4, 8, 3, 0, 7, 2, 6, 2, 2, 7, 4, 0, 5, 1, 4, 8, 1, 4, 7, 8, 2, 6, 7, 2, 0, 2, 6, 3, 2, 3, 0, 5, 2, 2, 2, 8, 8, 0, 5, 4, 6, 2, 8, 3, 5, 1, 0, 9, 1, 6, 9, 6, 7, 4, 0, 0, 2, 5, 0, 3, 5, 2, 5, 1, 7, 9, 4, 6, 7, 3, 0, 2, 8, 1, 0, 9, 9, 7, 8, 4, 6, 9, 7, 7, 5, 8, 8, 7, 5, 3, 5, 5, 0, 8, 9, 7, 2, 1, 4, 7, 1, 3, 4, 3, 2, 6, 9, 4, 7, 7, 0, 5, 0, 8, 8, 6, 8, 5, 4, 0, 7, 3, 0, 0, 2, 5, 2, 0, 7, 7, 7, 1, 5, 2, 1, 8, 5, 2, 2, 8, 7, 7, 2, 7, 1, 0, 9, 5, 3, 9, 3, 5, 0, 7, 4, 6, 0, 1, 2, 5, 9, 3, 2, 8, 5, 7, 3, 1, 2, 0, 8, 1, 8, 5, 6, 9, 0, 3, 8, 0, 4, 2, 0, 0, 4, 2, 3, 4, 5, 9, 1, 1, 9, 4, 7, 0, 2, 1, 0, 0, 7, 7, 0, 7, 8, 0, 5, 6, 4, 4, 8, 9, 7, 4, 9, 5, 3, 7, 2, 6, 1, 9, 7, 8, 1, 3, 9, 3, 4, 7, 8, 6, 5, 6, 7, 9, 9, 7, 0, 4, 2, 3, 4, 2, 7, 5, 3, 9, 2, 8, 8, 0, 0, 4, 1, 9, 3, 3, 5, 1, 5, 5, 9, 2, 8, 5, 5, 9, 5, 4, 6, 7, 3, 5, 4, 2, 6, 9, 4, 8, 1, 9, 2, 6, 6, 4, 8, 8, 7, 7, 3, 9, 3, 9, 6, 8, 2, 6, 9, 0, 3, 2, 5, 7, 0, 4, 6, 4, 1, 3, 1, 8, 7, 8, 8, 7, 7, 0, 5, 7, 3, 6, 0, 4, 0, 3, 6, 8, 8, 8, 0, 2, 3, 2, 8, 6, 1, 4, 1, 1, 6, 3, 2, 2, 8, 0, 0, 4, 1, 0, 2, 7, 0, 6, 7, 9, 9, 2, 7, 6, 9, 9, 8, 4, 8, 8, 4, 0, 9, 4, 2, 4, 3, 8, 2, 0, 6, 9, 0, 4, 7, 3, 7, 8, 8, 2, 4, 8, 8, 0, 1, 5, 8, 9, 8, 7, 1, 0, 3, 8, 3, 0, 7, 0, 9, 9, 1, 5, 9, 4, 1, 7, 0, 1, 0, 5, 2, 8, 8, 4, 1, 7, 0, 5, 0, 4, 1, 7, 1, 7, 9, 4, 3, 9, 2, 4, 5, 3, 7, 8, 8, 4, 4, 7, 7, 4, 6, 0, 5, 5, 3, 6, 2, 5, 6, 8, 5, 6, 9, 1, 3, 1, 4, 5, 9, 0, 9, 0, 2, 5, 2, 1, 5, 8, 5, 6, 0, 9, 1, 9, 1, 7, 1, 8, 6, 3, 4, 0, 2, 8, 3, 3, 8, 8, 0, 3, 6, 8, 1, 1, 3, 3, 4, 2, 1, 8, 3, 2, 2, 6, 4, 2, 3, 9, 2, 3, 0, 4, 5, 7, 1, 4, 1, 2, 0, 2, 8, 5, 1, 6, 5, 4, 8, 1, 7, 1, 6, 4, 9, 4, 2, 1, 5, 2, 3, 5, 8, 7, 7, 7, 2, 7, 5, 4, 4, 2, 0, 4, 4, 9, 9, 5, 8, 0, 4, 4, 1, 3, 7, 5, 0, 0, 9, 8, 5, 3, 0, 7, 1, 9, 7, 8, 4, 0, 9, 9, 1, 2, 0, 4, 2, 2, 5, 1, 0, 4, 8, 3, 4, 8, 4, 4, 0, 0, 3, 6, 7, 4, 4, 1, 7, 3, 0, 7, 9, 9, 1, 5, 5, 9, 1, 4, 6, 1, 2, 8, 6, 5, 7, 8, 0, 4, 2, 7, 2, 7, 5, 0, 8, 7, 8, 2, 4, 7, 2, 5, 5, 9, 9, 4, 4, 2, 6, 6, 0, 8, 7, 6, 2, 7, 5, 2, 9, 0, 3, 4, 4, 8, 4, 0, 2, 7, 0, 5, 2, 6, 2, 8, 0, 6, 2, 0, 2, 5, 5, 8, 0, 7, 0, 8, 9, 0, 2, 1, 2, 5, 1, 0, 2, 9, 6, 4, 5, 9, 1, 4, 3, 1, 2, 8, 0, 3, 4, 2, 2, 0, 2, 3, 6, 5, 2, 3, 4, 0, 8, 5, 4, 0, 1, 2, 2, 2, 6, 7, 9, 6, 4, 0, 3, 0, 8, 5, 4, 6, 0, 3, 3, 5, 2, 5, 1, 5, 5, 1, 7, 5, 2, 3, 8, 8, 0, 9, 0, 0, 6, 3, 2, 1, 8, 3, 4, 2, 1, 2, 0, 3, 0, 8, 5, 1, 5, 0, 2, 0, 3, 9, 8, 2, 8, 1, 0, 2, 6, 2, 2, 3, 7, 5, 0, 6, 2, 0, 8, 4, 2, 1, 8, 6, 8, 2, 9, 2, 6, 8, 5, 4, 7, 3, 2, 2, 6, 8, 4, 8, 5, 2, 1, 5, 2, 8, 2, 9, 0, 6, 3, 6, 4, 2, 7, 7, 9, 0, 2, 9, 8, 0, 5, 8, 7, 7, 0, 7, 7, 0, 7, 7, 2, 9, 7, 4, 2, 2, 3, 8, 0, 1, 9, 8, 0, 2, 6, 8, 3, 8, 0, 7, 6, 4, 3, 8, 1, 3, 8, 7, 3, 0, 3, 2, 8, 8, 9, 1, 3, 2, 1, 4, 8, 0, 4, 6, 7, 3, 9, 4, 9, 0, 4, 6, 5, 7, 0, 8, 1, 7, 5, 4, 9, 5, 7, 3, 2, 0, 9, 8, 7, 3, 7, 7, 4, 7, 5, 8, 5, 2, 4, 6, 2, 3, 8, 9, 7, 1, 3, 4, 2, 9, 7, 1, 2, 2, 6, 0, 5, 5, 4, 5, 2, 8, 9, 4, 9, 9, 1, 4, 8, 1, 5, 5, 5, 4, 8, 1, 5, 7, 7, 7, 9, 8, 3, 1, 1, 4, 6, 6, 9, 3, 6, 4, 4, 8, 2, 5, 4, 9, 0, 2, 8, 4, 8, 6, 3, 6, 1, 2, 3, 3, 8, 4, 9, 9, 0, 7, 9, 5, 3, 1, 7, 2, 8, 4, 9, 0, 1, 6, 0, 5, 8, 1, 9, 3, 0, 8, 3, 8, 4, 2, 5, 6, 9, 0, 1, 2, 0, 7, 9, 0, 1, 3, 9, 5, 1, 2, 1, 1, 4, 8, 0, 9, 5, 4, 4, 3, 7, 7, 7, 8, 3, 9, 1, 9, 4, 4, 0, 7, 6, 0, 7, 9, 0, 3, 4, 9, 0, 4, 0, 2, 7, 9, 6, 1, 1, 2, 0, 8, 8, 7, 4, 2, 7, 5, 7, 6, 1, 8, 1, 4, 9, 8, 9, 1, 1, 0, 2, 0, 3, 0, 6, 4, 1, 7, 7, 1, 2, 2, 5, 3, 4, 1, 7, 4, 7, 0, 2, 8, 8, 1, 4, 9, 7, 3, 0, 4, 9, 3, 9, 8, 5, 3, 8, 2, 7, 1, 4, 1, 9, 6, 8, 3, 2, 4, 8, 1, 1, 5, 8, 2, 1, 6, 2, 9, 0, 9, 5, 3, 5, 0, 6, 5, 4, 8, 3, 8, 0, 6, 9, 9, 1, 5, 3, 2, 6, 5, 3, 0, 3, 0, 7, 4, 0, 2, 1, 9, 5, 1, 7, 5, 5, 5, 7, 6, 8, 4, 6, 6, 4, 4, 4, 1, 1, 2, 2, 8, 6, 9, 0, 5, 8, 1, 3, 8, 3, 2, 4, 8, 2, 0, 9, 3, 2, 9, 7, 2, 2, 2, 2, 8, 9, 4, 6, 4, 7, 7, 9, 7, 3, 4, 9, 2, 7, 3, 0, 2, 0, 9, 2, 3, 3, 1, 9, 5, 8, 2, 3, 5, 0, 6, 4, 5, 8, 3, 5, 0, 7, 7, 6, 0, 9, 7, 1, 4, 4, 5, 3, 0, 6, 1, 4, 0, 5, 4, 8, 5, 7, 3, 0, 8, 3, 5, 4, 4, 9, 8, 5, 7, 8, 1, 7, 5, 0, 1, 5, 4, 0, 3, 2, 4, 4, 3, 6, 7, 8, 0, 9, 0, 3, 0, 4, 2, 7, 3, 5, 7, 3, 7, 8, 4, 6, 2, 2, 3, 1, 0, 7, 5, 2, 6, 4, 1, 1, 2, 7, 2, 3, 5, 5, 0, 4, 4, 4, 8, 9, 9, 2, 0, 9, 8, 3, 5, 3, 1, 4, 5, 0, 1, 8, 5, 8, 6, 0, 7, 8, 9, 2, 4, 6, 3, 2, 2, 4, 7, 9, 1, 9, 7, 4, 5, 0, 3, 2, 4, 5, 6, 0, 5, 8, 0, 4, 2, 9, 4, 7, 8, 0, 0, 2, 7, 7, 5, 9, 7, 7, 3, 8, 7, 5, 9, 9, 8, 2, 1, 0, 8, 0, 2, 6, 7, 9, 2, 2, 5, 4, 3, 2, 1, 1, 9, 0, 5, 5, 4, 7, 8, 9, 0, 5, 4, 0, 0, 5, 7, 8, 4, 8, 8, 7, 6, 9, 3, 9, 6, 9, 7, 3, 9, 9, 3, 0, 0, 2, 8, 9, 9, 2, 0, 6, 4, 1, 0, 3, 8, 4, 8, 4, 4, 2, 3, 5, 7, 7, 8, 5, 4, 3, 2, 1, 8, 3, 8, 5, 2, 2, 3, 0, 8, 3, 3, 2, 9, 0, 9, 7, 0, 1, 8, 3, 0, 3, 8, 4, 8, 5, 1, 3, 0, 1, 9, 3, 5, 0, 4, 2, 0, 1, 5, 3, 2, 8, 5, 7, 8, 0, 1, 1, 0, 2, 4, 5, 9, 0, 7, 2, 3, 8, 4, 4, 3, 3, 9, 4, 7, 0, 8, 6, 5, 6, 2, 0, 1, 3, 9, 4, 2, 5, 0, 5, 3, 4, 5, 0, 0, 0, 0, 6, 9, 1, 3, 4, 2, 5, 5, 4, 6, 1, 4, 9, 7, 4, 4, 7, 5, 7, 1, 4, 8, 7, 9, 7, 7, 0, 2, 9, 2, 5, 0, 7, 6, 2, 5, 2, 7, 4, 3, 2, 5, 9, 2, 5, 7, 7, 3, 8, 3, 9, 4, 5, 3, 0, 7, 0, 9, 5, 1, 3, 6, 9, 3, 6, 4, 5, 3, 4, 9, 9, 1, 2, 2, 2, 6, 6, 8, 7, 9, 9, 4, 8, 8, 9, 0, 7, 0, 4, 3, 8, 8, 4, 2, 0, 1, 4, 0, 2, 1, 5, 4, 6, 6, 0, 3, 4, 5, 6, 8, 7, 4, 6, 3, 1, 8, 4, 8, 9, 9, 5, 5, 8, 2, 5, 4, 4, 2, 5, 6, 9, 2, 9, 1, 0, 2, 4, 6, 9, 8, 6, 6, 9, 1, 9, 4, 7, 3, 5, 4, 3, 4, 2, 1, 0, 2, 4, 3, 7, 8, 6, 5, 5, 9, 0, 4, 3, 4, 5, 5, 5, 7, 6, 1, 3, 3, 7, 0, 5, 7, 0, 8, 3, 5, 5, 8, 1, 9, 4, 0, 4, 2, 1, 6, 0, 1, 2, 5, 0, 6, 1, 1, 7, 5, 2, 5, 9, 0, 8, 0, 6, 4, 4, 7, 0, 7, 0, 8, 2, 3, 7, 1, 4, 2, 3, 4, 0, 0, 6, 4, 8, 7, 0, 3, 0, 4, 7, 3, 3, 6, 0, 2, 4, 4, 1, 8, 1, 9, 1, 2, 2, 4, 2, 5, 3, 3, 5, 3, 5, 8, 3, 9, 7, 3, 0, 0, 1, 0, 1, 0, 7, 7, 4, 8, 9, 6, 1, 5, 0, 9, 4, 7, 9, 9, 9, 0, 1, 0, 9, 9, 5, 1, 7, 2, 9, 1, 5, 6, 8, 1, 7, 3, 3, 8, 2, 7, 8, 8, 9, 8, 8, 4, 5, 8, 4, 5, 9, 0, 0, 5, 4, 7, 7, 4, 4, 7, 4, 5, 8, 3, 7, 2, 7, 3, 8, 8, 8, 7, 8, 6, 0, 5, 7, 9, 8, 5, 6, 0, 4, 2, 4, 2, 8, 9, 9, 1, 9, 5, 8, 4, 4, 8, 4, 8, 7, 4, 8, 3, 0, 7, 8, 8, 3, 9, 9, 5, 9, 2, 4, 9, 7, 5, 7, 4, 9, 9, 2, 3, 9, 5, 3, 5, 3, 1, 2, 9, 1, 4, 8, 5, 1, 7, 9, 0, 3, 3, 0, 9, 0, 2, 6, 0, 0, 2, 9, 7, 1, 9, 8, 5, 2, 8, 5, 9, 5, 2, 4, 2, 5, 2, 2, 5, 2, 2, 7, 1, 6, 0, 4, 2, 5, 2, 4, 6, 7, 5, 5, 1, 7, 2, 4, 4, 2, 4, 1, 9, 0, 7, 2, 7, 4, 2, 9, 7, 4, 4, 6, 1, 7, 1, 4, 7, 0, 1, 7, 3, 0, 3, 6, 6, 0, 0, 4, 1, 7, 9, 0, 2, 9, 2, 0, 7, 1, 7, 5, 2, 9, 8, 2, 4, 0, 3, 3, 2, 2, 8, 1, 0, 8, 1, 8, 1, 0, 1, 4, 7, 3, 7, 7, 3, 2, 9, 9, 0, 8, 2, 5, 8, 9, 0, 3, 7, 4, 1, 0, 9, 2, 3, 2, 6, 1, 8, 1, 4, 4, 0, 2, 1, 7, 0, 5, 4, 5, 3, 6, 4, 1, 0, 0, 7, 2, 6, 2, 3, 4, 4, 5, 2, 9, 6, 8, 0, 4, 4, 3, 1, 7, 5, 2, 3, 3, 2, 0, 3, 5, 2, 4, 2, 5, 1, 4, 2, 2, 1, 9, 3, 4, 6, 9, 5, 8, 0, 0, 3, 4, 0, 8, 1, 2, 3, 3, 1, 5, 5, 3, 2, 2, 7, 1, 3, 2, 3, 0, 0, 2, 2, 8, 0, 8, 3, 7, 0, 3, 1, 3, 8, 3, 4, 1, 2, 0, 3, 6, 7, 7, 8, 3, 6, 9, 5, 4, 6, 9, 5, 4, 3, 8, 5, 3, 8, 3, 7, 9, 0, 2, 5, 1, 0, 5, 6, 3, 5, 7, 9, 6, 0, 7, 1, 0, 0, 8, 0, 2, 2, 7, 8, 2, 6, 4, 4, 9, 7, 3, 2, 5, 4, 5, 1, 9, 5, 0, 5, 2, 4, 1, 7, 9, 0, 3, 3, 4, 9, 1, 0, 3, 9, 5, 2, 8, 2, 2, 1, 4, 0, 6, 7, 9, 0, 1, 1, 4, 1, 6, 9, 8, 1, 3, 7, 3, 9, 9, 5, 4, 2, 3, 6, 8, 8, 5, 5, 1, 8, 8, 5, 7, 9, 9, 3, 4, 4, 2, 7, 9, 4, 6, 7, 5, 4, 7, 6, 1, 4, 6, 2, 0, 9, 0, 0, 5, 1, 1, 7, 8, 3, 6, 6, 2, 0, 0, 4, 9, 5, 2, 4, 2, 4, 6, 1, 5, 2, 7, 8, 6, 7, 7, 0, 8, 4, 3, 4, 9, 1, 2, 1, 7, 4, 3, 4, 9, 9, 2, 4, 4, 3, 0, 5, 7, 5, 2, 7, 8, 9, 9, 2, 7, 8, 7, 7, 5, 8, 7, 6, 6, 9, 0, 1, 8, 7, 5, 4, 5, 3, 7, 4, 6, 5, 5, 6, 9, 9, 1, 9, 5, 9, 4, 4, 1, 9, 8, 3, 5, 1, 8, 6, 5, 3, 2, 3, 7, 1, 1, 1, 8, 7, 5, 6, 3, 4, 7, 0, 0, 5, 3, 4, 8, 2, 5, 2, 7, 3, 2, 3, 2, 7, 8, 0, 7, 0, 9, 5, 8, 0, 7, 3, 5, 0, 9, 7, 3, 0, 6, 5, 7, 8, 2, 3, 1, 9, 0, 2, 9, 1, 3, 4, 0, 4, 0, 6, 2, 4, 8, 6, 4, 9, 5, 6, 1, 8, 2, 4, 1, 4, 2, 9, 4, 3, 7, 9, 0, 3, 5, 4, 5, 9, 8, 5, 3, 0, 1, 2, 6, 4, 1, 9, 4, 4, 0, 5, 5, 4, 3, 2, 0, 1, 4, 9, 9, 7, 0, 1, 2, 0, 0, 6, 4, 2, 5, 9, 6, 8, 4, 4, 1, 5, 9, 4, 1, 8, 9, 3, 1, 7, 1, 1, 1, 9, 1, 3, 8, 9, 9, 1, 9, 6, 0, 5, 8, 5, 5, 9, 3, 8, 9, 4, 7, 8, 2, 9, 2, 0, 1, 5, 0, 7, 8, 6, 0, 9, 1, 1, 8, 2, 8, 9, 2, 0, 7, 2, 0, 0, 5, 1, 2, 8, 2, 3, 7, 6, 1, 9, 7, 4, 1, 3, 9, 2, 4, 0, 3, 7, 5, 1, 1, 9, 5, 3, 5, 4, 6, 6, 1, 5, 2, 1, 6, 2, 5, 9, 9, 4, 4, 4, 1, 7, 9, 0, 5, 7, 3, 3, 8, 4, 1, 8, 2, 7, 4, 4, 8, 9, 4, 9, 3, 2, 4, 1, 1, 6, 4, 1, 4, 7, 8, 5, 9, 1, 7, 0, 9, 2, 2, 1, 7, 2, 9, 8, 8, 9, 5, 5, 3, 8, 2, 0, 3, 4, 1, 1, 9, 0, 9, 7, 5, 3, 2, 9, 5, 5, 4, 6, 9, 9, 3, 0, 6, 4, 1, 7, 4, 7, 2, 8, 5, 8, 6, 0, 1, 3, 2, 2, 3, 6, 6, 0, 2, 8, 3, 2, 4, 6, 1, 8, 6, 5, 6, 2, 3, 9, 0, 4, 4, 2, 5, 6, 2, 7, 6, 7, 3, 3, 6, 9, 4, 8, 5, 6, 0, 3, 6, 7, 4, 5, 3, 1, 1, 9, 7, 5, 4, 2, 1, 4, 4, 5, 9, 2, 5, 5, 1, 1, 0, 9, 2, 4, 2, 3, 2, 4, 9, 2, 3, 6, 4, 2, 0, 4, 1, 3, 7, 2, 4, 2, 2, 3, 2, 3, 0, 8, 3, 5, 1, 2, 8, 8, 2, 1, 2, 1, 1, 9, 0, 5, 9, 0, 8, 0, 3, 2, 3, 8, 3, 7, 5, 2, 1, 1, 2, 0, 5, 5, 0, 1, 0, 5, 2, 8, 9, 7, 9, 1, 1, 3, 3, 5, 6, 7, 5, 9, 4, 9, 3, 6, 6, 2, 8, 5, 2, 5, 9, 8, 3, 8, 1, 3, 1, 3, 5, 2, 5, 4, 4, 9, 2, 7, 1, 6, 8, 3, 7, 7, 6, 7, 9, 6, 7, 7, 0, 1, 4, 1, 8, 8, 4, 4, 7, 4, 7, 1, 8, 7, 5, 1, 3, 1, 0, 3, 4, 5, 3, 8, 2, 3, 4, 9, 3, 1, 5, 3, 0, 7, 0, 6, 4, 5, 1, 2, 6, 2, 8, 8, 9, 8, 0, 7, 2, 4, 2, 5, 1, 9, 8, 3, 8, 7, 1, 8, 1, 2, 0, 9, 2, 4, 2, 4, 6, 1, 3, 5, 2, 9, 7, 5, 3, 7, 5, 5, 4, 4, 8, 0, 7, 0, 8, 8, 2, 1, 9, 7, 7, 0, 8, 0, 3, 0, 9, 8, 5, 0, 4, 8, 1, 5, 5, 7, 0, 1, 6, 1, 3, 2, 6, 4, 4, 1, 7, 6, 2, 2, 6, 1, 8, 2, 6, 6, 3, 0, 8, 8, 4, 4, 2, 0, 7, 0, 8, 9, 1, 4, 6, 7, 0, 8, 1, 8, 2, 4, 4, 7, 5, 7, 9, 9, 3, 9, 4, 4, 0, 4, 1, 4, 8, 4, 4, 7, 0, 6, 2, 9, 1, 8, 0, 6, 2, 6, 0, 3, 6, 6, 1, 3, 6, 3, 4, 1, 7, 8, 1, 0, 7, 0, 5, 0, 8, 2, 8, 5, 8, 7, 8, 4, 5, 9, 5, 5, 1, 2, 4, 7, 2, 9, 7, 8, 0, 7, 4, 6, 3, 8, 8, 4, 5, 1, 8, 2, 4, 2, 2, 9, 8, 9, 0, 2, 7, 9, 4, 5, 9, 8, 6, 3, 9, 5, 9, 3, 0, 8, 6, 0, 6, 3, 5, 8, 0, 0, 1, 8, 6, 9, 0, 0, 7, 6, 6, 8, 7, 6, 8, 8, 2, 0, 3, 6, 7, 1, 8, 7, 4, 2, 7, 1, 6, 5, 2, 0, 7, 9, 6, 6, 8, 2, 1, 1, 8, 8, 3, 5, 7, 7, 4, 7, 4, 3, 9, 3, 8, 9, 0, 4, 0, 4, 5, 7, 0, 4, 3, 9, 5, 7, 2, 2, 5, 8, 3, 1, 3, 7, 4, 9, 4, 3, 9, 7, 2, 0, 8, 0, 9, 1, 9, 9, 0, 7, 1, 4, 5, 0, 3, 8, 7, 2, 7, 5, 9, 3, 2, 0, 0, 9, 0, 5, 0, 1, 3, 7, 9, 1, 5, 9, 0, 0, 9, 7, 2, 9, 2, 1, 2, 7, 5, 1, 0, 7, 3, 4, 7, 6, 4, 6, 8, 5, 7, 9, 5, 7, 3, 2, 3, 7, 3, 4, 1, 5, 6, 9, 7, 4, 0, 2, 5, 8, 0, 7, 7, 3, 2, 0, 4, 8, 2, 0, 6, 9, 8, 9, 0, 5, 0, 4, 0, 2, 0, 3, 1, 8, 7, 4, 1, 9, 1, 2, 8, 5, 2, 3, 0, 0, 2, 6, 0, 7, 2, 1, 8, 2, 8, 7, 9, 2, 1, 3, 5, 7, 7, 3, 6, 5, 7, 3, 6, 7, 3, 2, 4, 9, 6, 7, 3, 9, 1, 2, 1, 9, 7, 2, 3, 3, 8, 1, 8, 3, 5, 0, 5, 3, 8, 5, 7, 6, 9, 0, 6, 8, 4, 2, 3, 3, 4, 3, 7, 8, 7, 1, 3, 7, 8, 9, 5, 5, 2, 2, 4, 5, 0, 8, 6, 0, 4, 0, 8, 8, 9, 6, 9, 1, 5, 1, 2, 1, 3, 2, 2, 2, 4, 5, 7, 5, 9, 2, 0, 5, 7, 0, 5, 4, 5, 6, 0, 4, 0, 7, 1, 5, 6, 9, 6, 1, 7, 6, 4, 4, 0, 7, 1, 8, 5, 7, 8, 5, 5, 1, 8, 5, 7, 7, 7, 6, 5, 2, 6, 1, 2, 2, 4, 1, 0, 3, 9, 1, 8, 2, 4, 7, 4, 9, 5, 7, 4, 3, 9, 5, 6, 6, 2, 7, 3, 9, 3, 0, 5, 9, 0, 9, 4, 0, 6, 5, 7, 1, 2, 5, 2, 0, 2, 3, 1, 1, 1, 7, 4, 2, 2, 5, 9, 8, 7, 7, 3, 2, 7, 9, 2, 0, 1, 1, 1, 4, 8, 0, 8, 0, 9, 5, 6, 7, 0, 8, 2, 4, 4, 2, 2, 2, 5, 7, 2, 9, 7, 2, 2, 2, 0, 7, 4, 5, 2, 3, 3, 1, 9, 8, 1, 8, 6, 2, 3, 9, 1, 9, 7, 2, 9, 6, 9, 3, 0, 4, 2, 6, 4, 6, 0, 9, 2, 1, 1, 0, 5, 0, 7, 0, 4, 1, 1, 7, 0, 0, 1, 9, 4, 7, 3, 5, 4, 1, 2, 0, 4, 0, 3, 0, 2, 3, 5, 9, 5, 8, 9, 3, 1, 7, 8, 9, 4, 1, 1, 9, 0, 7, 0, 0, 9, 6, 0, 2, 9, 2, 8, 5, 5, 9, 3, 3, 5, 7, 1, 2, 3, 3, 5, 6, 0, 4, 1, 1, 9, 1, 4, 0, 0, 2, 2, 6, 2, 0, 6, 5, 0, 3, 0, 5, 1, 1, 8, 2, 5, 3, 5, 1, 2, 2, 3, 1, 2, 7, 9, 6, 3, 8, 5, 4, 4, 9, 1, 5, 7, 7, 6, 2, 2, 7, 5, 6, 1, 5, 7, 7, 8, 2, 8, 3, 7, 4, 0, 2, 9, 9, 0, 2, 7, 3, 1, 0, 8, 2, 4, 4, 4, 7, 1, 8, 3, 0, 3, 4, 0, 2, 9, 8, 0, 0, 8, 3, 9, 2, 1, 5, 4, 5, 0, 8, 4, 2, 5, 9, 3, 0, 4, 7, 8, 5, 9, 5, 0, 0, 6, 9, 7, 2, 9, 2, 2, 6, 4, 0, 1, 4, 3, 9, 4, 0, 3, 4, 6, 6, 9, 4, 7, 2, 5, 4, 3, 4, 5, 7, 0, 2, 1, 1, 8, 7, 1, 2, 0, 5, 2, 3, 8, 8, 8, 9, 3, 8, 9, 4, 0, 3, 6, 4, 2, 8, 8, 7, 9, 2, 7, 1, 9, 0, 3, 3, 3, 2, 3, 9, 9, 5, 4, 0, 4, 2, 4, 6, 4, 5, 2, 4, 9, 8, 5, 8, 3, 4, 1, 4, 8, 9, 2, 6, 2, 3, 5, 6, 3, 5, 2, 5, 0, 9, 1, 2, 9, 8, 9, 0, 8, 8, 5, 5, 8, 4, 4, 0, 8, 3, 0, 4, 9, 4, 1, 0, 5, 1, 2, 0, 9, 2, 6, 3, 6, 7, 6, 4, 4, 3, 8, 5, 1, 8, 3, 4, 4, 5, 0, 0, 7, 8, 7, 4, 4, 2, 2, 9, 3, 5, 0, 9, 9, 0, 1, 3, 7, 1, 9, 6, 5, 2, 6, 9, 5, 7, 7, 4, 2, 8, 3, 1, 7, 8, 8, 6, 8, 0, 5, 5, 7, 1, 9, 6, 2, 1, 5, 1, 9, 0, 1, 0, 3, 2, 5, 3, 9, 0, 5, 4, 0, 0, 9, 5, 4, 2, 3, 8, 5, 8, 3, 6, 4, 1, 4, 9, 5, 8, 9, 5, 6, 6, 9, 5, 9, 1, 1, 1, 8, 4, 1, 4, 6, 9, 9, 8, 9, 7, 4, 4, 1, 9, 9, 1, 9, 2, 2, 3, 7, 3, 1, 6, 6, 8, 3, 4, 3, 3, 8, 3, 7, 1, 0, 3, 8, 4, 7, 9, 8, 0, 3, 0, 4, 5, 7, 0, 7, 2, 5, 0, 2, 3, 3, 0, 0, 0, 4, 4, 4, 4, 4, 9, 9, 0, 7, 4, 0, 2, 2, 1, 9, 5, 9, 9, 0, 5, 8, 2, 7, 3, 9, 5, 2, 8, 9, 5, 8, 0, 0, 0, 0, 6, 3, 7, 8, 0, 1, 2, 2, 2, 1, 1, 2, 2, 2, 5, 4, 3, 9, 3, 4, 2, 3, 7, 2, 9, 2, 1, 4, 7, 5, 5, 9, 2, 0, 9, 7, 9, 7, 4, 1, 8, 3, 3, 8, 0, 8, 7, 0, 7, 7, 9, 6, 4, 0, 3, 7, 2, 1, 5, 2, 0, 5, 8, 6, 7, 0, 1, 0, 5, 6, 2, 1, 4, 1, 8, 7, 9, 9, 7, 3, 2, 2, 4, 7, 4, 3, 9, 0, 3, 9, 5, 1, 0, 9, 0, 7, 4, 3, 5, 7, 2, 7, 2, 8, 7, 5, 4, 5, 9, 4, 3, 5, 2, 2, 7, 5, 3, 1, 9, 3, 7, 1, 0, 3, 6, 4, 2, 5, 7, 2, 1, 1, 7, 7, 9, 0, 1, 4, 8, 9, 2, 5, 3, 7, 8, 7, 7, 0, 8, 5, 6, 0, 7, 5, 6, 7, 7, 9, 7, 1, 0, 0, 8, 0, 4, 0, 6, 4, 5, 5, 0, 7, 3, 0, 4, 5, 0, 7, 1, 8, 7, 1, 2, 2, 0, 4, 7, 3, 7, 6, 8, 6, 3, 7, 4, 0, 0, 0, 8, 7, 3, 3, 0, 5, 6, 1, 5, 0, 9, 9, 1, 3, 0, 6, 1, 6, 6, 5, 7, 2, 2, 0, 9, 2, 6, 8, 2, 8, 3, 7, 7, 3, 3, 9, 5, 7, 3, 0, 9, 4, 5, 0, 7, 2, 9, 5, 5, 8, 7, 4, 9, 9, 2, 3, 6, 3, 0, 6, 7, 6, 4, 2, 5, 4, 1, 5, 7, 9, 7, 3, 9, 8, 2, 5, 1, 9, 6, 1, 0, 4, 8, 0, 7, 6, 9, 8, 8, 4, 4, 4, 1, 7, 7, 1, 1, 6, 7, 0, 3, 2, 8, 7, 8, 7, 9, 1, 1, 3, 8, 9, 5, 9, 1, 0, 2, 3, 4, 4, 4, 7, 1, 2, 0, 1, 5, 4, 4, 9, 2, 4, 2, 2, 6, 7, 9, 6, 7, 1, 4, 0, 8, 3, 3, 5, 4, 0, 8, 3, 0, 4, 0, 1, 8, 4, 3, 2, 7, 5, 4, 6, 5, 2, 1, 0, 4, 4, 5, 8, 0, 7, 3, 2, 6, 7, 2, 2, 3, 4, 2, 4, 6, 3, 4, 5, 1, 7, 5, 2, 5, 7, 9, 9, 9, 9, 2, 0, 9, 2, 0, 5, 5, 5, 0, 5, 6, 6, 6, 0, 4, 9, 9, 6, 4, 5, 4, 0, 1, 0, 8, 9, 5, 7, 3, 0, 6, 4, 1, 3, 8, 1, 8, 2, 2, 6, 9, 8, 5, 1, 2, 6, 0, 9, 0, 8, 8, 0, 7, 0, 6, 9, 8, 9, 9, 4, 9, 6, 3, 3, 4, 5, 0, 8, 0, 4, 6, 3, 0, 0, 0, 3, 3, 5, 9, 6, 7, 1, 5, 4, 1, 4, 1, 7, 9, 4, 6, 4, 5, 2, 9, 4, 9, 8, 8, 7, 6, 2, 3, 9, 3, 6, 7, 0, 2, 7, 0, 4, 1, 0, 5, 7, 0, 5, 9, 2, 3, 2, 8, 5, 8, 1, 9, 6, 7, 6, 7, 3, 0, 4, 5, 8, 8, 8, 6, 7, 4, 0, 5, 1, 5, 9, 6, 0, 9, 5, 8, 5, 7, 3, 9, 8, 3, 2, 6, 5, 7, 5, 1, 1, 5, 4, 1, 8, 7, 8, 2, 9, 6, 3, 3, 4, 0, 2, 4, 1, 1, 4, 7, 2, 7, 0, 2, 6, 8, 8, 8, 7, 7, 1, 2, 6, 2, 1, 6, 0, 2, 5, 8, 2, 4, 2, 3, 1, 5, 5, 4, 4, 0, 5, 4, 7, 0, 3, 4, 5, 5, 7, 5, 7, 0, 1, 1, 9, 7, 5, 0, 1, 9, 4, 3, 6, 5, 4, 0, 4, 5, 7, 2, 2, 2, 0, 5, 6, 4, 3, 7, 8, 6, 2, 6, 1, 1, 8, 5, 2, 5, 3, 2, 8, 5, 8, 4, 6, 1, 2, 3, 7, 6, 9, 0, 4, 5, 2, 3, 4, 9, 5, 5, 9, 4, 6, 4, 1, 1, 8, 9, 4, 2, 2, 3, 3, 0, 7, 1, 8, 8, 5, 0, 2, 7, 7, 1, 0, 1, 2, 1, 9, 0, 4, 1, 1, 0, 7, 3, 7, 2, 9, 0, 1, 8, 9, 0, 0, 6, 0, 9, 1, 6, 1, 2, 7, 8, 0, 5, 6, 8, 2, 5, 5, 1, 5, 9, 1, 8, 5, 3, 1, 2, 4, 0, 7, 3, 5, 2, 8, 0, 7, 1, 2, 3, 9, 8, 3, 8, 7, 7, 9, 7, 0, 9, 4, 0, 9, 6, 1, 9, 8, 6, 4, 7, 2, 9, 5, 4, 7, 1, 2, 1, 2, 3, 9, 2, 0, 5, 0, 0, 5, 5, 4, 0, 9, 9, 1, 0, 7, 7, 7, 4, 5, 1, 2, 0, 6, 3, 8, 9, 8, 4, 1, 0, 8, 3, 9, 8, 8, 7, 8, 3, 0, 0, 7, 4, 8, 0, 9, 9, 4, 7, 7, 2, 2, 1, 5, 1, 4, 0, 5, 5, 0, 8, 4, 7, 8, 9, 4, 2, 1, 7, 4, 4, 4, 9, 4, 3, 4, 0, 7, 7, 8, 0, 9, 1, 2, 6, 2, 9, 7, 1, 9, 9, 3, 3, 1, 2, 3, 5, 4, 3, 7, 4, 1, 4, 6, 2, 7, 5, 4, 6, 7, 7, 8, 1, 8, 1, 6, 2, 7, 5, 0, 1, 4, 4, 0, 1, 2, 0, 7, 6, 8, 8, 2, 8, 4, 5, 0, 0, 1, 7, 9, 7, 3, 5, 4, 0, 2, 8, 7, 1, 0, 8, 7, 2, 2, 4, 8, 2, 8, 0, 1, 5, 3, 8, 1, 7, 2, 9, 3, 7, 9, 5, 1, 8, 3, 0, 9, 0, 6, 2, 4, 2, 7, 6, 0, 9, 8, 8, 1, 5, 7, 7, 1, 9, 5, 4, 0, 0, 7, 8, 7, 3, 7, 0, 2, 5, 5, 1, 6, 7, 2, 0, 3, 2, 0, 4, 7, 8, 6, 4, 0, 1, 5, 3, 8, 3, 9, 7, 1, 7, 1, 0, 4, 8, 5, 0, 0, 6, 4, 1, 1, 2, 9, 0, 4, 2, 1, 3, 2, 7, 0, 1, 8, 5, 7, 0, 0, 5, 0, 4, 6, 2, 2, 5, 4, 1, 8, 2, 1, 5, 3, 8, 8, 9, 9, 0, 1, 8, 1, 2, 9, 0, 3, 1, 1, 4, 7, 8, 3, 4, 9, 0, 0, 8, 2, 8, 2, 9, 4, 7, 7, 0, 4, 2, 2, 5, 7, 3, 7, 4, 6, 0, 9, 3, 6, 5, 4, 1, 2, 1, 8, 1, 9, 4, 8, 9, 9, 3, 0, 7, 0, 0, 6, 1, 0, 4, 6, 4, 2, 2, 7, 0, 0, 0, 4, 0, 0, 1, 3, 0, 6, 5, 7, 9, 6, 4, 3, 7, 5, 1, 2, 7, 7, 5, 8, 0, 9, 1, 0, 1, 4, 9, 1, 2, 5, 3, 3, 0, 7, 1, 2, 7, 9, 3, 7, 4, 4, 4, 6, 7, 2, 7, 3, 1, 7, 8, 8, 7, 0, 1, 4, 0, 9, 7, 9, 9, 1, 2, 0, 4, 7, 4, 1, 4, 1, 7, 5, 7, 8, 9, 6, 0, 3, 1, 4, 7, 9, 3, 6, 7, 8, 4, 7, 4, 0, 8, 3, 0, 1, 7, 9, 6, 9, 1, 4, 6, 7, 1, 0, 6, 3, 7, 3, 1, 8, 6, 5, 9, 5, 8, 1, 0, 9, 0, 6, 6, 1, 1, 4, 7, 0, 0, 7, 5, 4, 9, 5, 4, 0, 4, 7, 2, 0, 8, 3, 8, 1, 1, 2, 4, 8, 1, 0, 8, 1, 8, 5, 3, 2, 7, 0, 2, 4, 9, 4, 2, 4, 9, 9, 6, 9, 9, 6, 7, 3, 4, 3, 3, 9, 3, 7, 7, 8, 1, 1, 0, 6, 5, 7, 9, 4, 7, 4, 7, 0, 4, 2, 9, 7, 7, 7, 5, 0, 1, 6, 3, 4, 6, 2, 0, 9, 8, 7, 8, 4, 4, 8, 9, 7, 1, 6, 7, 9, 9, 0, 1, 5, 1, 1, 3, 6, 7, 9, 8, 3, 3, 8, 5, 2, 4, 3, 6, 8, 0, 9, 0, 6, 9, 0, 1, 2, 8, 1, 8, 2, 1, 8, 1, 7, 1, 9, 1, 8, 3, 9, 4, 1, 0, 8, 4, 4, 6, 8, 2, 2, 5, 5, 0, 2, 4, 9, 8, 0, 1, 0, 0, 6, 8, 3, 4, 7, 7, 5, 9, 4, 5, 4, 6, 9, 9, 4, 8, 5, 2, 9, 6, 4, 0, 2, 8, 0, 1, 9, 2, 1, 6, 7, 1, 8, 5, 6, 4, 6, 4, 1, 1, 9, 8, 8, 9, 1, 2, 2, 0, 5, 2, 5, 0, 8, 3, 2, 3, 8, 6, 1, 5, 0, 3, 3, 1, 9, 2, 8, 7, 8, 2, 3, 6, 2, 5, 0, 9, 0, 7, 1, 1, 7, 9, 0, 1, 2, 7, 5, 4, 6, 3, 3, 2, 1, 0, 0, 9, 9, 8, 2, 9, 6, 2, 5, 4, 7, 2, 6, 5, 2, 6, 9, 3, 7, 0, 6, 3, 5, 4, 4, 3, 4, 6, 9, 8, 8, 6, 2, 0, 0, 3, 9, 2, 2, 8, 1, 9, 2, 2, 9, 3, 0, 2, 0, 8, 7, 6, 5, 0, 6, 3, 1, 3, 0, 9, 5, 4, 3, 9, 0, 8, 2, 9, 0, 7, 3, 5, 6, 8, 2, 1, 0, 0, 4, 5, 9, 3, 5, 0, 2, 0, 7, 4, 0, 8, 3, 3, 8, 0, 3, 8, 9, 4, 0, 8, 8, 6, 8, 2, 5, 7, 0, 3, 6, 8, 3, 5, 9, 2, 2, 8, 9, 4, 1, 0, 5, 5, 2, 2, 8, 2, 2, 6, 7, 4, 5, 3, 7, 4, 5, 8, 8, 3, 9, 5, 0, 6, 8, 6, 3, 6, 4, 7, 2, 7, 6, 5, 0, 3, 1, 7, 8, 6, 4, 7, 3, 3, 8, 0, 6, 9, 2, 8, 5, 4, 9, 6, 6, 2, 2, 0, 1, 1, 9, 2, 8, 2, 1, 9, 5, 8, 4, 8, 2, 3, 7, 2, 4, 4, 9, 6, 6, 2, 9, 8, 6, 5, 9, 2, 6, 5, 2, 1, 2, 7, 4, 4, 2, 7, 2, 6, 0, 0, 1, 5, 4, 0, 1, 9, 9, 5, 4, 5, 2, 9, 2, 6, 4, 5, 4, 8, 9, 0, 9, 5, 5, 7, 7, 9, 3, 6, 8, 4, 3, 9, 0, 1, 0, 2, 5, 2, 8, 7, 9, 7, 7, 7, 9, 2, 6, 0, 6, 7, 8, 1, 8, 0, 3, 8, 5, 0, 5, 6, 9, 1, 1, 2, 6, 8, 9, 7, 7, 5, 8, 6, 1, 4, 0, 1, 8, 4, 3, 4, 7, 9, 3, 7, 5, 5, 0, 9, 1, 2, 1, 6, 7, 4, 0, 9, 3, 4, 1, 1, 7, 8, 1, 0, 5, 9, 0, 0, 9, 5, 3, 8, 8, 2, 8, 5, 7, 0, 7, 0, 9, 6, 9, 2, 9, 4, 8, 5, 2, 0, 1, 6, 4, 1, 7, 4, 1, 7, 7, 8, 5, 7, 0, 4, 4, 2, 1, 3, 8, 0, 3, 2, 7, 5, 9, 1, 0, 4, 4, 7, 0, 6, 3, 1, 8, 4, 7, 2, 5, 9, 3, 1, 7, 1, 9, 2, 9, 6, 2, 6, 1, 8, 3, 9, 2, 2, 0, 4, 8, 4, 5, 1, 2, 2, 4, 4, 1, 8, 5, 7, 7, 7, 6, 5, 5, 7, 9, 9, 8, 2, 8, 2, 1, 3, 3, 4, 8, 9, 4, 0, 7, 0, 2, 8, 1, 2, 6, 1, 0, 5, 2, 9, 7, 2, 8, 7, 3, 7, 8, 1, 2, 1, 7, 4, 8, 8, 5, 0, 2, 0, 6, 1, 2, 6, 5, 0, 1, 5, 5, 2, 5, 1, 9, 8, 7, 1, 2, 7, 0, 9, 3, 1, 9, 0, 4, 2, 6, 5, 9, 9, 2, 2, 7, 1, 0, 1, 4, 2, 3, 7, 8, 4, 0, 4, 5, 1, 2, 9, 3, 5, 8, 0, 1, 9, 6, 7, 3, 7, 4, 4, 6, 0, 2, 1, 6, 3, 0, 7, 0, 5, 9, 8, 7, 2, 7, 9, 9, 4, 8, 8, 0, 1, 4, 4, 0, 2, 8, 1, 2, 1, 3, 3, 2, 7, 8, 7, 0, 4, 3, 4, 4, 5, 7, 9, 2, 5, 2, 4, 5, 0, 1, 7, 0, 7, 6, 0, 0, 2, 5, 1, 1, 2, 4, 6, 9, 8, 1, 0, 1, 6, 8, 5, 4, 0, 4, 0, 4, 9, 3, 8, 5, 2, 8, 6, 2, 8, 1, 4, 4, 0, 8, 7, 5, 2, 8, 7, 2, 9, 5, 9, 2, 1, 0, 4, 1, 7, 7, 1, 7, 3, 5, 8, 7, 2, 5, 1, 5, 2, 0, 0, 0, 1, 2, 4, 4, 8, 0, 3, 2, 0, 3, 5, 1, 3, 3, 0, 5, 1, 8, 3, 1, 8, 7, 8, 4, 2, 0, 0, 7, 8, 1, 2, 9, 0, 2, 8, 1, 4, 8, 8, 3, 0, 8, 5, 7, 5, 4, 7, 7, 0, 1, 8, 1, 9, 7, 0, 3, 1, 6, 5, 5, 3, 8, 9, 4, 0, 9, 5, 1, 7, 2, 1, 5, 2, 8, 3, 3, 0, 7, 1, 3, 4, 4, 5, 7, 0, 6, 7, 3, 3, 7, 8, 8, 2, 5, 4, 9, 7, 3, 2, 9, 3, 0, 5, 5, 6, 9, 1, 4, 1, 5, 6, 4, 1, 4, 0, 3, 3, 6, 3, 0, 8, 4, 7, 5, 5, 7, 0, 7, 9, 4, 4, 2, 9, 1, 7, 1, 6, 8, 8, 5, 8, 3, 8, 9, 3, 8, 0, 2, 1, 8, 4, 4, 0, 0, 9, 5, 3, 1, 5, 1, 3, 5, 0, 8, 2, 1, 5, 3, 0, 8, 2, 9, 0, 9, 0, 0, 4, 1, 2, 6, 6, 9, 1, 4, 9, 7, 6, 2, 6, 2, 9, 7, 8, 5, 0, 9, 0, 0, 0, 8, 1, 3, 2, 7, 5, 8, 4, 5, 2, 8, 9, 1, 9, 1, 8, 1, 5]\n"
          ]
        }
      ]
    },
    {
      "cell_type": "markdown",
      "metadata": {
        "id": "J385JS38KZMn"
      },
      "source": [
        "# publishing the final predicted labels"
      ]
    },
    {
      "cell_type": "code",
      "metadata": {
        "colab": {
          "base_uri": "https://localhost:8080/"
        },
        "id": "eZIifdikHxpr",
        "outputId": "eb250b06-2146-4e55-8527-449d62079972"
      },
      "source": [
        "publisher = pubsub_v1.PublisherClient()\n",
        "\n",
        "topic_path = 'projects/vectorai-331806/topics/my-topic-receive'\n",
        "\n",
        "data = f'{final_labels}'\n",
        "\n",
        "# Data must be a bytestring\n",
        "data = data.encode(\"utf-8\")\n",
        "\n",
        "# When you publish a message, the client returns a future.\n",
        "publisher.publish(topic_path, data)\n",
        "\n",
        "print(f\"Published messages to {topic_path}.\")"
      ],
      "execution_count": null,
      "outputs": [
        {
          "output_type": "stream",
          "name": "stdout",
          "text": [
            "Published messages to projects/vectorai-331806/topics/my-topic-receive.\n"
          ]
        }
      ]
    },
    {
      "cell_type": "markdown",
      "metadata": {
        "id": "l0y5MPimKelr"
      },
      "source": [
        "# receiving the final predicted labels"
      ]
    },
    {
      "cell_type": "code",
      "metadata": {
        "colab": {
          "base_uri": "https://localhost:8080/"
        },
        "id": "Op9i5rhvIDBR",
        "outputId": "3e19c6d0-8fea-4743-c976-b2ec1ad47a72"
      },
      "source": [
        "timeout = 5.0\n",
        "final_labels\n",
        "subscriber = pubsub_v1.SubscriberClient()\n",
        "\n",
        "subscription_path = 'projects/vectorai-331806/subscriptions/my-topic-receive-sub'\n",
        "\n",
        "def callback(message: pubsub_v1.subscriber.message.Message) -> None:\n",
        "    global final_labels\n",
        "    final_labels = message.data.decode()\n",
        "    message.ack()\n",
        "\n",
        "streaming_pull_future = subscriber.subscribe(subscription_path, callback=callback)\n",
        "print(f\"Listening for messages on {subscription_path}..\\n\")\n",
        "\n",
        "# Wrap subscriber in a 'with' block to automatically call close() when done.\n",
        "with subscriber:\n",
        "    try:\n",
        "        # When `timeout` is not set, result() will block indefinitely,\n",
        "        # unless an exception is encountered first.\n",
        "        streaming_pull_future.result(timeout=timeout)\n",
        "    except TimeoutError:\n",
        "        streaming_pull_future.cancel()  # Trigger the shutdown.\n",
        "        streaming_pull_future.result()  # Block until the shutdown is complete.\n",
        "\n",
        "\n",
        "\n",
        "\n",
        "print(final_labels)"
      ],
      "execution_count": null,
      "outputs": [
        {
          "output_type": "stream",
          "name": "stdout",
          "text": [
            "Listening for messages on projects/vectorai-331806/subscriptions/my-topic-receive-sub..\n",
            "\n",
            "[9, 2, 1, 1, 6, 1, 4, 6, 5, 7, 4, 5, 5, 3, 4, 1, 2, 4, 8, 0, 2, 5, 7, 5, 1, 2, 6, 0, 9, 4, 8, 8, 3, 3, 8, 0, 7, 5, 7, 9, 0, 1, 6, 9, 4, 7, 2, 1, 2, 6, 4, 6, 5, 8, 2, 2, 8, 4, 8, 0, 7, 7, 8, 5, 1, 1, 0, 4, 7, 8, 7, 0, 2, 6, 2, 3, 1, 2, 8, 4, 1, 8, 5, 9, 5, 0, 3, 2, 0, 6, 5, 3, 6, 7, 1, 8, 0, 1, 2, 2, 3, 6, 7, 6, 7, 8, 5, 7, 9, 4, 2, 5, 7, 0, 5, 2, 8, 4, 7, 8, 0, 0, 9, 9, 3, 0, 8, 4, 1, 5, 4, 1, 9, 1, 8, 4, 2, 1, 2, 5, 1, 0, 0, 0, 1, 6, 1, 3, 2, 2, 2, 4, 1, 4, 5, 0, 4, 7, 9, 3, 7, 2, 3, 9, 0, 9, 2, 7, 4, 2, 6, 5, 2, 1, 2, 1, 3, 0, 9, 1, 0, 9, 3, 6, 7, 9, 9, 4, 4, 7, 1, 2, 1, 6, 3, 2, 8, 3, 6, 1, 1, 0, 2, 9, 2, 4, 0, 7, 9, 8, 4, 1, 8, 4, 1, 3, 1, 4, 7, 2, 8, 5, 2, 0, 7, 7, 6, 2, 7, 0, 7, 8, 9, 2, 9, 0, 5, 1, 4, 6, 5, 6, 9, 2, 2, 8, 6, 4, 6, 2, 9, 7, 6, 5, 5, 2, 8, 5, 2, 3, 0, 6, 8, 0, 0, 4, 4, 8, 9, 3, 1, 3, 0, 2, 3, 0, 8, 3, 7, 4, 0, 1, 6, 4, 0, 4, 6, 7, 5, 4, 5, 9, 5, 6, 5, 5, 1, 9, 8, 8, 3, 3, 6, 8, 0, 0, 2, 9, 7, 7, 1, 3, 2, 6, 2, 4, 7, 1, 4, 4, 8, 2, 6, 5, 4, 2, 7, 7, 7, 3, 3, 7, 6, 7, 1, 3, 7, 2, 2, 3, 4, 0, 3, 1, 6, 1, 9, 4, 9, 9, 1, 7, 8, 3, 6, 0, 2, 4, 8, 0, 1, 2, 2, 4, 4, 7, 3, 2, 2, 5, 0, 7, 9, 4, 0, 9, 3, 9, 3, 2, 5, 6, 2, 3, 5, 8, 1, 6, 2, 6, 6, 4, 9, 5, 2, 0, 4, 6, 1, 2, 0, 9, 7, 0, 4, 4, 4, 6, 2, 1, 6, 6, 7, 2, 9, 4, 2, 1, 5, 4, 5, 3, 8, 5, 8, 6, 4, 8, 9, 8, 6, 2, 4, 4, 2, 4, 1, 4, 1, 3, 0, 7, 8, 8, 2, 5, 3, 1, 9, 5, 3, 3, 0, 1, 2, 2, 9, 4, 0, 6, 0, 4, 2, 0, 0, 3, 3, 8, 2, 8, 9, 4, 0, 7, 0, 4, 4, 9, 2, 9, 5, 9, 3, 7, 5, 7, 8, 1, 0, 0, 6, 4, 8, 9, 7, 9, 1, 2, 7, 0, 2, 0, 5, 7, 1, 8, 2, 2, 2, 2, 2, 6, 6, 1, 9, 8, 5, 1, 9, 1, 2, 8, 3, 8, 9, 2, 4, 2, 8, 2, 2, 0, 5, 8, 8, 5, 3, 9, 4, 3, 4, 4, 5, 1, 0, 1, 2, 0, 4, 9, 6, 1, 5, 1, 1, 1, 9, 3, 4, 5, 3, 6, 6, 0, 4, 0, 0, 5, 8, 6, 3, 4, 0, 7, 7, 8, 9, 0, 6, 8, 7, 6, 7, 9, 3, 4, 0, 4, 5, 0, 1, 1, 5, 9, 4, 2, 5, 7, 8, 1, 2, 9, 7, 7, 1, 0, 9, 3, 6, 9, 0, 7, 6, 8, 2, 7, 0, 2, 3, 8, 2, 2, 6, 9, 3, 0, 7, 8, 0, 2, 9, 4, 2, 6, 4, 9, 0, 4, 4, 2, 7, 5, 8, 4, 9, 1, 0, 5, 4, 4, 4, 0, 0, 4, 5, 4, 0, 4, 5, 4, 1, 6, 1, 1, 6, 4, 3, 8, 2, 8, 6, 7, 0, 4, 0, 8, 5, 0, 8, 2, 9, 6, 8, 9, 6, 4, 2, 9, 6, 4, 5, 0, 9, 5, 3, 6, 6, 8, 3, 6, 8, 3, 8, 0, 9, 7, 9, 4, 8, 9, 1, 3, 7, 1, 0, 2, 4, 7, 1, 0, 0, 8, 7, 2, 4, 6, 4, 4, 1, 5, 9, 0, 0, 1, 6, 5, 0, 0, 3, 3, 3, 8, 1, 1, 8, 5, 7, 7, 8, 7, 2, 0, 7, 0, 8, 0, 9, 7, 6, 1, 6, 6, 4, 8, 2, 6, 3, 4, 8, 4, 0, 8, 9, 2, 4, 5, 9, 1, 4, 4, 9, 2, 1, 7, 9, 5, 8, 3, 7, 7, 1, 1, 1, 6, 9, 5, 3, 8, 4, 4, 9, 2, 8, 3, 2, 4, 4, 7, 1, 4, 9, 3, 5, 8, 5, 4, 7, 4, 8, 5, 9, 3, 3, 4, 7, 1, 7, 3, 7, 4, 4, 5, 8, 3, 7, 1, 2, 0, 1, 9, 8, 2, 7, 1, 3, 7, 5, 9, 9, 1, 8, 6, 5, 7, 1, 9, 2, 1, 0, 0, 2, 1, 7, 1, 1, 5, 7, 1, 5, 2, 2, 3, 3, 1, 1, 4, 9, 4, 3, 7, 7, 0, 8, 9, 9, 6, 1, 8, 4, 0, 0, 5, 9, 2, 0, 5, 5, 1, 5, 7, 8, 7, 5, 3, 6, 4, 0, 4, 0, 0, 0, 2, 5, 5, 1, 2, 0, 9, 3, 7, 8, 6, 8, 3, 4, 7, 0, 7, 4, 8, 6, 3, 4, 4, 3, 4, 9, 0, 2, 4, 9, 1, 8, 1, 7, 5, 5, 6, 6, 2, 1, 0, 5, 4, 0, 0, 2, 7, 5, 0, 2, 5, 9, 4, 8, 2, 0, 4, 0, 2, 9, 0, 7, 7, 1, 4, 4, 0, 5, 0, 9, 9, 8, 8, 2, 0, 2, 4, 6, 6, 3, 2, 3, 5, 4, 9, 3, 4, 7, 7, 6, 3, 5, 5, 6, 4, 5, 9, 2, 3, 7, 5, 1, 9, 8, 8, 9, 9, 2, 7, 2, 2, 3, 8, 7, 6, 4, 5, 6, 3, 6, 1, 4, 9, 3, 1, 6, 5, 0, 5, 7, 5, 2, 3, 3, 9, 4, 3, 6, 0, 4, 5, 0, 4, 9, 4, 0, 3, 2, 7, 0, 2, 1, 1, 4, 4, 6, 5, 9, 0, 1, 4, 5, 1, 4, 4, 8, 4, 7, 7, 3, 8, 1, 1, 9, 8, 1, 3, 3, 7, 5, 1, 5, 7, 8, 9, 6, 3, 5, 8, 4, 6, 3, 8, 4, 5, 5, 6, 7, 1, 5, 3, 5, 4, 8, 6, 2, 1, 1, 7, 9, 6, 2, 7, 0, 4, 8, 2, 2, 0, 6, 4, 4, 9, 6, 8, 4, 5, 9, 6, 3, 9, 6, 9, 8, 7, 4, 2, 2, 5, 3, 7, 0, 7, 2, 9, 3, 7, 0, 9, 4, 8, 4, 4, 7, 2, 4, 6, 2, 0, 7, 8, 4, 2, 4, 5, 5, 6, 4, 5, 5, 8, 1, 1, 7, 4, 6, 9, 0, 8, 7, 2, 2, 1, 6, 7, 7, 4, 9, 8, 5, 1, 1, 0, 2, 0, 9, 0, 1, 9, 0, 5, 5, 2, 0, 7, 0, 2, 3, 1, 3, 1, 3, 2, 7, 2, 4, 9, 5, 2, 9, 6, 3, 4, 4, 0, 0, 5, 2, 2, 5, 4, 1, 4, 2, 5, 4, 4, 8, 0, 2, 4, 0, 6, 3, 6, 8, 3, 8, 2, 0, 4, 6, 8, 8, 6, 5, 2, 2, 3, 0, 1, 9, 0, 9, 1, 9, 6, 5, 2, 4, 7, 3, 8, 5, 0, 3, 0, 7, 5, 5, 9, 5, 0, 0, 0, 3, 2, 4, 4, 5, 7, 1, 3, 4, 6, 4, 5, 1, 6, 7, 3, 2, 8, 8, 2, 8, 9, 4, 1, 6, 5, 2, 7, 8, 5, 6, 8, 5, 4, 2, 8, 9, 8, 6, 3, 6, 8, 8, 2, 0, 9, 4, 4, 8, 1, 3, 6, 1, 9, 2, 1, 4, 2, 7, 9, 4, 0, 0, 4, 4, 2, 4, 5, 0, 2, 8, 3, 7, 4, 4, 0, 0, 5, 2, 8, 2, 4, 3, 0, 2, 1, 7, 7, 5, 4, 7, 2, 6, 7, 3, 3, 1, 3, 3, 6, 0, 1, 7, 0, 4, 7, 1, 0, 6, 5, 8, 4, 2, 7, 9, 5, 0, 7, 9, 5, 1, 2, 7, 5, 5, 3, 9, 7, 1, 6, 7, 8, 0, 1, 7, 2, 7, 1, 1, 5, 5, 6, 6, 5, 9, 5, 5, 2, 3, 9, 3, 8, 5, 4, 0, 0, 0, 5, 7, 4, 5, 2, 6, 4, 6, 7, 6, 0, 5, 1, 7, 2, 3, 2, 8, 7, 8, 7, 1, 2, 0, 2, 9, 7, 5, 6, 1, 0, 7, 1, 2, 4, 9, 3, 6, 4, 4, 3, 0, 0, 2, 3, 6, 1, 3, 5, 2, 5, 0, 9, 1, 1, 8, 2, 9, 5, 0, 5, 4, 6, 7, 1, 1, 5, 3, 8, 9, 8, 3, 8, 9, 2, 6, 1, 1, 3, 5, 6, 7, 1, 9, 9, 2, 2, 7, 0, 1, 1, 9, 6, 3, 7, 2, 8, 1, 8, 0, 7, 9, 8, 5, 8, 2, 0, 4, 0, 4, 5, 8, 3, 8, 7, 5, 7, 3, 7, 6, 7, 0, 2, 2, 5, 3, 5, 1, 1, 7, 7, 6, 3, 6, 4, 2, 8, 6, 3, 1, 4, 9, 9, 4, 5, 2, 2, 7, 8, 0, 7, 9, 1, 2, 9, 4, 7, 3, 4, 3, 3, 1, 8, 8, 5, 3, 8, 0, 2, 6, 3, 2, 0, 2, 7, 3, 2, 8, 3, 7, 7, 3, 1, 7, 5, 8, 8, 2, 0, 0, 4, 4, 8, 5, 7, 0, 6, 0, 7, 7, 3, 9, 2, 5, 9, 7, 1, 7, 2, 4, 5, 1, 4, 5, 4, 5, 0, 4, 4, 1, 4, 4, 8, 4, 5, 9, 4, 1, 1, 7, 2, 3, 5, 0, 3, 9, 7, 5, 3, 8, 8, 8, 9, 1, 1, 6, 3, 1, 4, 3, 4, 9, 9, 0, 0, 4, 9, 4, 9, 0, 6, 1, 8, 9, 2, 9, 4, 8, 0, 7, 2, 3, 6, 2, 5, 6, 1, 9, 0, 4, 2, 9, 9, 0, 8, 3, 6, 6, 6, 0, 4, 2, 6, 6, 5, 0, 2, 7, 8, 7, 4, 6, 0, 6, 5, 2, 4, 2, 9, 5, 2, 6, 7, 0, 1, 9, 5, 5, 0, 7, 7, 5, 0, 5, 0, 8, 4, 7, 9, 8, 2, 6, 7, 3, 3, 7, 7, 7, 8, 4, 9, 5, 7, 6, 5, 7, 5, 1, 3, 0, 2, 9, 9, 8, 3, 7, 0, 2, 4, 9, 3, 3, 1, 7, 9, 1, 5, 7, 2, 7, 6, 5, 7, 0, 7, 5, 5, 4, 0, 7, 0, 3, 2, 6, 2, 9, 9, 0, 4, 0, 8, 3, 8, 0, 6, 4, 1, 8, 2, 6, 5, 0, 4, 6, 3, 0, 0, 1, 0, 8, 4, 9, 0, 7, 6, 7, 7, 1, 5, 8, 7, 2, 9, 9, 1, 6, 6, 1, 1, 1, 8, 8, 1, 3, 7, 5, 2, 0, 8, 4, 8, 9, 4, 1, 3, 1, 9, 8, 1, 1, 1, 8, 0, 9, 9, 7, 6, 0, 4, 2, 1, 1, 7, 9, 2, 2, 0, 3, 6, 6, 8, 1, 7, 2, 4, 2, 2, 4, 8, 7, 1, 8, 5, 5, 7, 7, 6, 6, 2, 7, 0, 6, 0, 5, 5, 0, 2, 1, 0, 3, 7, 7, 3, 7, 2, 5, 7, 9, 8, 9, 1, 4, 8, 3, 2, 6, 6, 0, 8, 3, 8, 0, 8, 6, 0, 8, 8, 4, 2, 9, 3, 2, 0, 8, 5, 7, 0, 1, 1, 1, 9, 5, 1, 3, 3, 6, 0, 8, 4, 1, 3, 8, 8, 0, 7, 5, 0, 6, 7, 3, 3, 2, 4, 6, 5, 5, 4, 2, 3, 9, 1, 1, 7, 3, 8, 7, 2, 2, 9, 3, 9, 9, 0, 1, 7, 1, 4, 8, 1, 6, 9, 3, 4, 0, 0, 7, 6, 9, 9, 5, 5, 7, 0, 9, 3, 3, 6, 9, 8, 4, 2, 6, 3, 9, 2, 3, 4, 7, 4, 0, 4, 8, 1, 8, 7, 3, 4, 5, 2, 2, 9, 1, 9, 4, 9, 1, 0, 2, 8, 8, 7, 7, 7, 7, 6, 6, 0, 7, 5, 8, 5, 6, 0, 6, 4, 9, 2, 8, 3, 1, 9, 3, 1, 2, 2, 2, 3, 7, 5, 7, 4, 4, 4, 1, 2, 3, 5, 4, 2, 9, 1, 5, 9, 3, 6, 0, 4, 0, 1, 7, 7, 6, 6, 7, 7, 3, 0, 4, 3, 2, 7, 8, 7, 2, 8, 0, 8, 7, 4, 8, 2, 7, 0, 9, 9, 3, 1, 5, 9, 3, 1, 0, 3, 3, 5, 9, 7, 9, 2, 3, 5, 9, 3, 7, 9, 3, 6, 0, 3, 5, 7, 7, 2, 3, 5, 3, 1, 1, 9, 4, 3, 9, 5, 5, 7, 2, 4, 9, 0, 2, 1, 9, 7, 1, 5, 0, 5, 5, 0, 3, 5, 0, 3, 3, 7, 4, 2, 6, 8, 5, 9, 2, 1, 0, 5, 5, 8, 5, 3, 7, 4, 4, 3, 9, 6, 0, 0, 9, 1, 4, 3, 1, 5, 3, 8, 5, 1, 1, 2, 9, 4, 0, 5, 2, 8, 0, 2, 9, 8, 6, 4, 8, 3, 8, 0, 4, 5, 0, 4, 8, 5, 4, 9, 0, 9, 5, 8, 0, 9, 1, 4, 7, 2, 1, 6, 0, 0, 6, 5, 2, 4, 8, 5, 5, 2, 0, 6, 8, 4, 6, 1, 9, 2, 7, 7, 2, 0, 4, 8, 3, 4, 8, 5, 2, 8, 3, 3, 1, 4, 4, 0, 4, 9, 0, 4, 1, 9, 9, 8, 1, 8, 8, 3, 3, 3, 8, 5, 9, 2, 6, 8, 7, 0, 3, 0, 0, 0, 5, 7, 5, 0, 7, 9, 1, 8, 4, 8, 9, 3, 5, 2, 0, 4, 4, 7, 8, 9, 1, 8, 2, 5, 5, 3, 1, 1, 8, 8, 3, 0, 7, 0, 1, 8, 0, 0, 2, 9, 8, 9, 8, 8, 6, 9, 1, 8, 4, 2, 7, 7, 0, 5, 1, 1, 0, 0, 4, 3, 0, 4, 3, 5, 1, 4, 3, 3, 4, 4, 5, 0, 9, 8, 3, 4, 1, 0, 2, 1, 2, 4, 4, 8, 4, 9, 0, 9, 9, 5, 0, 0, 0, 5, 0, 3, 9, 7, 3, 6, 1, 9, 4, 1, 0, 4, 5, 4, 1, 4, 8, 5, 9, 4, 5, 3, 2, 8, 1, 0, 6, 8, 9, 0, 5, 0, 2, 8, 9, 3, 0, 2, 8, 5, 9, 2, 3, 1, 6, 3, 6, 2, 7, 4, 1, 2, 6, 4, 0, 4, 8, 5, 0, 8, 5, 2, 7, 8, 1, 5, 9, 8, 0, 9, 0, 9, 3, 7, 5, 9, 9, 6, 0, 7, 1, 5, 5, 9, 5, 4, 4, 2, 4, 5, 9, 7, 4, 2, 6, 9, 9, 4, 2, 1, 3, 7, 1, 8, 7, 9, 1, 8, 9, 3, 7, 7, 7, 1, 7, 4, 4, 6, 2, 4, 5, 2, 8, 9, 0, 8, 0, 0, 7, 7, 5, 0, 1, 9, 2, 0, 4, 9, 2, 2, 6, 7, 1, 0, 5, 8, 7, 2, 8, 2, 3, 6, 1, 7, 4, 8, 7, 4, 1, 7, 8, 2, 4, 6, 4, 4, 1, 8, 4, 7, 2, 9, 4, 5, 2, 0, 3, 8, 8, 2, 0, 7, 2, 4, 0, 4, 1, 0, 8, 1, 7, 7, 2, 6, 3, 1, 2, 7, 2, 6, 0, 6, 2, 7, 2, 8, 3, 2, 3, 0, 9, 7, 3, 5, 4, 9, 2, 4, 5, 0, 6, 8, 4, 0, 4, 4, 0, 4, 1, 6, 2, 2, 7, 1, 0, 4, 4, 1, 1, 5, 4, 3, 8, 3, 3, 1, 7, 4, 9, 8, 8, 4, 5, 5, 6, 7, 2, 9, 1, 0, 5, 3, 7, 2, 1, 1, 8, 0, 2, 0, 5, 9, 0, 3, 8, 1, 0, 4, 8, 2, 4, 8, 3, 4, 2, 1, 9, 3, 7, 9, 5, 7, 2, 1, 5, 8, 8, 2, 6, 4, 6, 3, 1, 2, 4, 0, 3, 9, 8, 4, 0, 8, 4, 3, 9, 7, 1, 1, 9, 5, 1, 9, 2, 4, 2, 4, 8, 6, 7, 1, 3, 0, 7, 3, 5, 8, 1, 4, 2, 3, 4, 8, 8, 8, 3, 8, 1, 8, 9, 3, 0, 6, 0, 2, 9, 7, 3, 9, 0, 1, 2, 5, 9, 6, 0, 5, 0, 5, 8, 7, 4, 6, 2, 8, 0, 0, 9, 3, 0, 5, 8, 1, 1, 2, 6, 0, 0, 8, 8, 2, 3, 3, 9, 5, 4, 3, 3, 1, 8, 1, 5, 2, 0, 0, 7, 9, 3, 2, 7, 1, 7, 4, 1, 6, 2, 8, 6, 7, 0, 4, 9, 3, 2, 5, 2, 8, 6, 2, 2, 7, 4, 2, 1, 1, 0, 3, 5, 5, 2, 6, 4, 1, 8, 0, 4, 4, 2, 4, 2, 7, 2, 3, 9, 6, 6, 6, 6, 4, 5, 4, 9, 8, 1, 6, 3, 4, 4, 9, 4, 3, 7, 1, 2, 6, 0, 1, 1, 0, 2, 6, 7, 9, 0, 1, 2, 4, 6, 7, 2, 1, 1, 7, 7, 8, 5, 6, 5, 3, 7, 2, 0, 9, 2, 1, 6, 2, 6, 5, 8, 5, 2, 7, 8, 4, 0, 9, 0, 8, 1, 3, 8, 2, 8, 2, 0, 0, 3, 8, 7, 8, 2, 2, 0, 6, 0, 4, 5, 4, 4, 1, 1, 9, 7, 0, 4, 2, 1, 6, 2, 7, 7, 1, 8, 3, 3, 7, 9, 8, 7, 2, 7, 9, 7, 2, 2, 2, 0, 3, 3, 9, 1, 1, 4, 8, 0, 9, 7, 5, 2, 8, 8, 3, 6, 3, 6, 8, 2, 2, 5, 9, 2, 3, 8, 3, 2, 8, 3, 3, 2, 1, 3, 0, 1, 8, 2, 1, 5, 8, 1, 5, 8, 0, 7, 8, 7, 5, 5, 5, 5, 3, 0, 7, 8, 4, 5, 1, 0, 4, 6, 4, 3, 7, 7, 9, 7, 2, 5, 8, 5, 8, 5, 3, 0, 9, 7, 2, 0, 6, 8, 2, 0, 7, 4, 7, 6, 8, 4, 7, 0, 0, 4, 0, 6, 7, 8, 1, 3, 8, 1, 7, 3, 6, 1, 1, 6, 6, 9, 8, 2, 8, 2, 7, 7, 1, 8, 0, 0, 0, 7, 8, 7, 6, 5, 2, 6, 7, 5, 5, 8, 9, 7, 3, 2, 4, 8, 3, 9, 5, 7, 6, 6, 6, 7, 0, 8, 5, 1, 8, 9, 2, 2, 1, 2, 2, 7, 4, 0, 6, 4, 8, 7, 7, 9, 2, 2, 8, 2, 6, 0, 6, 3, 4, 1, 5, 4, 7, 5, 0, 9, 6, 2, 0, 5, 1, 1, 0, 7, 3, 8, 8, 7, 5, 8, 9, 5, 5, 4, 0, 7, 1, 4, 6, 0, 9, 9, 3, 6, 8, 0, 5, 7, 8, 0, 2, 7, 6, 2, 4, 8, 1, 6, 4, 8, 0, 7, 5, 8, 7, 5, 7, 5, 0, 7, 4, 2, 2, 0, 3, 4, 2, 0, 2, 9, 4, 5, 4, 4, 1, 2, 5, 7, 0, 5, 2, 2, 5, 0, 4, 6, 6, 6, 7, 2, 7, 2, 3, 4, 7, 1, 2, 4, 4, 2, 4, 3, 9, 9, 2, 8, 0, 4, 0, 0, 1, 9, 3, 9, 0, 8, 2, 9, 4, 7, 9, 1, 5, 8, 1, 0, 0, 2, 4, 8, 0, 3, 3, 0, 0, 6, 3, 3, 1, 6, 8, 4, 9, 3, 0, 6, 5, 8, 8, 8, 6, 1, 0, 8, 9, 8, 5, 8, 7, 0, 7, 2, 7, 3, 5, 5, 8, 3, 2, 8, 5, 9, 9, 4, 0, 6, 7, 1, 8, 8, 8, 7, 2, 0, 9, 7, 9, 6, 9, 4, 1, 4, 7, 2, 5, 2, 6, 2, 9, 0, 7, 1, 9, 7, 6, 5, 3, 8, 4, 9, 3, 9, 5, 7, 5, 1, 3, 3, 4, 0, 7, 5, 3, 7, 5, 8, 7, 7, 4, 6, 5, 5, 0, 4, 8, 3, 0, 7, 2, 6, 2, 2, 7, 4, 0, 5, 1, 4, 8, 1, 4, 7, 8, 2, 6, 7, 2, 0, 2, 6, 3, 2, 3, 0, 5, 2, 2, 2, 8, 8, 0, 5, 4, 6, 2, 8, 3, 5, 1, 0, 9, 1, 6, 9, 6, 7, 4, 0, 0, 2, 5, 0, 3, 5, 2, 5, 1, 7, 9, 4, 6, 7, 3, 0, 2, 8, 1, 0, 9, 9, 7, 8, 4, 6, 9, 7, 7, 5, 8, 8, 7, 5, 3, 5, 5, 0, 8, 9, 7, 2, 1, 4, 7, 1, 3, 4, 3, 2, 6, 9, 4, 7, 7, 0, 5, 0, 8, 8, 6, 8, 5, 4, 0, 7, 3, 0, 0, 2, 5, 2, 0, 7, 7, 7, 1, 5, 2, 1, 8, 5, 2, 2, 8, 7, 7, 2, 7, 1, 0, 9, 5, 3, 9, 3, 5, 0, 7, 4, 6, 0, 1, 2, 5, 9, 3, 2, 8, 5, 7, 3, 1, 2, 0, 8, 1, 8, 5, 6, 9, 0, 3, 8, 0, 4, 2, 0, 0, 4, 2, 3, 4, 5, 9, 1, 1, 9, 4, 7, 0, 2, 1, 0, 0, 7, 7, 0, 7, 8, 0, 5, 6, 4, 4, 8, 9, 7, 4, 9, 5, 3, 7, 2, 6, 1, 9, 7, 8, 1, 3, 9, 3, 4, 7, 8, 6, 5, 6, 7, 9, 9, 7, 0, 4, 2, 3, 4, 2, 7, 5, 3, 9, 2, 8, 8, 0, 0, 4, 1, 9, 3, 3, 5, 1, 5, 5, 9, 2, 8, 5, 5, 9, 5, 4, 6, 7, 3, 5, 4, 2, 6, 9, 4, 8, 1, 9, 2, 6, 6, 4, 8, 8, 7, 7, 3, 9, 3, 9, 6, 8, 2, 6, 9, 0, 3, 2, 5, 7, 0, 4, 6, 4, 1, 3, 1, 8, 7, 8, 8, 7, 7, 0, 5, 7, 3, 6, 0, 4, 0, 3, 6, 8, 8, 8, 0, 2, 3, 2, 8, 6, 1, 4, 1, 1, 6, 3, 2, 2, 8, 0, 0, 4, 1, 0, 2, 7, 0, 6, 7, 9, 9, 2, 7, 6, 9, 9, 8, 4, 8, 8, 4, 0, 9, 4, 2, 4, 3, 8, 2, 0, 6, 9, 0, 4, 7, 3, 7, 8, 8, 2, 4, 8, 8, 0, 1, 5, 8, 9, 8, 7, 1, 0, 3, 8, 3, 0, 7, 0, 9, 9, 1, 5, 9, 4, 1, 7, 0, 1, 0, 5, 2, 8, 8, 4, 1, 7, 0, 5, 0, 4, 1, 7, 1, 7, 9, 4, 3, 9, 2, 4, 5, 3, 7, 8, 8, 4, 4, 7, 7, 4, 6, 0, 5, 5, 3, 6, 2, 5, 6, 8, 5, 6, 9, 1, 3, 1, 4, 5, 9, 0, 9, 0, 2, 5, 2, 1, 5, 8, 5, 6, 0, 9, 1, 9, 1, 7, 1, 8, 6, 3, 4, 0, 2, 8, 3, 3, 8, 8, 0, 3, 6, 8, 1, 1, 3, 3, 4, 2, 1, 8, 3, 2, 2, 6, 4, 2, 3, 9, 2, 3, 0, 4, 5, 7, 1, 4, 1, 2, 0, 2, 8, 5, 1, 6, 5, 4, 8, 1, 7, 1, 6, 4, 9, 4, 2, 1, 5, 2, 3, 5, 8, 7, 7, 7, 2, 7, 5, 4, 4, 2, 0, 4, 4, 9, 9, 5, 8, 0, 4, 4, 1, 3, 7, 5, 0, 0, 9, 8, 5, 3, 0, 7, 1, 9, 7, 8, 4, 0, 9, 9, 1, 2, 0, 4, 2, 2, 5, 1, 0, 4, 8, 3, 4, 8, 4, 4, 0, 0, 3, 6, 7, 4, 4, 1, 7, 3, 0, 7, 9, 9, 1, 5, 5, 9, 1, 4, 6, 1, 2, 8, 6, 5, 7, 8, 0, 4, 2, 7, 2, 7, 5, 0, 8, 7, 8, 2, 4, 7, 2, 5, 5, 9, 9, 4, 4, 2, 6, 6, 0, 8, 7, 6, 2, 7, 5, 2, 9, 0, 3, 4, 4, 8, 4, 0, 2, 7, 0, 5, 2, 6, 2, 8, 0, 6, 2, 0, 2, 5, 5, 8, 0, 7, 0, 8, 9, 0, 2, 1, 2, 5, 1, 0, 2, 9, 6, 4, 5, 9, 1, 4, 3, 1, 2, 8, 0, 3, 4, 2, 2, 0, 2, 3, 6, 5, 2, 3, 4, 0, 8, 5, 4, 0, 1, 2, 2, 2, 6, 7, 9, 6, 4, 0, 3, 0, 8, 5, 4, 6, 0, 3, 3, 5, 2, 5, 1, 5, 5, 1, 7, 5, 2, 3, 8, 8, 0, 9, 0, 0, 6, 3, 2, 1, 8, 3, 4, 2, 1, 2, 0, 3, 0, 8, 5, 1, 5, 0, 2, 0, 3, 9, 8, 2, 8, 1, 0, 2, 6, 2, 2, 3, 7, 5, 0, 6, 2, 0, 8, 4, 2, 1, 8, 6, 8, 2, 9, 2, 6, 8, 5, 4, 7, 3, 2, 2, 6, 8, 4, 8, 5, 2, 1, 5, 2, 8, 2, 9, 0, 6, 3, 6, 4, 2, 7, 7, 9, 0, 2, 9, 8, 0, 5, 8, 7, 7, 0, 7, 7, 0, 7, 7, 2, 9, 7, 4, 2, 2, 3, 8, 0, 1, 9, 8, 0, 2, 6, 8, 3, 8, 0, 7, 6, 4, 3, 8, 1, 3, 8, 7, 3, 0, 3, 2, 8, 8, 9, 1, 3, 2, 1, 4, 8, 0, 4, 6, 7, 3, 9, 4, 9, 0, 4, 6, 5, 7, 0, 8, 1, 7, 5, 4, 9, 5, 7, 3, 2, 0, 9, 8, 7, 3, 7, 7, 4, 7, 5, 8, 5, 2, 4, 6, 2, 3, 8, 9, 7, 1, 3, 4, 2, 9, 7, 1, 2, 2, 6, 0, 5, 5, 4, 5, 2, 8, 9, 4, 9, 9, 1, 4, 8, 1, 5, 5, 5, 4, 8, 1, 5, 7, 7, 7, 9, 8, 3, 1, 1, 4, 6, 6, 9, 3, 6, 4, 4, 8, 2, 5, 4, 9, 0, 2, 8, 4, 8, 6, 3, 6, 1, 2, 3, 3, 8, 4, 9, 9, 0, 7, 9, 5, 3, 1, 7, 2, 8, 4, 9, 0, 1, 6, 0, 5, 8, 1, 9, 3, 0, 8, 3, 8, 4, 2, 5, 6, 9, 0, 1, 2, 0, 7, 9, 0, 1, 3, 9, 5, 1, 2, 1, 1, 4, 8, 0, 9, 5, 4, 4, 3, 7, 7, 7, 8, 3, 9, 1, 9, 4, 4, 0, 7, 6, 0, 7, 9, 0, 3, 4, 9, 0, 4, 0, 2, 7, 9, 6, 1, 1, 2, 0, 8, 8, 7, 4, 2, 7, 5, 7, 6, 1, 8, 1, 4, 9, 8, 9, 1, 1, 0, 2, 0, 3, 0, 6, 4, 1, 7, 7, 1, 2, 2, 5, 3, 4, 1, 7, 4, 7, 0, 2, 8, 8, 1, 4, 9, 7, 3, 0, 4, 9, 3, 9, 8, 5, 3, 8, 2, 7, 1, 4, 1, 9, 6, 8, 3, 2, 4, 8, 1, 1, 5, 8, 2, 1, 6, 2, 9, 0, 9, 5, 3, 5, 0, 6, 5, 4, 8, 3, 8, 0, 6, 9, 9, 1, 5, 3, 2, 6, 5, 3, 0, 3, 0, 7, 4, 0, 2, 1, 9, 5, 1, 7, 5, 5, 5, 7, 6, 8, 4, 6, 6, 4, 4, 4, 1, 1, 2, 2, 8, 6, 9, 0, 5, 8, 1, 3, 8, 3, 2, 4, 8, 2, 0, 9, 3, 2, 9, 7, 2, 2, 2, 2, 8, 9, 4, 6, 4, 7, 7, 9, 7, 3, 4, 9, 2, 7, 3, 0, 2, 0, 9, 2, 3, 3, 1, 9, 5, 8, 2, 3, 5, 0, 6, 4, 5, 8, 3, 5, 0, 7, 7, 6, 0, 9, 7, 1, 4, 4, 5, 3, 0, 6, 1, 4, 0, 5, 4, 8, 5, 7, 3, 0, 8, 3, 5, 4, 4, 9, 8, 5, 7, 8, 1, 7, 5, 0, 1, 5, 4, 0, 3, 2, 4, 4, 3, 6, 7, 8, 0, 9, 0, 3, 0, 4, 2, 7, 3, 5, 7, 3, 7, 8, 4, 6, 2, 2, 3, 1, 0, 7, 5, 2, 6, 4, 1, 1, 2, 7, 2, 3, 5, 5, 0, 4, 4, 4, 8, 9, 9, 2, 0, 9, 8, 3, 5, 3, 1, 4, 5, 0, 1, 8, 5, 8, 6, 0, 7, 8, 9, 2, 4, 6, 3, 2, 2, 4, 7, 9, 1, 9, 7, 4, 5, 0, 3, 2, 4, 5, 6, 0, 5, 8, 0, 4, 2, 9, 4, 7, 8, 0, 0, 2, 7, 7, 5, 9, 7, 7, 3, 8, 7, 5, 9, 9, 8, 2, 1, 0, 8, 0, 2, 6, 7, 9, 2, 2, 5, 4, 3, 2, 1, 1, 9, 0, 5, 5, 4, 7, 8, 9, 0, 5, 4, 0, 0, 5, 7, 8, 4, 8, 8, 7, 6, 9, 3, 9, 6, 9, 7, 3, 9, 9, 3, 0, 0, 2, 8, 9, 9, 2, 0, 6, 4, 1, 0, 3, 8, 4, 8, 4, 4, 2, 3, 5, 7, 7, 8, 5, 4, 3, 2, 1, 8, 3, 8, 5, 2, 2, 3, 0, 8, 3, 3, 2, 9, 0, 9, 7, 0, 1, 8, 3, 0, 3, 8, 4, 8, 5, 1, 3, 0, 1, 9, 3, 5, 0, 4, 2, 0, 1, 5, 3, 2, 8, 5, 7, 8, 0, 1, 1, 0, 2, 4, 5, 9, 0, 7, 2, 3, 8, 4, 4, 3, 3, 9, 4, 7, 0, 8, 6, 5, 6, 2, 0, 1, 3, 9, 4, 2, 5, 0, 5, 3, 4, 5, 0, 0, 0, 0, 6, 9, 1, 3, 4, 2, 5, 5, 4, 6, 1, 4, 9, 7, 4, 4, 7, 5, 7, 1, 4, 8, 7, 9, 7, 7, 0, 2, 9, 2, 5, 0, 7, 6, 2, 5, 2, 7, 4, 3, 2, 5, 9, 2, 5, 7, 7, 3, 8, 3, 9, 4, 5, 3, 0, 7, 0, 9, 5, 1, 3, 6, 9, 3, 6, 4, 5, 3, 4, 9, 9, 1, 2, 2, 2, 6, 6, 8, 7, 9, 9, 4, 8, 8, 9, 0, 7, 0, 4, 3, 8, 8, 4, 2, 0, 1, 4, 0, 2, 1, 5, 4, 6, 6, 0, 3, 4, 5, 6, 8, 7, 4, 6, 3, 1, 8, 4, 8, 9, 9, 5, 5, 8, 2, 5, 4, 4, 2, 5, 6, 9, 2, 9, 1, 0, 2, 4, 6, 9, 8, 6, 6, 9, 1, 9, 4, 7, 3, 5, 4, 3, 4, 2, 1, 0, 2, 4, 3, 7, 8, 6, 5, 5, 9, 0, 4, 3, 4, 5, 5, 5, 7, 6, 1, 3, 3, 7, 0, 5, 7, 0, 8, 3, 5, 5, 8, 1, 9, 4, 0, 4, 2, 1, 6, 0, 1, 2, 5, 0, 6, 1, 1, 7, 5, 2, 5, 9, 0, 8, 0, 6, 4, 4, 7, 0, 7, 0, 8, 2, 3, 7, 1, 4, 2, 3, 4, 0, 0, 6, 4, 8, 7, 0, 3, 0, 4, 7, 3, 3, 6, 0, 2, 4, 4, 1, 8, 1, 9, 1, 2, 2, 4, 2, 5, 3, 3, 5, 3, 5, 8, 3, 9, 7, 3, 0, 0, 1, 0, 1, 0, 7, 7, 4, 8, 9, 6, 1, 5, 0, 9, 4, 7, 9, 9, 9, 0, 1, 0, 9, 9, 5, 1, 7, 2, 9, 1, 5, 6, 8, 1, 7, 3, 3, 8, 2, 7, 8, 8, 9, 8, 8, 4, 5, 8, 4, 5, 9, 0, 0, 5, 4, 7, 7, 4, 4, 7, 4, 5, 8, 3, 7, 2, 7, 3, 8, 8, 8, 7, 8, 6, 0, 5, 7, 9, 8, 5, 6, 0, 4, 2, 4, 2, 8, 9, 9, 1, 9, 5, 8, 4, 4, 8, 4, 8, 7, 4, 8, 3, 0, 7, 8, 8, 3, 9, 9, 5, 9, 2, 4, 9, 7, 5, 7, 4, 9, 9, 2, 3, 9, 5, 3, 5, 3, 1, 2, 9, 1, 4, 8, 5, 1, 7, 9, 0, 3, 3, 0, 9, 0, 2, 6, 0, 0, 2, 9, 7, 1, 9, 8, 5, 2, 8, 5, 9, 5, 2, 4, 2, 5, 2, 2, 5, 2, 2, 7, 1, 6, 0, 4, 2, 5, 2, 4, 6, 7, 5, 5, 1, 7, 2, 4, 4, 2, 4, 1, 9, 0, 7, 2, 7, 4, 2, 9, 7, 4, 4, 6, 1, 7, 1, 4, 7, 0, 1, 7, 3, 0, 3, 6, 6, 0, 0, 4, 1, 7, 9, 0, 2, 9, 2, 0, 7, 1, 7, 5, 2, 9, 8, 2, 4, 0, 3, 3, 2, 2, 8, 1, 0, 8, 1, 8, 1, 0, 1, 4, 7, 3, 7, 7, 3, 2, 9, 9, 0, 8, 2, 5, 8, 9, 0, 3, 7, 4, 1, 0, 9, 2, 3, 2, 6, 1, 8, 1, 4, 4, 0, 2, 1, 7, 0, 5, 4, 5, 3, 6, 4, 1, 0, 0, 7, 2, 6, 2, 3, 4, 4, 5, 2, 9, 6, 8, 0, 4, 4, 3, 1, 7, 5, 2, 3, 3, 2, 0, 3, 5, 2, 4, 2, 5, 1, 4, 2, 2, 1, 9, 3, 4, 6, 9, 5, 8, 0, 0, 3, 4, 0, 8, 1, 2, 3, 3, 1, 5, 5, 3, 2, 2, 7, 1, 3, 2, 3, 0, 0, 2, 2, 8, 0, 8, 3, 7, 0, 3, 1, 3, 8, 3, 4, 1, 2, 0, 3, 6, 7, 7, 8, 3, 6, 9, 5, 4, 6, 9, 5, 4, 3, 8, 5, 3, 8, 3, 7, 9, 0, 2, 5, 1, 0, 5, 6, 3, 5, 7, 9, 6, 0, 7, 1, 0, 0, 8, 0, 2, 2, 7, 8, 2, 6, 4, 4, 9, 7, 3, 2, 5, 4, 5, 1, 9, 5, 0, 5, 2, 4, 1, 7, 9, 0, 3, 3, 4, 9, 1, 0, 3, 9, 5, 2, 8, 2, 2, 1, 4, 0, 6, 7, 9, 0, 1, 1, 4, 1, 6, 9, 8, 1, 3, 7, 3, 9, 9, 5, 4, 2, 3, 6, 8, 8, 5, 5, 1, 8, 8, 5, 7, 9, 9, 3, 4, 4, 2, 7, 9, 4, 6, 7, 5, 4, 7, 6, 1, 4, 6, 2, 0, 9, 0, 0, 5, 1, 1, 7, 8, 3, 6, 6, 2, 0, 0, 4, 9, 5, 2, 4, 2, 4, 6, 1, 5, 2, 7, 8, 6, 7, 7, 0, 8, 4, 3, 4, 9, 1, 2, 1, 7, 4, 3, 4, 9, 9, 2, 4, 4, 3, 0, 5, 7, 5, 2, 7, 8, 9, 9, 2, 7, 8, 7, 7, 5, 8, 7, 6, 6, 9, 0, 1, 8, 7, 5, 4, 5, 3, 7, 4, 6, 5, 5, 6, 9, 9, 1, 9, 5, 9, 4, 4, 1, 9, 8, 3, 5, 1, 8, 6, 5, 3, 2, 3, 7, 1, 1, 1, 8, 7, 5, 6, 3, 4, 7, 0, 0, 5, 3, 4, 8, 2, 5, 2, 7, 3, 2, 3, 2, 7, 8, 0, 7, 0, 9, 5, 8, 0, 7, 3, 5, 0, 9, 7, 3, 0, 6, 5, 7, 8, 2, 3, 1, 9, 0, 2, 9, 1, 3, 4, 0, 4, 0, 6, 2, 4, 8, 6, 4, 9, 5, 6, 1, 8, 2, 4, 1, 4, 2, 9, 4, 3, 7, 9, 0, 3, 5, 4, 5, 9, 8, 5, 3, 0, 1, 2, 6, 4, 1, 9, 4, 4, 0, 5, 5, 4, 3, 2, 0, 1, 4, 9, 9, 7, 0, 1, 2, 0, 0, 6, 4, 2, 5, 9, 6, 8, 4, 4, 1, 5, 9, 4, 1, 8, 9, 3, 1, 7, 1, 1, 1, 9, 1, 3, 8, 9, 9, 1, 9, 6, 0, 5, 8, 5, 5, 9, 3, 8, 9, 4, 7, 8, 2, 9, 2, 0, 1, 5, 0, 7, 8, 6, 0, 9, 1, 1, 8, 2, 8, 9, 2, 0, 7, 2, 0, 0, 5, 1, 2, 8, 2, 3, 7, 6, 1, 9, 7, 4, 1, 3, 9, 2, 4, 0, 3, 7, 5, 1, 1, 9, 5, 3, 5, 4, 6, 6, 1, 5, 2, 1, 6, 2, 5, 9, 9, 4, 4, 4, 1, 7, 9, 0, 5, 7, 3, 3, 8, 4, 1, 8, 2, 7, 4, 4, 8, 9, 4, 9, 3, 2, 4, 1, 1, 6, 4, 1, 4, 7, 8, 5, 9, 1, 7, 0, 9, 2, 2, 1, 7, 2, 9, 8, 8, 9, 5, 5, 3, 8, 2, 0, 3, 4, 1, 1, 9, 0, 9, 7, 5, 3, 2, 9, 5, 5, 4, 6, 9, 9, 3, 0, 6, 4, 1, 7, 4, 7, 2, 8, 5, 8, 6, 0, 1, 3, 2, 2, 3, 6, 6, 0, 2, 8, 3, 2, 4, 6, 1, 8, 6, 5, 6, 2, 3, 9, 0, 4, 4, 2, 5, 6, 2, 7, 6, 7, 3, 3, 6, 9, 4, 8, 5, 6, 0, 3, 6, 7, 4, 5, 3, 1, 1, 9, 7, 5, 4, 2, 1, 4, 4, 5, 9, 2, 5, 5, 1, 1, 0, 9, 2, 4, 2, 3, 2, 4, 9, 2, 3, 6, 4, 2, 0, 4, 1, 3, 7, 2, 4, 2, 2, 3, 2, 3, 0, 8, 3, 5, 1, 2, 8, 8, 2, 1, 2, 1, 1, 9, 0, 5, 9, 0, 8, 0, 3, 2, 3, 8, 3, 7, 5, 2, 1, 1, 2, 0, 5, 5, 0, 1, 0, 5, 2, 8, 9, 7, 9, 1, 1, 3, 3, 5, 6, 7, 5, 9, 4, 9, 3, 6, 6, 2, 8, 5, 2, 5, 9, 8, 3, 8, 1, 3, 1, 3, 5, 2, 5, 4, 4, 9, 2, 7, 1, 6, 8, 3, 7, 7, 6, 7, 9, 6, 7, 7, 0, 1, 4, 1, 8, 8, 4, 4, 7, 4, 7, 1, 8, 7, 5, 1, 3, 1, 0, 3, 4, 5, 3, 8, 2, 3, 4, 9, 3, 1, 5, 3, 0, 7, 0, 6, 4, 5, 1, 2, 6, 2, 8, 8, 9, 8, 0, 7, 2, 4, 2, 5, 1, 9, 8, 3, 8, 7, 1, 8, 1, 2, 0, 9, 2, 4, 2, 4, 6, 1, 3, 5, 2, 9, 7, 5, 3, 7, 5, 5, 4, 4, 8, 0, 7, 0, 8, 8, 2, 1, 9, 7, 7, 0, 8, 0, 3, 0, 9, 8, 5, 0, 4, 8, 1, 5, 5, 7, 0, 1, 6, 1, 3, 2, 6, 4, 4, 1, 7, 6, 2, 2, 6, 1, 8, 2, 6, 6, 3, 0, 8, 8, 4, 4, 2, 0, 7, 0, 8, 9, 1, 4, 6, 7, 0, 8, 1, 8, 2, 4, 4, 7, 5, 7, 9, 9, 3, 9, 4, 4, 0, 4, 1, 4, 8, 4, 4, 7, 0, 6, 2, 9, 1, 8, 0, 6, 2, 6, 0, 3, 6, 6, 1, 3, 6, 3, 4, 1, 7, 8, 1, 0, 7, 0, 5, 0, 8, 2, 8, 5, 8, 7, 8, 4, 5, 9, 5, 5, 1, 2, 4, 7, 2, 9, 7, 8, 0, 7, 4, 6, 3, 8, 8, 4, 5, 1, 8, 2, 4, 2, 2, 9, 8, 9, 0, 2, 7, 9, 4, 5, 9, 8, 6, 3, 9, 5, 9, 3, 0, 8, 6, 0, 6, 3, 5, 8, 0, 0, 1, 8, 6, 9, 0, 0, 7, 6, 6, 8, 7, 6, 8, 8, 2, 0, 3, 6, 7, 1, 8, 7, 4, 2, 7, 1, 6, 5, 2, 0, 7, 9, 6, 6, 8, 2, 1, 1, 8, 8, 3, 5, 7, 7, 4, 7, 4, 3, 9, 3, 8, 9, 0, 4, 0, 4, 5, 7, 0, 4, 3, 9, 5, 7, 2, 2, 5, 8, 3, 1, 3, 7, 4, 9, 4, 3, 9, 7, 2, 0, 8, 0, 9, 1, 9, 9, 0, 7, 1, 4, 5, 0, 3, 8, 7, 2, 7, 5, 9, 3, 2, 0, 0, 9, 0, 5, 0, 1, 3, 7, 9, 1, 5, 9, 0, 0, 9, 7, 2, 9, 2, 1, 2, 7, 5, 1, 0, 7, 3, 4, 7, 6, 4, 6, 8, 5, 7, 9, 5, 7, 3, 2, 3, 7, 3, 4, 1, 5, 6, 9, 7, 4, 0, 2, 5, 8, 0, 7, 7, 3, 2, 0, 4, 8, 2, 0, 6, 9, 8, 9, 0, 5, 0, 4, 0, 2, 0, 3, 1, 8, 7, 4, 1, 9, 1, 2, 8, 5, 2, 3, 0, 0, 2, 6, 0, 7, 2, 1, 8, 2, 8, 7, 9, 2, 1, 3, 5, 7, 7, 3, 6, 5, 7, 3, 6, 7, 3, 2, 4, 9, 6, 7, 3, 9, 1, 2, 1, 9, 7, 2, 3, 3, 8, 1, 8, 3, 5, 0, 5, 3, 8, 5, 7, 6, 9, 0, 6, 8, 4, 2, 3, 3, 4, 3, 7, 8, 7, 1, 3, 7, 8, 9, 5, 5, 2, 2, 4, 5, 0, 8, 6, 0, 4, 0, 8, 8, 9, 6, 9, 1, 5, 1, 2, 1, 3, 2, 2, 2, 4, 5, 7, 5, 9, 2, 0, 5, 7, 0, 5, 4, 5, 6, 0, 4, 0, 7, 1, 5, 6, 9, 6, 1, 7, 6, 4, 4, 0, 7, 1, 8, 5, 7, 8, 5, 5, 1, 8, 5, 7, 7, 7, 6, 5, 2, 6, 1, 2, 2, 4, 1, 0, 3, 9, 1, 8, 2, 4, 7, 4, 9, 5, 7, 4, 3, 9, 5, 6, 6, 2, 7, 3, 9, 3, 0, 5, 9, 0, 9, 4, 0, 6, 5, 7, 1, 2, 5, 2, 0, 2, 3, 1, 1, 1, 7, 4, 2, 2, 5, 9, 8, 7, 7, 3, 2, 7, 9, 2, 0, 1, 1, 1, 4, 8, 0, 8, 0, 9, 5, 6, 7, 0, 8, 2, 4, 4, 2, 2, 2, 5, 7, 2, 9, 7, 2, 2, 2, 0, 7, 4, 5, 2, 3, 3, 1, 9, 8, 1, 8, 6, 2, 3, 9, 1, 9, 7, 2, 9, 6, 9, 3, 0, 4, 2, 6, 4, 6, 0, 9, 2, 1, 1, 0, 5, 0, 7, 0, 4, 1, 1, 7, 0, 0, 1, 9, 4, 7, 3, 5, 4, 1, 2, 0, 4, 0, 3, 0, 2, 3, 5, 9, 5, 8, 9, 3, 1, 7, 8, 9, 4, 1, 1, 9, 0, 7, 0, 0, 9, 6, 0, 2, 9, 2, 8, 5, 5, 9, 3, 3, 5, 7, 1, 2, 3, 3, 5, 6, 0, 4, 1, 1, 9, 1, 4, 0, 0, 2, 2, 6, 2, 0, 6, 5, 0, 3, 0, 5, 1, 1, 8, 2, 5, 3, 5, 1, 2, 2, 3, 1, 2, 7, 9, 6, 3, 8, 5, 4, 4, 9, 1, 5, 7, 7, 6, 2, 2, 7, 5, 6, 1, 5, 7, 7, 8, 2, 8, 3, 7, 4, 0, 2, 9, 9, 0, 2, 7, 3, 1, 0, 8, 2, 4, 4, 4, 7, 1, 8, 3, 0, 3, 4, 0, 2, 9, 8, 0, 0, 8, 3, 9, 2, 1, 5, 4, 5, 0, 8, 4, 2, 5, 9, 3, 0, 4, 7, 8, 5, 9, 5, 0, 0, 6, 9, 7, 2, 9, 2, 2, 6, 4, 0, 1, 4, 3, 9, 4, 0, 3, 4, 6, 6, 9, 4, 7, 2, 5, 4, 3, 4, 5, 7, 0, 2, 1, 1, 8, 7, 1, 2, 0, 5, 2, 3, 8, 8, 8, 9, 3, 8, 9, 4, 0, 3, 6, 4, 2, 8, 8, 7, 9, 2, 7, 1, 9, 0, 3, 3, 3, 2, 3, 9, 9, 5, 4, 0, 4, 2, 4, 6, 4, 5, 2, 4, 9, 8, 5, 8, 3, 4, 1, 4, 8, 9, 2, 6, 2, 3, 5, 6, 3, 5, 2, 5, 0, 9, 1, 2, 9, 8, 9, 0, 8, 8, 5, 5, 8, 4, 4, 0, 8, 3, 0, 4, 9, 4, 1, 0, 5, 1, 2, 0, 9, 2, 6, 3, 6, 7, 6, 4, 4, 3, 8, 5, 1, 8, 3, 4, 4, 5, 0, 0, 7, 8, 7, 4, 4, 2, 2, 9, 3, 5, 0, 9, 9, 0, 1, 3, 7, 1, 9, 6, 5, 2, 6, 9, 5, 7, 7, 4, 2, 8, 3, 1, 7, 8, 8, 6, 8, 0, 5, 5, 7, 1, 9, 6, 2, 1, 5, 1, 9, 0, 1, 0, 3, 2, 5, 3, 9, 0, 5, 4, 0, 0, 9, 5, 4, 2, 3, 8, 5, 8, 3, 6, 4, 1, 4, 9, 5, 8, 9, 5, 6, 6, 9, 5, 9, 1, 1, 1, 8, 4, 1, 4, 6, 9, 9, 8, 9, 7, 4, 4, 1, 9, 9, 1, 9, 2, 2, 3, 7, 3, 1, 6, 6, 8, 3, 4, 3, 3, 8, 3, 7, 1, 0, 3, 8, 4, 7, 9, 8, 0, 3, 0, 4, 5, 7, 0, 7, 2, 5, 0, 2, 3, 3, 0, 0, 0, 4, 4, 4, 4, 4, 9, 9, 0, 7, 4, 0, 2, 2, 1, 9, 5, 9, 9, 0, 5, 8, 2, 7, 3, 9, 5, 2, 8, 9, 5, 8, 0, 0, 0, 0, 6, 3, 7, 8, 0, 1, 2, 2, 2, 1, 1, 2, 2, 2, 5, 4, 3, 9, 3, 4, 2, 3, 7, 2, 9, 2, 1, 4, 7, 5, 5, 9, 2, 0, 9, 7, 9, 7, 4, 1, 8, 3, 3, 8, 0, 8, 7, 0, 7, 7, 9, 6, 4, 0, 3, 7, 2, 1, 5, 2, 0, 5, 8, 6, 7, 0, 1, 0, 5, 6, 2, 1, 4, 1, 8, 7, 9, 9, 7, 3, 2, 2, 4, 7, 4, 3, 9, 0, 3, 9, 5, 1, 0, 9, 0, 7, 4, 3, 5, 7, 2, 7, 2, 8, 7, 5, 4, 5, 9, 4, 3, 5, 2, 2, 7, 5, 3, 1, 9, 3, 7, 1, 0, 3, 6, 4, 2, 5, 7, 2, 1, 1, 7, 7, 9, 0, 1, 4, 8, 9, 2, 5, 3, 7, 8, 7, 7, 0, 8, 5, 6, 0, 7, 5, 6, 7, 7, 9, 7, 1, 0, 0, 8, 0, 4, 0, 6, 4, 5, 5, 0, 7, 3, 0, 4, 5, 0, 7, 1, 8, 7, 1, 2, 2, 0, 4, 7, 3, 7, 6, 8, 6, 3, 7, 4, 0, 0, 0, 8, 7, 3, 3, 0, 5, 6, 1, 5, 0, 9, 9, 1, 3, 0, 6, 1, 6, 6, 5, 7, 2, 2, 0, 9, 2, 6, 8, 2, 8, 3, 7, 7, 3, 3, 9, 5, 7, 3, 0, 9, 4, 5, 0, 7, 2, 9, 5, 5, 8, 7, 4, 9, 9, 2, 3, 6, 3, 0, 6, 7, 6, 4, 2, 5, 4, 1, 5, 7, 9, 7, 3, 9, 8, 2, 5, 1, 9, 6, 1, 0, 4, 8, 0, 7, 6, 9, 8, 8, 4, 4, 4, 1, 7, 7, 1, 1, 6, 7, 0, 3, 2, 8, 7, 8, 7, 9, 1, 1, 3, 8, 9, 5, 9, 1, 0, 2, 3, 4, 4, 4, 7, 1, 2, 0, 1, 5, 4, 4, 9, 2, 4, 2, 2, 6, 7, 9, 6, 7, 1, 4, 0, 8, 3, 3, 5, 4, 0, 8, 3, 0, 4, 0, 1, 8, 4, 3, 2, 7, 5, 4, 6, 5, 2, 1, 0, 4, 4, 5, 8, 0, 7, 3, 2, 6, 7, 2, 2, 3, 4, 2, 4, 6, 3, 4, 5, 1, 7, 5, 2, 5, 7, 9, 9, 9, 9, 2, 0, 9, 2, 0, 5, 5, 5, 0, 5, 6, 6, 6, 0, 4, 9, 9, 6, 4, 5, 4, 0, 1, 0, 8, 9, 5, 7, 3, 0, 6, 4, 1, 3, 8, 1, 8, 2, 2, 6, 9, 8, 5, 1, 2, 6, 0, 9, 0, 8, 8, 0, 7, 0, 6, 9, 8, 9, 9, 4, 9, 6, 3, 3, 4, 5, 0, 8, 0, 4, 6, 3, 0, 0, 0, 3, 3, 5, 9, 6, 7, 1, 5, 4, 1, 4, 1, 7, 9, 4, 6, 4, 5, 2, 9, 4, 9, 8, 8, 7, 6, 2, 3, 9, 3, 6, 7, 0, 2, 7, 0, 4, 1, 0, 5, 7, 0, 5, 9, 2, 3, 2, 8, 5, 8, 1, 9, 6, 7, 6, 7, 3, 0, 4, 5, 8, 8, 8, 6, 7, 4, 0, 5, 1, 5, 9, 6, 0, 9, 5, 8, 5, 7, 3, 9, 8, 3, 2, 6, 5, 7, 5, 1, 1, 5, 4, 1, 8, 7, 8, 2, 9, 6, 3, 3, 4, 0, 2, 4, 1, 1, 4, 7, 2, 7, 0, 2, 6, 8, 8, 8, 7, 7, 1, 2, 6, 2, 1, 6, 0, 2, 5, 8, 2, 4, 2, 3, 1, 5, 5, 4, 4, 0, 5, 4, 7, 0, 3, 4, 5, 5, 7, 5, 7, 0, 1, 1, 9, 7, 5, 0, 1, 9, 4, 3, 6, 5, 4, 0, 4, 5, 7, 2, 2, 2, 0, 5, 6, 4, 3, 7, 8, 6, 2, 6, 1, 1, 8, 5, 2, 5, 3, 2, 8, 5, 8, 4, 6, 1, 2, 3, 7, 6, 9, 0, 4, 5, 2, 3, 4, 9, 5, 5, 9, 4, 6, 4, 1, 1, 8, 9, 4, 2, 2, 3, 3, 0, 7, 1, 8, 8, 5, 0, 2, 7, 7, 1, 0, 1, 2, 1, 9, 0, 4, 1, 1, 0, 7, 3, 7, 2, 9, 0, 1, 8, 9, 0, 0, 6, 0, 9, 1, 6, 1, 2, 7, 8, 0, 5, 6, 8, 2, 5, 5, 1, 5, 9, 1, 8, 5, 3, 1, 2, 4, 0, 7, 3, 5, 2, 8, 0, 7, 1, 2, 3, 9, 8, 3, 8, 7, 7, 9, 7, 0, 9, 4, 0, 9, 6, 1, 9, 8, 6, 4, 7, 2, 9, 5, 4, 7, 1, 2, 1, 2, 3, 9, 2, 0, 5, 0, 0, 5, 5, 4, 0, 9, 9, 1, 0, 7, 7, 7, 4, 5, 1, 2, 0, 6, 3, 8, 9, 8, 4, 1, 0, 8, 3, 9, 8, 8, 7, 8, 3, 0, 0, 7, 4, 8, 0, 9, 9, 4, 7, 7, 2, 2, 1, 5, 1, 4, 0, 5, 5, 0, 8, 4, 7, 8, 9, 4, 2, 1, 7, 4, 4, 4, 9, 4, 3, 4, 0, 7, 7, 8, 0, 9, 1, 2, 6, 2, 9, 7, 1, 9, 9, 3, 3, 1, 2, 3, 5, 4, 3, 7, 4, 1, 4, 6, 2, 7, 5, 4, 6, 7, 7, 8, 1, 8, 1, 6, 2, 7, 5, 0, 1, 4, 4, 0, 1, 2, 0, 7, 6, 8, 8, 2, 8, 4, 5, 0, 0, 1, 7, 9, 7, 3, 5, 4, 0, 2, 8, 7, 1, 0, 8, 7, 2, 2, 4, 8, 2, 8, 0, 1, 5, 3, 8, 1, 7, 2, 9, 3, 7, 9, 5, 1, 8, 3, 0, 9, 0, 6, 2, 4, 2, 7, 6, 0, 9, 8, 8, 1, 5, 7, 7, 1, 9, 5, 4, 0, 0, 7, 8, 7, 3, 7, 0, 2, 5, 5, 1, 6, 7, 2, 0, 3, 2, 0, 4, 7, 8, 6, 4, 0, 1, 5, 3, 8, 3, 9, 7, 1, 7, 1, 0, 4, 8, 5, 0, 0, 6, 4, 1, 1, 2, 9, 0, 4, 2, 1, 3, 2, 7, 0, 1, 8, 5, 7, 0, 0, 5, 0, 4, 6, 2, 2, 5, 4, 1, 8, 2, 1, 5, 3, 8, 8, 9, 9, 0, 1, 8, 1, 2, 9, 0, 3, 1, 1, 4, 7, 8, 3, 4, 9, 0, 0, 8, 2, 8, 2, 9, 4, 7, 7, 0, 4, 2, 2, 5, 7, 3, 7, 4, 6, 0, 9, 3, 6, 5, 4, 1, 2, 1, 8, 1, 9, 4, 8, 9, 9, 3, 0, 7, 0, 0, 6, 1, 0, 4, 6, 4, 2, 2, 7, 0, 0, 0, 4, 0, 0, 1, 3, 0, 6, 5, 7, 9, 6, 4, 3, 7, 5, 1, 2, 7, 7, 5, 8, 0, 9, 1, 0, 1, 4, 9, 1, 2, 5, 3, 3, 0, 7, 1, 2, 7, 9, 3, 7, 4, 4, 4, 6, 7, 2, 7, 3, 1, 7, 8, 8, 7, 0, 1, 4, 0, 9, 7, 9, 9, 1, 2, 0, 4, 7, 4, 1, 4, 1, 7, 5, 7, 8, 9, 6, 0, 3, 1, 4, 7, 9, 3, 6, 7, 8, 4, 7, 4, 0, 8, 3, 0, 1, 7, 9, 6, 9, 1, 4, 6, 7, 1, 0, 6, 3, 7, 3, 1, 8, 6, 5, 9, 5, 8, 1, 0, 9, 0, 6, 6, 1, 1, 4, 7, 0, 0, 7, 5, 4, 9, 5, 4, 0, 4, 7, 2, 0, 8, 3, 8, 1, 1, 2, 4, 8, 1, 0, 8, 1, 8, 5, 3, 2, 7, 0, 2, 4, 9, 4, 2, 4, 9, 9, 6, 9, 9, 6, 7, 3, 4, 3, 3, 9, 3, 7, 7, 8, 1, 1, 0, 6, 5, 7, 9, 4, 7, 4, 7, 0, 4, 2, 9, 7, 7, 7, 5, 0, 1, 6, 3, 4, 6, 2, 0, 9, 8, 7, 8, 4, 4, 8, 9, 7, 1, 6, 7, 9, 9, 0, 1, 5, 1, 1, 3, 6, 7, 9, 8, 3, 3, 8, 5, 2, 4, 3, 6, 8, 0, 9, 0, 6, 9, 0, 1, 2, 8, 1, 8, 2, 1, 8, 1, 7, 1, 9, 1, 8, 3, 9, 4, 1, 0, 8, 4, 4, 6, 8, 2, 2, 5, 5, 0, 2, 4, 9, 8, 0, 1, 0, 0, 6, 8, 3, 4, 7, 7, 5, 9, 4, 5, 4, 6, 9, 9, 4, 8, 5, 2, 9, 6, 4, 0, 2, 8, 0, 1, 9, 2, 1, 6, 7, 1, 8, 5, 6, 4, 6, 4, 1, 1, 9, 8, 8, 9, 1, 2, 2, 0, 5, 2, 5, 0, 8, 3, 2, 3, 8, 6, 1, 5, 0, 3, 3, 1, 9, 2, 8, 7, 8, 2, 3, 6, 2, 5, 0, 9, 0, 7, 1, 1, 7, 9, 0, 1, 2, 7, 5, 4, 6, 3, 3, 2, 1, 0, 0, 9, 9, 8, 2, 9, 6, 2, 5, 4, 7, 2, 6, 5, 2, 6, 9, 3, 7, 0, 6, 3, 5, 4, 4, 3, 4, 6, 9, 8, 8, 6, 2, 0, 0, 3, 9, 2, 2, 8, 1, 9, 2, 2, 9, 3, 0, 2, 0, 8, 7, 6, 5, 0, 6, 3, 1, 3, 0, 9, 5, 4, 3, 9, 0, 8, 2, 9, 0, 7, 3, 5, 6, 8, 2, 1, 0, 0, 4, 5, 9, 3, 5, 0, 2, 0, 7, 4, 0, 8, 3, 3, 8, 0, 3, 8, 9, 4, 0, 8, 8, 6, 8, 2, 5, 7, 0, 3, 6, 8, 3, 5, 9, 2, 2, 8, 9, 4, 1, 0, 5, 5, 2, 2, 8, 2, 2, 6, 7, 4, 5, 3, 7, 4, 5, 8, 8, 3, 9, 5, 0, 6, 8, 6, 3, 6, 4, 7, 2, 7, 6, 5, 0, 3, 1, 7, 8, 6, 4, 7, 3, 3, 8, 0, 6, 9, 2, 8, 5, 4, 9, 6, 6, 2, 2, 0, 1, 1, 9, 2, 8, 2, 1, 9, 5, 8, 4, 8, 2, 3, 7, 2, 4, 4, 9, 6, 6, 2, 9, 8, 6, 5, 9, 2, 6, 5, 2, 1, 2, 7, 4, 4, 2, 7, 2, 6, 0, 0, 1, 5, 4, 0, 1, 9, 9, 5, 4, 5, 2, 9, 2, 6, 4, 5, 4, 8, 9, 0, 9, 5, 5, 7, 7, 9, 3, 6, 8, 4, 3, 9, 0, 1, 0, 2, 5, 2, 8, 7, 9, 7, 7, 7, 9, 2, 6, 0, 6, 7, 8, 1, 8, 0, 3, 8, 5, 0, 5, 6, 9, 1, 1, 2, 6, 8, 9, 7, 7, 5, 8, 6, 1, 4, 0, 1, 8, 4, 3, 4, 7, 9, 3, 7, 5, 5, 0, 9, 1, 2, 1, 6, 7, 4, 0, 9, 3, 4, 1, 1, 7, 8, 1, 0, 5, 9, 0, 0, 9, 5, 3, 8, 8, 2, 8, 5, 7, 0, 7, 0, 9, 6, 9, 2, 9, 4, 8, 5, 2, 0, 1, 6, 4, 1, 7, 4, 1, 7, 7, 8, 5, 7, 0, 4, 4, 2, 1, 3, 8, 0, 3, 2, 7, 5, 9, 1, 0, 4, 4, 7, 0, 6, 3, 1, 8, 4, 7, 2, 5, 9, 3, 1, 7, 1, 9, 2, 9, 6, 2, 6, 1, 8, 3, 9, 2, 2, 0, 4, 8, 4, 5, 1, 2, 2, 4, 4, 1, 8, 5, 7, 7, 7, 6, 5, 5, 7, 9, 9, 8, 2, 8, 2, 1, 3, 3, 4, 8, 9, 4, 0, 7, 0, 2, 8, 1, 2, 6, 1, 0, 5, 2, 9, 7, 2, 8, 7, 3, 7, 8, 1, 2, 1, 7, 4, 8, 8, 5, 0, 2, 0, 6, 1, 2, 6, 5, 0, 1, 5, 5, 2, 5, 1, 9, 8, 7, 1, 2, 7, 0, 9, 3, 1, 9, 0, 4, 2, 6, 5, 9, 9, 2, 2, 7, 1, 0, 1, 4, 2, 3, 7, 8, 4, 0, 4, 5, 1, 2, 9, 3, 5, 8, 0, 1, 9, 6, 7, 3, 7, 4, 4, 6, 0, 2, 1, 6, 3, 0, 7, 0, 5, 9, 8, 7, 2, 7, 9, 9, 4, 8, 8, 0, 1, 4, 4, 0, 2, 8, 1, 2, 1, 3, 3, 2, 7, 8, 7, 0, 4, 3, 4, 4, 5, 7, 9, 2, 5, 2, 4, 5, 0, 1, 7, 0, 7, 6, 0, 0, 2, 5, 1, 1, 2, 4, 6, 9, 8, 1, 0, 1, 6, 8, 5, 4, 0, 4, 0, 4, 9, 3, 8, 5, 2, 8, 6, 2, 8, 1, 4, 4, 0, 8, 7, 5, 2, 8, 7, 2, 9, 5, 9, 2, 1, 0, 4, 1, 7, 7, 1, 7, 3, 5, 8, 7, 2, 5, 1, 5, 2, 0, 0, 0, 1, 2, 4, 4, 8, 0, 3, 2, 0, 3, 5, 1, 3, 3, 0, 5, 1, 8, 3, 1, 8, 7, 8, 4, 2, 0, 0, 7, 8, 1, 2, 9, 0, 2, 8, 1, 4, 8, 8, 3, 0, 8, 5, 7, 5, 4, 7, 7, 0, 1, 8, 1, 9, 7, 0, 3, 1, 6, 5, 5, 3, 8, 9, 4, 0, 9, 5, 1, 7, 2, 1, 5, 2, 8, 3, 3, 0, 7, 1, 3, 4, 4, 5, 7, 0, 6, 7, 3, 3, 7, 8, 8, 2, 5, 4, 9, 7, 3, 2, 9, 3, 0, 5, 5, 6, 9, 1, 4, 1, 5, 6, 4, 1, 4, 0, 3, 3, 6, 3, 0, 8, 4, 7, 5, 5, 7, 0, 7, 9, 4, 4, 2, 9, 1, 7, 1, 6, 8, 8, 5, 8, 3, 8, 9, 3, 8, 0, 2, 1, 8, 4, 4, 0, 0, 9, 5, 3, 1, 5, 1, 3, 5, 0, 8, 2, 1, 5, 3, 0, 8, 2, 9, 0, 9, 0, 0, 4, 1, 2, 6, 6, 9, 1, 4, 9, 7, 6, 2, 6, 2, 9, 7, 8, 5, 0, 9, 0, 0, 0, 8, 1, 3, 2, 7, 5, 8, 4, 5, 2, 8, 9, 1, 9, 1, 8, 1, 5]\n"
          ]
        }
      ]
    }
  ]
}